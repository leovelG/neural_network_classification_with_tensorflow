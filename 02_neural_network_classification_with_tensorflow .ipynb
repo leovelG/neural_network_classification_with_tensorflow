{
  "nbformat": 4,
  "nbformat_minor": 0,
  "metadata": {
    "colab": {
      "name": "02_neural_network_classification_with_tensorflow.ipynb",
      "provenance": [],
      "collapsed_sections": []
    },
    "kernelspec": {
      "name": "python3",
      "display_name": "Python 3"
    },
    "language_info": {
      "name": "python"
    }
  },
  "cells": [
    {
      "cell_type": "markdown",
      "source": [
        "# Introduction to neural network calssification with TensorFlow \n",
        "\n",
        "In this notebook we're going to learn how to write neural networks for classification \n",
        "\n",
        "A few types of classification: \n",
        "* Binary classification \n",
        "* Multiclass classification \n",
        "* Multilabel classification "
      ],
      "metadata": {
        "id": "KRgMXrpDYAKo"
      }
    },
    {
      "cell_type": "markdown",
      "source": [
        "## Create a data to view and fit"
      ],
      "metadata": {
        "id": "ImN_os6GYq1x"
      }
    },
    {
      "cell_type": "code",
      "source": [
        "from sklearn.datasets import make_circles \n",
        "import tensorflow as tf\n",
        "# Make a 1000 expamples \n",
        "n_samples = 1000 \n",
        "\n",
        "# Create circles \n",
        "X, y = make_circles(n_samples,\n",
        "                    noise = 0.03,\n",
        "                    random_state = 42)"
      ],
      "metadata": {
        "id": "xeLczh7rYyOV"
      },
      "execution_count": null,
      "outputs": []
    },
    {
      "cell_type": "code",
      "source": [
        "# Check out features \n",
        "X[:10]"
      ],
      "metadata": {
        "colab": {
          "base_uri": "https://localhost:8080/"
        },
        "id": "qnnafzZMZRJm",
        "outputId": "9d74c4bf-2a42-4e08-e0c9-a7ab844ac56a"
      },
      "execution_count": null,
      "outputs": [
        {
          "output_type": "execute_result",
          "data": {
            "text/plain": [
              "array([[ 0.75424625,  0.23148074],\n",
              "       [-0.75615888,  0.15325888],\n",
              "       [-0.81539193,  0.17328203],\n",
              "       [-0.39373073,  0.69288277],\n",
              "       [ 0.44220765, -0.89672343],\n",
              "       [-0.47964637,  0.67643477],\n",
              "       [-0.01364836,  0.80334872],\n",
              "       [ 0.77151327,  0.14775959],\n",
              "       [-0.16932234, -0.79345575],\n",
              "       [-0.1214858 ,  1.02150905]])"
            ]
          },
          "metadata": {},
          "execution_count": 2
        }
      ]
    },
    {
      "cell_type": "code",
      "source": [
        "# Check out the labels\n",
        "y[:10]"
      ],
      "metadata": {
        "colab": {
          "base_uri": "https://localhost:8080/"
        },
        "id": "p2Tx7wgfZdRi",
        "outputId": "84be09c5-5855-4bbc-ead3-492ccc650eca"
      },
      "execution_count": null,
      "outputs": [
        {
          "output_type": "execute_result",
          "data": {
            "text/plain": [
              "array([1, 1, 1, 1, 0, 1, 1, 1, 1, 0])"
            ]
          },
          "metadata": {},
          "execution_count": 3
        }
      ]
    },
    {
      "cell_type": "code",
      "source": [
        "# We will visualize the data to understand it \n",
        "\n",
        "import pandas as pd\n",
        "circles = pd.DataFrame ({\"X0\": X[:,0], \"X1\" : X[:,1], \"label\" : y})"
      ],
      "metadata": {
        "id": "oHNLb2LtZfOF"
      },
      "execution_count": null,
      "outputs": []
    },
    {
      "cell_type": "code",
      "source": [
        "circles"
      ],
      "metadata": {
        "colab": {
          "base_uri": "https://localhost:8080/",
          "height": 424
        },
        "id": "fy5ieiqzaZw7",
        "outputId": "7d07d275-c22b-48c9-8364-5e1bfe8ffdce"
      },
      "execution_count": null,
      "outputs": [
        {
          "output_type": "execute_result",
          "data": {
            "text/plain": [
              "           X0        X1  label\n",
              "0    0.754246  0.231481      1\n",
              "1   -0.756159  0.153259      1\n",
              "2   -0.815392  0.173282      1\n",
              "3   -0.393731  0.692883      1\n",
              "4    0.442208 -0.896723      0\n",
              "..        ...       ...    ...\n",
              "995  0.244054  0.944125      0\n",
              "996 -0.978655 -0.272373      0\n",
              "997 -0.136900 -0.810012      1\n",
              "998  0.670362 -0.767502      0\n",
              "999  0.281057  0.963824      0\n",
              "\n",
              "[1000 rows x 3 columns]"
            ],
            "text/html": [
              "\n",
              "  <div id=\"df-39a4a88c-33cc-4d7f-aa18-e35b968998b1\">\n",
              "    <div class=\"colab-df-container\">\n",
              "      <div>\n",
              "<style scoped>\n",
              "    .dataframe tbody tr th:only-of-type {\n",
              "        vertical-align: middle;\n",
              "    }\n",
              "\n",
              "    .dataframe tbody tr th {\n",
              "        vertical-align: top;\n",
              "    }\n",
              "\n",
              "    .dataframe thead th {\n",
              "        text-align: right;\n",
              "    }\n",
              "</style>\n",
              "<table border=\"1\" class=\"dataframe\">\n",
              "  <thead>\n",
              "    <tr style=\"text-align: right;\">\n",
              "      <th></th>\n",
              "      <th>X0</th>\n",
              "      <th>X1</th>\n",
              "      <th>label</th>\n",
              "    </tr>\n",
              "  </thead>\n",
              "  <tbody>\n",
              "    <tr>\n",
              "      <th>0</th>\n",
              "      <td>0.754246</td>\n",
              "      <td>0.231481</td>\n",
              "      <td>1</td>\n",
              "    </tr>\n",
              "    <tr>\n",
              "      <th>1</th>\n",
              "      <td>-0.756159</td>\n",
              "      <td>0.153259</td>\n",
              "      <td>1</td>\n",
              "    </tr>\n",
              "    <tr>\n",
              "      <th>2</th>\n",
              "      <td>-0.815392</td>\n",
              "      <td>0.173282</td>\n",
              "      <td>1</td>\n",
              "    </tr>\n",
              "    <tr>\n",
              "      <th>3</th>\n",
              "      <td>-0.393731</td>\n",
              "      <td>0.692883</td>\n",
              "      <td>1</td>\n",
              "    </tr>\n",
              "    <tr>\n",
              "      <th>4</th>\n",
              "      <td>0.442208</td>\n",
              "      <td>-0.896723</td>\n",
              "      <td>0</td>\n",
              "    </tr>\n",
              "    <tr>\n",
              "      <th>...</th>\n",
              "      <td>...</td>\n",
              "      <td>...</td>\n",
              "      <td>...</td>\n",
              "    </tr>\n",
              "    <tr>\n",
              "      <th>995</th>\n",
              "      <td>0.244054</td>\n",
              "      <td>0.944125</td>\n",
              "      <td>0</td>\n",
              "    </tr>\n",
              "    <tr>\n",
              "      <th>996</th>\n",
              "      <td>-0.978655</td>\n",
              "      <td>-0.272373</td>\n",
              "      <td>0</td>\n",
              "    </tr>\n",
              "    <tr>\n",
              "      <th>997</th>\n",
              "      <td>-0.136900</td>\n",
              "      <td>-0.810012</td>\n",
              "      <td>1</td>\n",
              "    </tr>\n",
              "    <tr>\n",
              "      <th>998</th>\n",
              "      <td>0.670362</td>\n",
              "      <td>-0.767502</td>\n",
              "      <td>0</td>\n",
              "    </tr>\n",
              "    <tr>\n",
              "      <th>999</th>\n",
              "      <td>0.281057</td>\n",
              "      <td>0.963824</td>\n",
              "      <td>0</td>\n",
              "    </tr>\n",
              "  </tbody>\n",
              "</table>\n",
              "<p>1000 rows × 3 columns</p>\n",
              "</div>\n",
              "      <button class=\"colab-df-convert\" onclick=\"convertToInteractive('df-39a4a88c-33cc-4d7f-aa18-e35b968998b1')\"\n",
              "              title=\"Convert this dataframe to an interactive table.\"\n",
              "              style=\"display:none;\">\n",
              "        \n",
              "  <svg xmlns=\"http://www.w3.org/2000/svg\" height=\"24px\"viewBox=\"0 0 24 24\"\n",
              "       width=\"24px\">\n",
              "    <path d=\"M0 0h24v24H0V0z\" fill=\"none\"/>\n",
              "    <path d=\"M18.56 5.44l.94 2.06.94-2.06 2.06-.94-2.06-.94-.94-2.06-.94 2.06-2.06.94zm-11 1L8.5 8.5l.94-2.06 2.06-.94-2.06-.94L8.5 2.5l-.94 2.06-2.06.94zm10 10l.94 2.06.94-2.06 2.06-.94-2.06-.94-.94-2.06-.94 2.06-2.06.94z\"/><path d=\"M17.41 7.96l-1.37-1.37c-.4-.4-.92-.59-1.43-.59-.52 0-1.04.2-1.43.59L10.3 9.45l-7.72 7.72c-.78.78-.78 2.05 0 2.83L4 21.41c.39.39.9.59 1.41.59.51 0 1.02-.2 1.41-.59l7.78-7.78 2.81-2.81c.8-.78.8-2.07 0-2.86zM5.41 20L4 18.59l7.72-7.72 1.47 1.35L5.41 20z\"/>\n",
              "  </svg>\n",
              "      </button>\n",
              "      \n",
              "  <style>\n",
              "    .colab-df-container {\n",
              "      display:flex;\n",
              "      flex-wrap:wrap;\n",
              "      gap: 12px;\n",
              "    }\n",
              "\n",
              "    .colab-df-convert {\n",
              "      background-color: #E8F0FE;\n",
              "      border: none;\n",
              "      border-radius: 50%;\n",
              "      cursor: pointer;\n",
              "      display: none;\n",
              "      fill: #1967D2;\n",
              "      height: 32px;\n",
              "      padding: 0 0 0 0;\n",
              "      width: 32px;\n",
              "    }\n",
              "\n",
              "    .colab-df-convert:hover {\n",
              "      background-color: #E2EBFA;\n",
              "      box-shadow: 0px 1px 2px rgba(60, 64, 67, 0.3), 0px 1px 3px 1px rgba(60, 64, 67, 0.15);\n",
              "      fill: #174EA6;\n",
              "    }\n",
              "\n",
              "    [theme=dark] .colab-df-convert {\n",
              "      background-color: #3B4455;\n",
              "      fill: #D2E3FC;\n",
              "    }\n",
              "\n",
              "    [theme=dark] .colab-df-convert:hover {\n",
              "      background-color: #434B5C;\n",
              "      box-shadow: 0px 1px 3px 1px rgba(0, 0, 0, 0.15);\n",
              "      filter: drop-shadow(0px 1px 2px rgba(0, 0, 0, 0.3));\n",
              "      fill: #FFFFFF;\n",
              "    }\n",
              "  </style>\n",
              "\n",
              "      <script>\n",
              "        const buttonEl =\n",
              "          document.querySelector('#df-39a4a88c-33cc-4d7f-aa18-e35b968998b1 button.colab-df-convert');\n",
              "        buttonEl.style.display =\n",
              "          google.colab.kernel.accessAllowed ? 'block' : 'none';\n",
              "\n",
              "        async function convertToInteractive(key) {\n",
              "          const element = document.querySelector('#df-39a4a88c-33cc-4d7f-aa18-e35b968998b1');\n",
              "          const dataTable =\n",
              "            await google.colab.kernel.invokeFunction('convertToInteractive',\n",
              "                                                     [key], {});\n",
              "          if (!dataTable) return;\n",
              "\n",
              "          const docLinkHtml = 'Like what you see? Visit the ' +\n",
              "            '<a target=\"_blank\" href=https://colab.research.google.com/notebooks/data_table.ipynb>data table notebook</a>'\n",
              "            + ' to learn more about interactive tables.';\n",
              "          element.innerHTML = '';\n",
              "          dataTable['output_type'] = 'display_data';\n",
              "          await google.colab.output.renderOutput(dataTable, element);\n",
              "          const docLink = document.createElement('div');\n",
              "          docLink.innerHTML = docLinkHtml;\n",
              "          element.appendChild(docLink);\n",
              "        }\n",
              "      </script>\n",
              "    </div>\n",
              "  </div>\n",
              "  "
            ]
          },
          "metadata": {},
          "execution_count": 5
        }
      ]
    },
    {
      "cell_type": "code",
      "source": [
        "import matplotlib.pyplot as plt \n",
        "plt.scatter(X[:,0], X[:,1], c=y, cmap=plt.cm.RdYlBu)"
      ],
      "metadata": {
        "colab": {
          "base_uri": "https://localhost:8080/",
          "height": 282
        },
        "id": "3dr-LKjZabC7",
        "outputId": "a1eea324-ae16-4a6f-96fe-52157271faa4"
      },
      "execution_count": null,
      "outputs": [
        {
          "output_type": "execute_result",
          "data": {
            "text/plain": [
              "<matplotlib.collections.PathCollection at 0x7fa61ef7bed0>"
            ]
          },
          "metadata": {},
          "execution_count": 6
        },
        {
          "output_type": "display_data",
          "data": {
            "text/plain": [
              "<Figure size 432x288 with 1 Axes>"
            ],
            "image/png": "[encoded data removed]"
          },
          "metadata": {
            "needs_background": "light"
          }
        }
      ]
    },
    {
      "cell_type": "code",
      "source": [
        "# Check the shapes of the features and labels \n",
        "X.shape, y.shape "
      ],
      "metadata": {
        "colab": {
          "base_uri": "https://localhost:8080/"
        },
        "id": "t_B7aW8Da7zi",
        "outputId": "366480f3-10f8-451a-8140-0347c5407151"
      },
      "execution_count": null,
      "outputs": [
        {
          "output_type": "execute_result",
          "data": {
            "text/plain": [
              "((1000, 2), (1000,))"
            ]
          },
          "metadata": {},
          "execution_count": 7
        }
      ]
    },
    {
      "cell_type": "code",
      "source": [
        "# Check the number of sampes we're working with \n",
        "len(X), len(y)"
      ],
      "metadata": {
        "colab": {
          "base_uri": "https://localhost:8080/"
        },
        "id": "wUbJOSgQAwFO",
        "outputId": "808a0992-3c49-4ecc-9025-d376ff7a8ad3"
      },
      "execution_count": null,
      "outputs": [
        {
          "output_type": "execute_result",
          "data": {
            "text/plain": [
              "(1000, 1000)"
            ]
          },
          "metadata": {},
          "execution_count": 8
        }
      ]
    },
    {
      "cell_type": "markdown",
      "source": [
        "## Steps in modelling \n",
        "\n",
        "The steps in modelling with TensorFlow are typically: \n",
        "\n",
        "1. Create or import a model \n",
        "2. Complile the model \n",
        "3. Fit the model \n",
        "4. Evaluate the model \n",
        "5. Tweak \n",
        "6. Evaluate..."
      ],
      "metadata": {
        "id": "ji4ct2aNA3Gs"
      }
    },
    {
      "cell_type": "code",
      "source": [
        "# Set the random seed \n",
        "tf.random.set_seed(42)\n",
        "\n",
        "#1. Create a model(specified to needs in binary classification) using Sequential Api\n",
        "\n",
        "model_1 = tf.keras.Sequential([\n",
        "                             tf.keras.layers.Dense(1)\n",
        "])\n",
        "\n",
        "#2. Compile the model \n",
        "\n",
        "model_1.compile(loss= tf.keras.losses.BinaryCrossentropy(),\n",
        "                optimizer=tf.keras.optimizers.SGD(),\n",
        "                metrics=[\"accuracy\"])\n",
        "\n",
        "#3. Fit the model \n",
        "model_1.fit(X, y, epochs=50)"
      ],
      "metadata": {
        "id": "pJkYUmhaBJmJ",
        "colab": {
          "base_uri": "https://localhost:8080/"
        },
        "outputId": "c70801d9-bc2f-4885-9eb4-a95984640531"
      },
      "execution_count": null,
      "outputs": [
        {
          "output_type": "stream",
          "name": "stdout",
          "text": [
            "Epoch 1/50\n",
            "32/32 [==============================] - 1s 2ms/step - loss: 2.8544 - accuracy: 0.4600\n",
            "Epoch 2/50\n",
            "32/32 [==============================] - 0s 2ms/step - loss: 0.7131 - accuracy: 0.5430\n",
            "Epoch 3/50\n",
            "32/32 [==============================] - 0s 2ms/step - loss: 0.6973 - accuracy: 0.5090\n",
            "Epoch 4/50\n",
            "32/32 [==============================] - 0s 2ms/step - loss: 0.6950 - accuracy: 0.5010\n",
            "Epoch 5/50\n",
            "32/32 [==============================] - 0s 2ms/step - loss: 0.6942 - accuracy: 0.4830\n",
            "Epoch 6/50\n",
            "32/32 [==============================] - 0s 2ms/step - loss: 0.6938 - accuracy: 0.4990\n",
            "Epoch 7/50\n",
            "32/32 [==============================] - 0s 2ms/step - loss: 0.6943 - accuracy: 0.4880\n",
            "Epoch 8/50\n",
            "32/32 [==============================] - 0s 2ms/step - loss: 0.6941 - accuracy: 0.4950\n",
            "Epoch 9/50\n",
            "32/32 [==============================] - 0s 2ms/step - loss: 0.6940 - accuracy: 0.4840\n",
            "Epoch 10/50\n",
            "32/32 [==============================] - 0s 2ms/step - loss: 0.6938 - accuracy: 0.4820\n",
            "Epoch 11/50\n",
            "32/32 [==============================] - 0s 2ms/step - loss: 0.6944 - accuracy: 0.4640\n",
            "Epoch 12/50\n",
            "32/32 [==============================] - 0s 2ms/step - loss: 0.6945 - accuracy: 0.4800\n",
            "Epoch 13/50\n",
            "32/32 [==============================] - 0s 3ms/step - loss: 0.6943 - accuracy: 0.4830\n",
            "Epoch 14/50\n",
            "32/32 [==============================] - 0s 2ms/step - loss: 0.6944 - accuracy: 0.5030\n",
            "Epoch 15/50\n",
            "32/32 [==============================] - 0s 2ms/step - loss: 0.6941 - accuracy: 0.4510\n",
            "Epoch 16/50\n",
            "32/32 [==============================] - 0s 2ms/step - loss: 0.6944 - accuracy: 0.4880\n",
            "Epoch 17/50\n",
            "32/32 [==============================] - 0s 2ms/step - loss: 0.6941 - accuracy: 0.4910\n",
            "Epoch 18/50\n",
            "32/32 [==============================] - 0s 2ms/step - loss: 0.6940 - accuracy: 0.4760\n",
            "Epoch 19/50\n",
            "32/32 [==============================] - 0s 2ms/step - loss: 0.6941 - accuracy: 0.4820\n",
            "Epoch 20/50\n",
            "32/32 [==============================] - 0s 2ms/step - loss: 0.6941 - accuracy: 0.4560\n",
            "Epoch 21/50\n",
            "32/32 [==============================] - 0s 2ms/step - loss: 0.6939 - accuracy: 0.4900\n",
            "Epoch 22/50\n",
            "32/32 [==============================] - 0s 2ms/step - loss: 0.6942 - accuracy: 0.4690\n",
            "Epoch 23/50\n",
            "32/32 [==============================] - 0s 2ms/step - loss: 0.6940 - accuracy: 0.4840\n",
            "Epoch 24/50\n",
            "32/32 [==============================] - 0s 2ms/step - loss: 0.6942 - accuracy: 0.4680\n",
            "Epoch 25/50\n",
            "32/32 [==============================] - 0s 2ms/step - loss: 0.6939 - accuracy: 0.4890\n",
            "Epoch 26/50\n",
            "32/32 [==============================] - 0s 2ms/step - loss: 0.6943 - accuracy: 0.4740\n",
            "Epoch 27/50\n",
            "32/32 [==============================] - 0s 2ms/step - loss: 0.6938 - accuracy: 0.5060\n",
            "Epoch 28/50\n",
            "32/32 [==============================] - 0s 2ms/step - loss: 0.6943 - accuracy: 0.4690\n",
            "Epoch 29/50\n",
            "32/32 [==============================] - 0s 2ms/step - loss: 0.6942 - accuracy: 0.4620\n",
            "Epoch 30/50\n",
            "32/32 [==============================] - 0s 2ms/step - loss: 0.6941 - accuracy: 0.4870\n",
            "Epoch 31/50\n",
            "32/32 [==============================] - 0s 2ms/step - loss: 0.6942 - accuracy: 0.5230\n",
            "Epoch 32/50\n",
            "32/32 [==============================] - 0s 2ms/step - loss: 0.6941 - accuracy: 0.4670\n",
            "Epoch 33/50\n",
            "32/32 [==============================] - 0s 2ms/step - loss: 0.6942 - accuracy: 0.4760\n",
            "Epoch 34/50\n",
            "32/32 [==============================] - 0s 2ms/step - loss: 0.6946 - accuracy: 0.4590\n",
            "Epoch 35/50\n",
            "32/32 [==============================] - 0s 2ms/step - loss: 0.6941 - accuracy: 0.5010\n",
            "Epoch 36/50\n",
            "32/32 [==============================] - 0s 2ms/step - loss: 0.6943 - accuracy: 0.4710\n",
            "Epoch 37/50\n",
            "32/32 [==============================] - 0s 2ms/step - loss: 0.6940 - accuracy: 0.5020\n",
            "Epoch 38/50\n",
            "32/32 [==============================] - 0s 2ms/step - loss: 0.6940 - accuracy: 0.4670\n",
            "Epoch 39/50\n",
            "32/32 [==============================] - 0s 2ms/step - loss: 0.6941 - accuracy: 0.4350\n",
            "Epoch 40/50\n",
            "32/32 [==============================] - 0s 2ms/step - loss: 0.6948 - accuracy: 0.4720\n",
            "Epoch 41/50\n",
            "32/32 [==============================] - 0s 2ms/step - loss: 0.6941 - accuracy: 0.4730\n",
            "Epoch 42/50\n",
            "32/32 [==============================] - 0s 2ms/step - loss: 0.6941 - accuracy: 0.4640\n",
            "Epoch 43/50\n",
            "32/32 [==============================] - 0s 2ms/step - loss: 0.6942 - accuracy: 0.4850\n",
            "Epoch 44/50\n",
            "32/32 [==============================] - 0s 2ms/step - loss: 0.6935 - accuracy: 0.5080\n",
            "Epoch 45/50\n",
            "32/32 [==============================] - 0s 2ms/step - loss: 0.6944 - accuracy: 0.4710\n",
            "Epoch 46/50\n",
            "32/32 [==============================] - 0s 2ms/step - loss: 0.6942 - accuracy: 0.4850\n",
            "Epoch 47/50\n",
            "32/32 [==============================] - 0s 2ms/step - loss: 0.6939 - accuracy: 0.4940\n",
            "Epoch 48/50\n",
            "32/32 [==============================] - 0s 2ms/step - loss: 0.6939 - accuracy: 0.4900\n",
            "Epoch 49/50\n",
            "32/32 [==============================] - 0s 2ms/step - loss: 0.6941 - accuracy: 0.4770\n",
            "Epoch 50/50\n",
            "32/32 [==============================] - 0s 1ms/step - loss: 0.6941 - accuracy: 0.4980\n"
          ]
        },
        {
          "output_type": "execute_result",
          "data": {
            "text/plain": [
              "<keras.callbacks.History at 0x7fa61acbd8d0>"
            ]
          },
          "metadata": {},
          "execution_count": 9
        }
      ]
    },
    {
      "cell_type": "markdown",
      "source": [
        "Since we're working on a binary classification problem and our model is getting around fifty percent accuracy it means the algorithm is guessing. \n",
        "So we will add an extra layer  "
      ],
      "metadata": {
        "id": "NOeKit0ctl15"
      }
    },
    {
      "cell_type": "code",
      "source": [
        "# Set the random seed\n",
        "tf.random.set_seed(42)\n",
        "\n",
        "#1. Create a model, this time with 2 layers \n",
        "model_2 = tf.keras.Sequential([\n",
        "                               tf.keras.layers.Dense(1),\n",
        "                               tf.keras.layers.Dense(1)\n",
        "])\n",
        "\n",
        "#2. Compile the model \n",
        "model_2.compile(loss=tf.keras.losses.BinaryCrossentropy(),\n",
        "                optimizer = tf.keras.optimizers.SGD(),\n",
        "                metrics= [\"accuracy\"])\n",
        "\n",
        "#3. Fit the model \n",
        "model_2.fit(X, y, epochs=100, verbose=0)"
      ],
      "metadata": {
        "colab": {
          "base_uri": "https://localhost:8080/"
        },
        "id": "99Z2Geekvkuc",
        "outputId": "7dd70b34-e6e8-4521-c455-223614148f1a"
      },
      "execution_count": null,
      "outputs": [
        {
          "output_type": "execute_result",
          "data": {
            "text/plain": [
              "<keras.callbacks.History at 0x7fc873cdba90>"
            ]
          },
          "metadata": {},
          "execution_count": 9
        }
      ]
    },
    {
      "cell_type": "code",
      "source": [
        "#4. Evaluate the model \n",
        "model_2.evaluate(X, y)"
      ],
      "metadata": {
        "colab": {
          "base_uri": "https://localhost:8080/"
        },
        "id": "obIuIHvawb-E",
        "outputId": "485a8ce4-b29c-4d80-d769-f282a0a3d363"
      },
      "execution_count": null,
      "outputs": [
        {
          "output_type": "stream",
          "name": "stdout",
          "text": [
            "32/32 [==============================] - 0s 1ms/step - loss: 0.6933 - accuracy: 0.5000\n"
          ]
        },
        {
          "output_type": "execute_result",
          "data": {
            "text/plain": [
              "[0.6933314800262451, 0.5]"
            ]
          },
          "metadata": {},
          "execution_count": 10
        }
      ]
    },
    {
      "cell_type": "markdown",
      "source": [
        "## Improving our model \n",
        "\n",
        "Let's look into our bag of trick to see how we can improve our model. \n",
        "\n",
        "1. Create a model - we might to add more layers or increase the number of hiden units.\n",
        "2. Compiling a model - here we might want to choose a diferent optimization function.\n",
        "3. Fitting a model - fight our model for more epochs, leave it training for longer "
      ],
      "metadata": {
        "id": "tI1HVJ9XwsKi"
      }
    },
    {
      "cell_type": "code",
      "source": [
        "# Set the random seed \n",
        "tf.random.set_seed(42)\n",
        "\n",
        "# 1. Create the model () \n",
        "model_3 = tf.keras.Sequential([\n",
        "                               tf.keras.layers.Dense(100), # add 100 dense neurons \n",
        "                               tf.keras.layers.Dense(10), # add another layer with 10 neurons \n",
        "                               tf.keras.layers.Dense(1)\n",
        "])\n",
        "\n",
        "#2. Compile the model \n",
        "model_3.compile(loss=tf.keras.losses.BinaryCrossentropy(),\n",
        "                optimizer=tf.keras.optimizers.Adam(),\n",
        "                metrics=[\"accuracy\"])\n",
        "\n",
        "#3. Fit the model \n",
        "model_3.fit(X, y, epochs=100, verbose=0 )"
      ],
      "metadata": {
        "colab": {
          "base_uri": "https://localhost:8080/"
        },
        "id": "RT9Cco9U1Cco",
        "outputId": "a4493a81-08d5-4373-c49f-7574b9e8cbea"
      },
      "execution_count": null,
      "outputs": [
        {
          "output_type": "execute_result",
          "data": {
            "text/plain": [
              "<keras.callbacks.History at 0x7fc86f0b1b90>"
            ]
          },
          "metadata": {},
          "execution_count": 11
        }
      ]
    },
    {
      "cell_type": "code",
      "source": [
        "model_3.predict(X)"
      ],
      "metadata": {
        "colab": {
          "base_uri": "https://localhost:8080/"
        },
        "id": "acU-ZG6h33jc",
        "outputId": "019ecfa5-0a74-4a78-d104-41dcc3023ced"
      },
      "execution_count": null,
      "outputs": [
        {
          "output_type": "execute_result",
          "data": {
            "text/plain": [
              "array([[0.48793244],\n",
              "       [0.55887616],\n",
              "       [0.56292856],\n",
              "       [0.5705068 ],\n",
              "       [0.44141158],\n",
              "       [0.5738823 ],\n",
              "       [0.5576486 ],\n",
              "       [0.48246637],\n",
              "       [0.47755855],\n",
              "       [0.5750227 ],\n",
              "       [0.5148492 ],\n",
              "       [0.53087693],\n",
              "       [0.5643773 ],\n",
              "       [0.45787305],\n",
              "       [0.45052725],\n",
              "       [0.46129915],\n",
              "       [0.54055846],\n",
              "       [0.46380937],\n",
              "       [0.54798055],\n",
              "       [0.50375706],\n",
              "       [0.50630444],\n",
              "       [0.58775467],\n",
              "       [0.45902476],\n",
              "       [0.4912331 ],\n",
              "       [0.5832161 ],\n",
              "       [0.57042587],\n",
              "       [0.5523935 ],\n",
              "       [0.4631735 ],\n",
              "       [0.4577342 ],\n",
              "       [0.4544098 ],\n",
              "       [0.47872254],\n",
              "       [0.57856053],\n",
              "       [0.55546165],\n",
              "       [0.46339142],\n",
              "       [0.45849174],\n",
              "       [0.589867  ],\n",
              "       [0.57247376],\n",
              "       [0.529744  ],\n",
              "       [0.45870548],\n",
              "       [0.51092875],\n",
              "       [0.49994174],\n",
              "       [0.5463086 ],\n",
              "       [0.5109905 ],\n",
              "       [0.45797244],\n",
              "       [0.52232754],\n",
              "       [0.53888047],\n",
              "       [0.44872287],\n",
              "       [0.5443396 ],\n",
              "       [0.4354793 ],\n",
              "       [0.49381852],\n",
              "       [0.5227159 ],\n",
              "       [0.4646489 ],\n",
              "       [0.5530756 ],\n",
              "       [0.52247477],\n",
              "       [0.483074  ],\n",
              "       [0.48762774],\n",
              "       [0.55282235],\n",
              "       [0.4715016 ],\n",
              "       [0.5812109 ],\n",
              "       [0.50469506],\n",
              "       [0.5187714 ],\n",
              "       [0.50205857],\n",
              "       [0.5015654 ],\n",
              "       [0.58532816],\n",
              "       [0.5440112 ],\n",
              "       [0.57291   ],\n",
              "       [0.5665481 ],\n",
              "       [0.47396824],\n",
              "       [0.5214058 ],\n",
              "       [0.5014205 ],\n",
              "       [0.55506355],\n",
              "       [0.45795158],\n",
              "       [0.53314   ],\n",
              "       [0.5574871 ],\n",
              "       [0.52533907],\n",
              "       [0.5309001 ],\n",
              "       [0.56341714],\n",
              "       [0.4941491 ],\n",
              "       [0.5403438 ],\n",
              "       [0.5147371 ],\n",
              "       [0.56719136],\n",
              "       [0.5162399 ],\n",
              "       [0.5377099 ],\n",
              "       [0.52235174],\n",
              "       [0.50248665],\n",
              "       [0.50764084],\n",
              "       [0.46971345],\n",
              "       [0.5680983 ],\n",
              "       [0.55303395],\n",
              "       [0.49907547],\n",
              "       [0.45178324],\n",
              "       [0.44190112],\n",
              "       [0.48661467],\n",
              "       [0.5824919 ],\n",
              "       [0.53023183],\n",
              "       [0.4341056 ],\n",
              "       [0.54515874],\n",
              "       [0.54271156],\n",
              "       [0.5178724 ],\n",
              "       [0.49640214],\n",
              "       [0.56353134],\n",
              "       [0.4714284 ],\n",
              "       [0.45357978],\n",
              "       [0.55489194],\n",
              "       [0.56035334],\n",
              "       [0.56911594],\n",
              "       [0.51029974],\n",
              "       [0.4555856 ],\n",
              "       [0.58254814],\n",
              "       [0.45634753],\n",
              "       [0.49066037],\n",
              "       [0.50521857],\n",
              "       [0.46990067],\n",
              "       [0.50882936],\n",
              "       [0.53646773],\n",
              "       [0.43836978],\n",
              "       [0.586822  ],\n",
              "       [0.46414182],\n",
              "       [0.49692413],\n",
              "       [0.5252755 ],\n",
              "       [0.46029443],\n",
              "       [0.43716383],\n",
              "       [0.57029045],\n",
              "       [0.5582319 ],\n",
              "       [0.5745439 ],\n",
              "       [0.51371473],\n",
              "       [0.5269222 ],\n",
              "       [0.44201532],\n",
              "       [0.47215536],\n",
              "       [0.5221316 ],\n",
              "       [0.54067624],\n",
              "       [0.4809265 ],\n",
              "       [0.5480633 ],\n",
              "       [0.46937695],\n",
              "       [0.49083295],\n",
              "       [0.5120684 ],\n",
              "       [0.56367093],\n",
              "       [0.5810441 ],\n",
              "       [0.48329034],\n",
              "       [0.52797556],\n",
              "       [0.49815473],\n",
              "       [0.56008303],\n",
              "       [0.5666287 ],\n",
              "       [0.5404358 ],\n",
              "       [0.46073082],\n",
              "       [0.4533254 ],\n",
              "       [0.5121634 ],\n",
              "       [0.5652165 ],\n",
              "       [0.5033346 ],\n",
              "       [0.50008386],\n",
              "       [0.5644944 ],\n",
              "       [0.58122116],\n",
              "       [0.46355522],\n",
              "       [0.44018224],\n",
              "       [0.45463428],\n",
              "       [0.44468868],\n",
              "       [0.5129018 ],\n",
              "       [0.5684135 ],\n",
              "       [0.5153595 ],\n",
              "       [0.46175715],\n",
              "       [0.54278827],\n",
              "       [0.54115677],\n",
              "       [0.56279004],\n",
              "       [0.57015985],\n",
              "       [0.47425085],\n",
              "       [0.57031876],\n",
              "       [0.5231678 ],\n",
              "       [0.5726742 ],\n",
              "       [0.5087248 ],\n",
              "       [0.5131944 ],\n",
              "       [0.46650687],\n",
              "       [0.452177  ],\n",
              "       [0.55751324],\n",
              "       [0.46757746],\n",
              "       [0.4504148 ],\n",
              "       [0.46598044],\n",
              "       [0.55641145],\n",
              "       [0.55418396],\n",
              "       [0.5166021 ],\n",
              "       [0.57122195],\n",
              "       [0.45476636],\n",
              "       [0.57170045],\n",
              "       [0.45613644],\n",
              "       [0.48998255],\n",
              "       [0.49082306],\n",
              "       [0.5755754 ],\n",
              "       [0.47046173],\n",
              "       [0.4612751 ],\n",
              "       [0.4544208 ],\n",
              "       [0.5550502 ],\n",
              "       [0.45591846],\n",
              "       [0.4983502 ],\n",
              "       [0.56910944],\n",
              "       [0.5840393 ],\n",
              "       [0.5831875 ],\n",
              "       [0.44692492],\n",
              "       [0.4895443 ],\n",
              "       [0.58347774],\n",
              "       [0.5498082 ],\n",
              "       [0.52873796],\n",
              "       [0.48503062],\n",
              "       [0.49466774],\n",
              "       [0.5716709 ],\n",
              "       [0.51192486],\n",
              "       [0.4946484 ],\n",
              "       [0.53863335],\n",
              "       [0.5864412 ],\n",
              "       [0.45271984],\n",
              "       [0.46110705],\n",
              "       [0.5024095 ],\n",
              "       [0.52208364],\n",
              "       [0.57922006],\n",
              "       [0.45411396],\n",
              "       [0.49826103],\n",
              "       [0.56385213],\n",
              "       [0.48878673],\n",
              "       [0.5705982 ],\n",
              "       [0.56237394],\n",
              "       [0.45640334],\n",
              "       [0.56574315],\n",
              "       [0.51824903],\n",
              "       [0.5619873 ],\n",
              "       [0.4615293 ],\n",
              "       [0.50293833],\n",
              "       [0.45784494],\n",
              "       [0.46390358],\n",
              "       [0.50197357],\n",
              "       [0.47411808],\n",
              "       [0.45533094],\n",
              "       [0.49670237],\n",
              "       [0.48346567],\n",
              "       [0.47111344],\n",
              "       [0.45382726],\n",
              "       [0.527955  ],\n",
              "       [0.49023238],\n",
              "       [0.48824835],\n",
              "       [0.5751292 ],\n",
              "       [0.4528249 ],\n",
              "       [0.58921343],\n",
              "       [0.49295333],\n",
              "       [0.46616346],\n",
              "       [0.5827441 ],\n",
              "       [0.48128334],\n",
              "       [0.5211881 ],\n",
              "       [0.5207991 ],\n",
              "       [0.5598261 ],\n",
              "       [0.44012457],\n",
              "       [0.5289177 ],\n",
              "       [0.53323257],\n",
              "       [0.53275865],\n",
              "       [0.5325884 ],\n",
              "       [0.46724117],\n",
              "       [0.52960515],\n",
              "       [0.46257344],\n",
              "       [0.4495705 ],\n",
              "       [0.50163406],\n",
              "       [0.48375484],\n",
              "       [0.45157602],\n",
              "       [0.45120004],\n",
              "       [0.46838307],\n",
              "       [0.56545764],\n",
              "       [0.4466961 ],\n",
              "       [0.5439796 ],\n",
              "       [0.5527148 ],\n",
              "       [0.4710863 ],\n",
              "       [0.4704716 ],\n",
              "       [0.5222314 ],\n",
              "       [0.45582077],\n",
              "       [0.5592408 ],\n",
              "       [0.45295691],\n",
              "       [0.45494014],\n",
              "       [0.56422174],\n",
              "       [0.4594964 ],\n",
              "       [0.56313145],\n",
              "       [0.48910725],\n",
              "       [0.47746998],\n",
              "       [0.5880551 ],\n",
              "       [0.54670054],\n",
              "       [0.53193873],\n",
              "       [0.5296442 ],\n",
              "       [0.53121305],\n",
              "       [0.52472144],\n",
              "       [0.56876636],\n",
              "       [0.53071   ],\n",
              "       [0.58306974],\n",
              "       [0.56969535],\n",
              "       [0.47313848],\n",
              "       [0.4415905 ],\n",
              "       [0.57428735],\n",
              "       [0.45652094],\n",
              "       [0.45386612],\n",
              "       [0.5230834 ],\n",
              "       [0.47285065],\n",
              "       [0.4438894 ],\n",
              "       [0.4642362 ],\n",
              "       [0.44352007],\n",
              "       [0.45260575],\n",
              "       [0.44262144],\n",
              "       [0.46979997],\n",
              "       [0.58320427],\n",
              "       [0.49836853],\n",
              "       [0.43970105],\n",
              "       [0.45412007],\n",
              "       [0.44110712],\n",
              "       [0.5356652 ],\n",
              "       [0.45371193],\n",
              "       [0.48427853],\n",
              "       [0.5233986 ],\n",
              "       [0.4533332 ],\n",
              "       [0.5200838 ],\n",
              "       [0.53954595],\n",
              "       [0.4904005 ],\n",
              "       [0.5289723 ],\n",
              "       [0.5671213 ],\n",
              "       [0.4432863 ],\n",
              "       [0.439771  ],\n",
              "       [0.5739998 ],\n",
              "       [0.4741795 ],\n",
              "       [0.5654863 ],\n",
              "       [0.57990974],\n",
              "       [0.5298414 ],\n",
              "       [0.5774921 ],\n",
              "       [0.5198557 ],\n",
              "       [0.5577797 ],\n",
              "       [0.53454024],\n",
              "       [0.4774334 ],\n",
              "       [0.47960937],\n",
              "       [0.45131412],\n",
              "       [0.5703052 ],\n",
              "       [0.57023585],\n",
              "       [0.5682608 ],\n",
              "       [0.5064123 ],\n",
              "       [0.5637066 ],\n",
              "       [0.5533664 ],\n",
              "       [0.46095812],\n",
              "       [0.50712293],\n",
              "       [0.5706526 ],\n",
              "       [0.5069176 ],\n",
              "       [0.46533373],\n",
              "       [0.49284896],\n",
              "       [0.447447  ],\n",
              "       [0.44260535],\n",
              "       [0.5865735 ],\n",
              "       [0.5664531 ],\n",
              "       [0.4508944 ],\n",
              "       [0.44010136],\n",
              "       [0.50843513],\n",
              "       [0.45891318],\n",
              "       [0.5434262 ],\n",
              "       [0.4521756 ],\n",
              "       [0.5897578 ],\n",
              "       [0.54371977],\n",
              "       [0.46240795],\n",
              "       [0.52572185],\n",
              "       [0.52775097],\n",
              "       [0.57390296],\n",
              "       [0.5222438 ],\n",
              "       [0.43621713],\n",
              "       [0.49266988],\n",
              "       [0.57648426],\n",
              "       [0.440386  ],\n",
              "       [0.53049034],\n",
              "       [0.5750888 ],\n",
              "       [0.44151852],\n",
              "       [0.5849698 ],\n",
              "       [0.48509848],\n",
              "       [0.53909034],\n",
              "       [0.5875091 ],\n",
              "       [0.44901565],\n",
              "       [0.4768587 ],\n",
              "       [0.58455515],\n",
              "       [0.56962854],\n",
              "       [0.57748866],\n",
              "       [0.58892024],\n",
              "       [0.46738017],\n",
              "       [0.5556815 ],\n",
              "       [0.45102328],\n",
              "       [0.5298836 ],\n",
              "       [0.45618796],\n",
              "       [0.51012546],\n",
              "       [0.56611246],\n",
              "       [0.58029443],\n",
              "       [0.5289211 ],\n",
              "       [0.5714936 ],\n",
              "       [0.5786763 ],\n",
              "       [0.45554766],\n",
              "       [0.47771916],\n",
              "       [0.57021844],\n",
              "       [0.46479288],\n",
              "       [0.53989017],\n",
              "       [0.58790606],\n",
              "       [0.49669278],\n",
              "       [0.570807  ],\n",
              "       [0.55448616],\n",
              "       [0.5330157 ],\n",
              "       [0.5141853 ],\n",
              "       [0.44631463],\n",
              "       [0.44018754],\n",
              "       [0.5504334 ],\n",
              "       [0.47011328],\n",
              "       [0.47921672],\n",
              "       [0.44495678],\n",
              "       [0.49808282],\n",
              "       [0.49317896],\n",
              "       [0.55050844],\n",
              "       [0.56962955],\n",
              "       [0.4551013 ],\n",
              "       [0.49226886],\n",
              "       [0.50745016],\n",
              "       [0.47376886],\n",
              "       [0.4852179 ],\n",
              "       [0.45180938],\n",
              "       [0.5328445 ],\n",
              "       [0.54863805],\n",
              "       [0.50820714],\n",
              "       [0.570554  ],\n",
              "       [0.5720334 ],\n",
              "       [0.49644265],\n",
              "       [0.48503932],\n",
              "       [0.44149494],\n",
              "       [0.47927135],\n",
              "       [0.56806546],\n",
              "       [0.45131916],\n",
              "       [0.5231434 ],\n",
              "       [0.43783134],\n",
              "       [0.46393222],\n",
              "       [0.535166  ],\n",
              "       [0.5134583 ],\n",
              "       [0.5653004 ],\n",
              "       [0.5469415 ],\n",
              "       [0.53547066],\n",
              "       [0.466122  ],\n",
              "       [0.4737218 ],\n",
              "       [0.44242188],\n",
              "       [0.5413746 ],\n",
              "       [0.47164926],\n",
              "       [0.5888469 ],\n",
              "       [0.46117026],\n",
              "       [0.4646602 ],\n",
              "       [0.5508245 ],\n",
              "       [0.5774399 ],\n",
              "       [0.52292997],\n",
              "       [0.4589297 ],\n",
              "       [0.57133424],\n",
              "       [0.5026893 ],\n",
              "       [0.5274163 ],\n",
              "       [0.55851704],\n",
              "       [0.5865418 ],\n",
              "       [0.57292354],\n",
              "       [0.571189  ],\n",
              "       [0.5321395 ],\n",
              "       [0.46951768],\n",
              "       [0.4454809 ],\n",
              "       [0.5849842 ],\n",
              "       [0.5622963 ],\n",
              "       [0.56396896],\n",
              "       [0.46243668],\n",
              "       [0.572152  ],\n",
              "       [0.45947957],\n",
              "       [0.44160444],\n",
              "       [0.5243159 ],\n",
              "       [0.55705595],\n",
              "       [0.53830993],\n",
              "       [0.4582052 ],\n",
              "       [0.44833654],\n",
              "       [0.5548732 ],\n",
              "       [0.5607388 ],\n",
              "       [0.43948132],\n",
              "       [0.4862345 ],\n",
              "       [0.44143015],\n",
              "       [0.44700608],\n",
              "       [0.5393    ],\n",
              "       [0.45076904],\n",
              "       [0.53882635],\n",
              "       [0.48388803],\n",
              "       [0.4654349 ],\n",
              "       [0.45446864],\n",
              "       [0.45254126],\n",
              "       [0.54779017],\n",
              "       [0.539852  ],\n",
              "       [0.5463902 ],\n",
              "       [0.5444541 ],\n",
              "       [0.47647732],\n",
              "       [0.44585288],\n",
              "       [0.49506584],\n",
              "       [0.4953826 ],\n",
              "       [0.49810806],\n",
              "       [0.48935977],\n",
              "       [0.58634543],\n",
              "       [0.45869964],\n",
              "       [0.46327686],\n",
              "       [0.54280084],\n",
              "       [0.5493708 ],\n",
              "       [0.5517616 ],\n",
              "       [0.4420045 ],\n",
              "       [0.5849457 ],\n",
              "       [0.44040716],\n",
              "       [0.44293678],\n",
              "       [0.47292826],\n",
              "       [0.46449983],\n",
              "       [0.57611495],\n",
              "       [0.5866791 ],\n",
              "       [0.44475713],\n",
              "       [0.45423165],\n",
              "       [0.523982  ],\n",
              "       [0.45663238],\n",
              "       [0.5712523 ],\n",
              "       [0.45277104],\n",
              "       [0.45878586],\n",
              "       [0.55283594],\n",
              "       [0.5555486 ],\n",
              "       [0.4985436 ],\n",
              "       [0.4883406 ],\n",
              "       [0.4732554 ],\n",
              "       [0.49763072],\n",
              "       [0.54517156],\n",
              "       [0.58109593],\n",
              "       [0.5928483 ],\n",
              "       [0.4649485 ],\n",
              "       [0.48055035],\n",
              "       [0.47084677],\n",
              "       [0.56902087],\n",
              "       [0.4792926 ],\n",
              "       [0.48490116],\n",
              "       [0.4410161 ],\n",
              "       [0.5058967 ],\n",
              "       [0.4966208 ],\n",
              "       [0.58877623],\n",
              "       [0.5548477 ],\n",
              "       [0.54508495],\n",
              "       [0.5103615 ],\n",
              "       [0.52242726],\n",
              "       [0.5571846 ],\n",
              "       [0.53553545],\n",
              "       [0.4841919 ],\n",
              "       [0.44087434],\n",
              "       [0.5829691 ],\n",
              "       [0.5274704 ],\n",
              "       [0.56119853],\n",
              "       [0.44079   ],\n",
              "       [0.5883228 ],\n",
              "       [0.5458005 ],\n",
              "       [0.56855756],\n",
              "       [0.45773816],\n",
              "       [0.5642259 ],\n",
              "       [0.45292622],\n",
              "       [0.47852176],\n",
              "       [0.5026111 ],\n",
              "       [0.5359279 ],\n",
              "       [0.56645656],\n",
              "       [0.56300795],\n",
              "       [0.4474509 ],\n",
              "       [0.5725418 ],\n",
              "       [0.509697  ],\n",
              "       [0.47668558],\n",
              "       [0.45567665],\n",
              "       [0.4608999 ],\n",
              "       [0.5485154 ],\n",
              "       [0.50175494],\n",
              "       [0.47801557],\n",
              "       [0.5857373 ],\n",
              "       [0.4700586 ],\n",
              "       [0.49630216],\n",
              "       [0.5598136 ],\n",
              "       [0.55085915],\n",
              "       [0.43630356],\n",
              "       [0.57420796],\n",
              "       [0.51346385],\n",
              "       [0.48573264],\n",
              "       [0.45606235],\n",
              "       [0.5802694 ],\n",
              "       [0.5647974 ],\n",
              "       [0.5303153 ],\n",
              "       [0.5091276 ],\n",
              "       [0.4756235 ],\n",
              "       [0.4537674 ],\n",
              "       [0.57523805],\n",
              "       [0.44256523],\n",
              "       [0.44691128],\n",
              "       [0.5588287 ],\n",
              "       [0.5017558 ],\n",
              "       [0.48047996],\n",
              "       [0.508735  ],\n",
              "       [0.5265169 ],\n",
              "       [0.5163802 ],\n",
              "       [0.4433166 ],\n",
              "       [0.49857515],\n",
              "       [0.5529851 ],\n",
              "       [0.49541658],\n",
              "       [0.5860806 ],\n",
              "       [0.5646734 ],\n",
              "       [0.49944058],\n",
              "       [0.5727569 ],\n",
              "       [0.5505975 ],\n",
              "       [0.47601557],\n",
              "       [0.580307  ],\n",
              "       [0.53106374],\n",
              "       [0.5451122 ],\n",
              "       [0.52286935],\n",
              "       [0.56002814],\n",
              "       [0.47275504],\n",
              "       [0.56986547],\n",
              "       [0.49930364],\n",
              "       [0.5568709 ],\n",
              "       [0.5679769 ],\n",
              "       [0.4588462 ],\n",
              "       [0.5881503 ],\n",
              "       [0.56177247],\n",
              "       [0.5554645 ],\n",
              "       [0.54768   ],\n",
              "       [0.584134  ],\n",
              "       [0.51887   ],\n",
              "       [0.542424  ],\n",
              "       [0.5694584 ],\n",
              "       [0.5678125 ],\n",
              "       [0.57363176],\n",
              "       [0.45923638],\n",
              "       [0.48275754],\n",
              "       [0.46373007],\n",
              "       [0.4969405 ],\n",
              "       [0.45605782],\n",
              "       [0.57991   ],\n",
              "       [0.47950447],\n",
              "       [0.5833476 ],\n",
              "       [0.4751769 ],\n",
              "       [0.4796806 ],\n",
              "       [0.5003795 ],\n",
              "       [0.46363926],\n",
              "       [0.45273134],\n",
              "       [0.48271504],\n",
              "       [0.45675367],\n",
              "       [0.4471154 ],\n",
              "       [0.53800875],\n",
              "       [0.5661934 ],\n",
              "       [0.46676803],\n",
              "       [0.5756125 ],\n",
              "       [0.48461977],\n",
              "       [0.4530747 ],\n",
              "       [0.4373933 ],\n",
              "       [0.45644328],\n",
              "       [0.46274763],\n",
              "       [0.5760388 ],\n",
              "       [0.48982635],\n",
              "       [0.4569298 ],\n",
              "       [0.45846745],\n",
              "       [0.44117466],\n",
              "       [0.45950797],\n",
              "       [0.4837134 ],\n",
              "       [0.5688844 ],\n",
              "       [0.4907054 ],\n",
              "       [0.5815505 ],\n",
              "       [0.4848201 ],\n",
              "       [0.4755205 ],\n",
              "       [0.47529724],\n",
              "       [0.45520955],\n",
              "       [0.4965739 ],\n",
              "       [0.5306202 ],\n",
              "       [0.4588904 ],\n",
              "       [0.58586   ],\n",
              "       [0.46111193],\n",
              "       [0.5801484 ],\n",
              "       [0.5223268 ],\n",
              "       [0.46758047],\n",
              "       [0.5505183 ],\n",
              "       [0.557878  ],\n",
              "       [0.5807992 ],\n",
              "       [0.57110333],\n",
              "       [0.5484874 ],\n",
              "       [0.44401228],\n",
              "       [0.43620455],\n",
              "       [0.5508052 ],\n",
              "       [0.5320506 ],\n",
              "       [0.5344568 ],\n",
              "       [0.57256746],\n",
              "       [0.56598806],\n",
              "       [0.5081097 ],\n",
              "       [0.58199966],\n",
              "       [0.44380924],\n",
              "       [0.4498556 ],\n",
              "       [0.5815741 ],\n",
              "       [0.56717473],\n",
              "       [0.49022582],\n",
              "       [0.54571295],\n",
              "       [0.46918514],\n",
              "       [0.51466167],\n",
              "       [0.48756498],\n",
              "       [0.43896666],\n",
              "       [0.57140654],\n",
              "       [0.5615322 ],\n",
              "       [0.5168855 ],\n",
              "       [0.5533537 ],\n",
              "       [0.5211257 ],\n",
              "       [0.558445  ],\n",
              "       [0.56400645],\n",
              "       [0.46269313],\n",
              "       [0.5561987 ],\n",
              "       [0.54678774],\n",
              "       [0.5241823 ],\n",
              "       [0.44213057],\n",
              "       [0.58126277],\n",
              "       [0.52579105],\n",
              "       [0.5591201 ],\n",
              "       [0.4579625 ],\n",
              "       [0.50405854],\n",
              "       [0.4655337 ],\n",
              "       [0.45317584],\n",
              "       [0.5811547 ],\n",
              "       [0.57570755],\n",
              "       [0.56270826],\n",
              "       [0.4538241 ],\n",
              "       [0.55769277],\n",
              "       [0.566754  ],\n",
              "       [0.4776852 ],\n",
              "       [0.44579056],\n",
              "       [0.49796116],\n",
              "       [0.58534765],\n",
              "       [0.5674274 ],\n",
              "       [0.4811813 ],\n",
              "       [0.54883033],\n",
              "       [0.57874495],\n",
              "       [0.45593414],\n",
              "       [0.5853168 ],\n",
              "       [0.5475563 ],\n",
              "       [0.54067296],\n",
              "       [0.52752405],\n",
              "       [0.44288844],\n",
              "       [0.56627434],\n",
              "       [0.5860606 ],\n",
              "       [0.58524036],\n",
              "       [0.43632632],\n",
              "       [0.56668204],\n",
              "       [0.44202608],\n",
              "       [0.45549437],\n",
              "       [0.5435965 ],\n",
              "       [0.46138027],\n",
              "       [0.4952376 ],\n",
              "       [0.4649198 ],\n",
              "       [0.5648218 ],\n",
              "       [0.5635542 ],\n",
              "       [0.44725892],\n",
              "       [0.53047204],\n",
              "       [0.5423388 ],\n",
              "       [0.5620047 ],\n",
              "       [0.4579425 ],\n",
              "       [0.5824468 ],\n",
              "       [0.56179255],\n",
              "       [0.4559677 ],\n",
              "       [0.5483782 ],\n",
              "       [0.5178243 ],\n",
              "       [0.4535147 ],\n",
              "       [0.55438536],\n",
              "       [0.4666364 ],\n",
              "       [0.54859686],\n",
              "       [0.45300657],\n",
              "       [0.46356085],\n",
              "       [0.47360346],\n",
              "       [0.5476692 ],\n",
              "       [0.5048333 ],\n",
              "       [0.44220343],\n",
              "       [0.45947975],\n",
              "       [0.55983764],\n",
              "       [0.57107335],\n",
              "       [0.5779229 ],\n",
              "       [0.47369888],\n",
              "       [0.54648644],\n",
              "       [0.56903636],\n",
              "       [0.46041888],\n",
              "       [0.4676667 ],\n",
              "       [0.4895619 ],\n",
              "       [0.57431674],\n",
              "       [0.5305162 ],\n",
              "       [0.5713128 ],\n",
              "       [0.5010512 ],\n",
              "       [0.5627482 ],\n",
              "       [0.44125223],\n",
              "       [0.45821068],\n",
              "       [0.57194316],\n",
              "       [0.46998143],\n",
              "       [0.5527907 ],\n",
              "       [0.55068946],\n",
              "       [0.5579125 ],\n",
              "       [0.55924255],\n",
              "       [0.53442913],\n",
              "       [0.45437   ],\n",
              "       [0.4548631 ],\n",
              "       [0.5782859 ],\n",
              "       [0.45247075],\n",
              "       [0.5123705 ],\n",
              "       [0.44333893],\n",
              "       [0.47841617],\n",
              "       [0.47761315],\n",
              "       [0.56337583],\n",
              "       [0.46608663],\n",
              "       [0.45086798],\n",
              "       [0.4581528 ],\n",
              "       [0.5529398 ],\n",
              "       [0.479292  ],\n",
              "       [0.51692194],\n",
              "       [0.56316614],\n",
              "       [0.4876024 ],\n",
              "       [0.509767  ],\n",
              "       [0.46050063],\n",
              "       [0.5295584 ],\n",
              "       [0.5214974 ],\n",
              "       [0.5343452 ],\n",
              "       [0.5683923 ],\n",
              "       [0.5725444 ],\n",
              "       [0.58439374],\n",
              "       [0.4851006 ],\n",
              "       [0.49228242],\n",
              "       [0.49677354],\n",
              "       [0.5795212 ],\n",
              "       [0.5688045 ],\n",
              "       [0.46034107],\n",
              "       [0.4787656 ],\n",
              "       [0.48567122],\n",
              "       [0.45187312],\n",
              "       [0.5623839 ],\n",
              "       [0.54540926],\n",
              "       [0.51430535],\n",
              "       [0.56999934],\n",
              "       [0.5549196 ],\n",
              "       [0.5270298 ],\n",
              "       [0.5718128 ],\n",
              "       [0.44028154],\n",
              "       [0.5112162 ],\n",
              "       [0.4616003 ],\n",
              "       [0.5810265 ],\n",
              "       [0.4476994 ],\n",
              "       [0.52405375],\n",
              "       [0.44504035],\n",
              "       [0.5422631 ],\n",
              "       [0.48628604],\n",
              "       [0.5790832 ],\n",
              "       [0.4651446 ],\n",
              "       [0.5416217 ],\n",
              "       [0.5650534 ],\n",
              "       [0.4507373 ],\n",
              "       [0.546502  ],\n",
              "       [0.5546732 ],\n",
              "       [0.5035159 ],\n",
              "       [0.5666133 ],\n",
              "       [0.57151484],\n",
              "       [0.5536455 ],\n",
              "       [0.51970106],\n",
              "       [0.56630385],\n",
              "       [0.5218443 ],\n",
              "       [0.44018385],\n",
              "       [0.46884724],\n",
              "       [0.49923092],\n",
              "       [0.48758885],\n",
              "       [0.53560567],\n",
              "       [0.4917661 ],\n",
              "       [0.582914  ],\n",
              "       [0.5753539 ],\n",
              "       [0.4837767 ],\n",
              "       [0.468468  ],\n",
              "       [0.5762823 ],\n",
              "       [0.4539553 ],\n",
              "       [0.5338488 ],\n",
              "       [0.45532635],\n",
              "       [0.5320399 ],\n",
              "       [0.43950424],\n",
              "       [0.5739679 ],\n",
              "       [0.4485293 ],\n",
              "       [0.5366621 ],\n",
              "       [0.4604019 ],\n",
              "       [0.57013655],\n",
              "       [0.51725245],\n",
              "       [0.4445578 ],\n",
              "       [0.5643342 ],\n",
              "       [0.5689498 ],\n",
              "       [0.46532708],\n",
              "       [0.4849912 ],\n",
              "       [0.4896777 ],\n",
              "       [0.46086076],\n",
              "       [0.5178692 ],\n",
              "       [0.50886583],\n",
              "       [0.47325218],\n",
              "       [0.5843338 ],\n",
              "       [0.49731213],\n",
              "       [0.45760944],\n",
              "       [0.45529255],\n",
              "       [0.5861212 ],\n",
              "       [0.54839087],\n",
              "       [0.5793491 ],\n",
              "       [0.5292186 ],\n",
              "       [0.5075029 ],\n",
              "       [0.46448243],\n",
              "       [0.48869932],\n",
              "       [0.5510693 ],\n",
              "       [0.56715685],\n",
              "       [0.5665701 ],\n",
              "       [0.526387  ],\n",
              "       [0.57072777],\n",
              "       [0.56267136],\n",
              "       [0.566148  ],\n",
              "       [0.4444555 ],\n",
              "       [0.44007236],\n",
              "       [0.47043747],\n",
              "       [0.5036056 ],\n",
              "       [0.4725776 ],\n",
              "       [0.54894286],\n",
              "       [0.587807  ],\n",
              "       [0.5802344 ],\n",
              "       [0.51049477],\n",
              "       [0.561667  ],\n",
              "       [0.44450063],\n",
              "       [0.5731932 ],\n",
              "       [0.44577315],\n",
              "       [0.5030982 ],\n",
              "       [0.53777367],\n",
              "       [0.5557825 ],\n",
              "       [0.51429886],\n",
              "       [0.45365888],\n",
              "       [0.46256462],\n",
              "       [0.45359868],\n",
              "       [0.46646377],\n",
              "       [0.511054  ],\n",
              "       [0.5330512 ],\n",
              "       [0.58474606],\n",
              "       [0.48859307],\n",
              "       [0.53689784],\n",
              "       [0.47743127],\n",
              "       [0.44268945],\n",
              "       [0.4374742 ],\n",
              "       [0.46451226],\n",
              "       [0.5409066 ],\n",
              "       [0.4891613 ],\n",
              "       [0.45906803],\n",
              "       [0.5146386 ],\n",
              "       [0.48094827],\n",
              "       [0.53766555],\n",
              "       [0.5695424 ],\n",
              "       [0.4724052 ],\n",
              "       [0.50844914],\n",
              "       [0.53899455],\n",
              "       [0.45073384],\n",
              "       [0.5446323 ],\n",
              "       [0.5823795 ],\n",
              "       [0.49032164],\n",
              "       [0.46831012],\n",
              "       [0.56261206],\n",
              "       [0.5049789 ],\n",
              "       [0.45310873],\n",
              "       [0.46566   ],\n",
              "       [0.47418672],\n",
              "       [0.49884656],\n",
              "       [0.5664872 ],\n",
              "       [0.5193517 ],\n",
              "       [0.47180068],\n",
              "       [0.51368326],\n",
              "       [0.57152456],\n",
              "       [0.5823798 ],\n",
              "       [0.5293046 ],\n",
              "       [0.5700894 ],\n",
              "       [0.44789255],\n",
              "       [0.56990683],\n",
              "       [0.47978735],\n",
              "       [0.5110385 ],\n",
              "       [0.44693655],\n",
              "       [0.509553  ],\n",
              "       [0.47966972],\n",
              "       [0.5517337 ],\n",
              "       [0.56126386],\n",
              "       [0.48061144],\n",
              "       [0.50829774],\n",
              "       [0.43942726],\n",
              "       [0.58784807],\n",
              "       [0.5399628 ],\n",
              "       [0.4581988 ],\n",
              "       [0.58613026],\n",
              "       [0.45090747],\n",
              "       [0.5103054 ],\n",
              "       [0.44313565],\n",
              "       [0.45783797],\n",
              "       [0.48165703],\n",
              "       [0.54429746],\n",
              "       [0.51553726],\n",
              "       [0.5721374 ],\n",
              "       [0.5735842 ],\n",
              "       [0.5728897 ],\n",
              "       [0.4719425 ],\n",
              "       [0.5495778 ],\n",
              "       [0.45699865],\n",
              "       [0.541846  ],\n",
              "       [0.4412677 ],\n",
              "       [0.49296746],\n",
              "       [0.5821947 ],\n",
              "       [0.45009547],\n",
              "       [0.55936277],\n",
              "       [0.5509915 ],\n",
              "       [0.4760596 ],\n",
              "       [0.5689707 ],\n",
              "       [0.52717084],\n",
              "       [0.5525547 ],\n",
              "       [0.54654527],\n",
              "       [0.47503254],\n",
              "       [0.43715417],\n",
              "       [0.551795  ]], dtype=float32)"
            ]
          },
          "metadata": {},
          "execution_count": 12
        }
      ]
    },
    {
      "cell_type": "markdown",
      "source": [
        "We will create a way to visualize our model's predictions, let's create a function `plot_decision_boundary()`, this function will: \n",
        "* Take in a trained  model, features(X) and labels (y)\n",
        "* Create a meshgrid of the different X values \n",
        "* Make predictions across the meshgrid \n",
        "* Plot the predictions as well as line between zones (where each unique class falls)   "
      ],
      "metadata": {
        "id": "PKMu-lp34guf"
      }
    },
    {
      "cell_type": "code",
      "source": [
        "import numpy as np \n",
        "\n",
        "def plot_decision_boundary (model, X, y):\n",
        "  \"\"\"\n",
        "  Plots the decision boundary created by a model predicting on X.\n",
        "  \"\"\"\n",
        "  # Define the  axis boundaries of the plot and create a meshgrid \n",
        "  x_min, x_max = X[:, 0].min() - 0.1, X[:, 0].max() + 0.1\n",
        "  y_min, y_max = X[:, 1].min() - 0.1, X[:, 1].max() + 0.1 \n",
        "  xx, yy = np.meshgrid(np.linspace(x_min, x_max, 100),\n",
        "                       np.linspace(y_min, y_max, 100))\n",
        "  \n",
        "  # Create X vaue (we're going to make predictios on these)\n",
        "  x_in = np.c_[xx.ravel(), yy.ravel()] #Stack 2D arrays together \n",
        "\n",
        "  # Make predictions \n",
        "  y_pred = model.predict(x_in)\n",
        "\n",
        "  # Check for multi-class \n",
        "  if len(y_pred[0]) > 1:\n",
        "    print(\"doing multiclass clasification\")\n",
        "    # We have to reshape our prediction to get them ready for plotting \n",
        "    y_pred = np.argmax(y_pred, axis=1).reshape(xx.shape)\n",
        "\n",
        "  else:\n",
        "    print(\"doing binary classification\")\n",
        "    y_pred = np.round(y_pred).reshape(xx.shape)\n",
        "    #Plot the decision boundary \n",
        "    plt.contourf(xx, yy, y_pred, cmap=plt.cm.RdYlBu)\n",
        "    plt.scatter(X[:,0], X[:,1], c=y, s=40, cmap=plt.cm.RdYlBu)\n",
        "    plt.xlim(xx.min(), xx.max())\n",
        "    plt.ylim(yy.min(),yy.max())\n"
      ],
      "metadata": {
        "id": "lRTpjmf25w-9"
      },
      "execution_count": null,
      "outputs": []
    },
    {
      "cell_type": "code",
      "source": [
        "# Check the predictions our model is making \n",
        "plot_decision_boundary(model=model_3,\n",
        "                       X=X,\n",
        "                       y=y)"
      ],
      "metadata": {
        "colab": {
          "base_uri": "https://localhost:8080/",
          "height": 282
        },
        "id": "pIJAcV_fFLry",
        "outputId": "f8443e2d-48bf-42a5-ed3f-5ae7ca685f02"
      },
      "execution_count": null,
      "outputs": [
        {
          "output_type": "stream",
          "name": "stdout",
          "text": [
            "doing binary classification\n"
          ]
        },
        {
          "output_type": "display_data",
          "data": {
            "text/plain": [
              "<Figure size 432x288 with 1 Axes>"
            ],
            "image/png": "[encoded data removed]"
          },
          "metadata": {
            "needs_background": "light"
          }
        }
      ]
    },
    {
      "cell_type": "markdown",
      "source": [
        "## Missing piece: non-linearity "
      ],
      "metadata": {
        "id": "3fJZ5Y3hFgpy"
      }
    },
    {
      "cell_type": "markdown",
      "source": [
        "We can use an activation function that is non-linear on the model to improve the results. \n"
      ],
      "metadata": {
        "id": "T503WWSOIwzQ"
      }
    },
    {
      "cell_type": "code",
      "source": [
        "# Set random seed \n",
        "tf.random.set_seed(42)\n",
        "\n",
        "#1. Create a model with a non-linear activation \n",
        "model_4 = tf.keras.Sequential([\n",
        "                                tf.keras.layers.Dense(4, activation=tf.keras.activations.relu),\n",
        "                                tf.keras.layers.Dense(4, activation=tf.keras.activations.relu),\n",
        "                                tf.keras.layers.Dense(1, activation=tf.keras.activations.sigmoid)\n",
        "])\n",
        "\n",
        "#2. Compile the model \n",
        "model_4.compile(loss=tf.keras.losses.BinaryFocalCrossentropy(),\n",
        "                optimizer=tf.keras.optimizers.Adam(lr=0.01),\n",
        "                metrics=[\"accuracy\"])\n",
        "\n",
        "#3. Fit the model \n",
        "history = model_4.fit(X,y, epochs=100)\n"
      ],
      "metadata": {
        "colab": {
          "base_uri": "https://localhost:8080/"
        },
        "id": "DQ1pU07SHvq8",
        "outputId": "f1bb82dd-d871-4c6e-cab0-e5690428886b"
      },
      "execution_count": null,
      "outputs": [
        {
          "output_type": "stream",
          "name": "stdout",
          "text": [
            "Epoch 1/100\n"
          ]
        },
        {
          "output_type": "stream",
          "name": "stderr",
          "text": [
            "/usr/local/lib/python3.7/dist-packages/keras/optimizer_v2/adam.py:105: UserWarning: The `lr` argument is deprecated, use `learning_rate` instead.\n",
            "  super(Adam, self).__init__(name, **kwargs)\n"
          ]
        },
        {
          "output_type": "stream",
          "name": "stdout",
          "text": [
            "32/32 [==============================] - 1s 2ms/step - loss: 0.1709 - accuracy: 0.5870\n",
            "Epoch 2/100\n",
            "32/32 [==============================] - 0s 2ms/step - loss: 0.1668 - accuracy: 0.5880\n",
            "Epoch 3/100\n",
            "32/32 [==============================] - 0s 2ms/step - loss: 0.1639 - accuracy: 0.5700\n",
            "Epoch 4/100\n",
            "32/32 [==============================] - 0s 3ms/step - loss: 0.1600 - accuracy: 0.6390\n",
            "Epoch 5/100\n",
            "32/32 [==============================] - 0s 2ms/step - loss: 0.1557 - accuracy: 0.6950\n",
            "Epoch 6/100\n",
            "32/32 [==============================] - 0s 2ms/step - loss: 0.1468 - accuracy: 0.7210\n",
            "Epoch 7/100\n",
            "32/32 [==============================] - 0s 2ms/step - loss: 0.1318 - accuracy: 0.7950\n",
            "Epoch 8/100\n",
            "32/32 [==============================] - 0s 2ms/step - loss: 0.1187 - accuracy: 0.8280\n",
            "Epoch 9/100\n",
            "32/32 [==============================] - 0s 2ms/step - loss: 0.0992 - accuracy: 0.8980\n",
            "Epoch 10/100\n",
            "32/32 [==============================] - 0s 2ms/step - loss: 0.0741 - accuracy: 0.9430\n",
            "Epoch 11/100\n",
            "32/32 [==============================] - 0s 2ms/step - loss: 0.0615 - accuracy: 0.9540\n",
            "Epoch 12/100\n",
            "32/32 [==============================] - 0s 2ms/step - loss: 0.0500 - accuracy: 0.9730\n",
            "Epoch 13/100\n",
            "32/32 [==============================] - 0s 2ms/step - loss: 0.0441 - accuracy: 0.9750\n",
            "Epoch 14/100\n",
            "32/32 [==============================] - 0s 2ms/step - loss: 0.0375 - accuracy: 0.9790\n",
            "Epoch 15/100\n",
            "32/32 [==============================] - 0s 2ms/step - loss: 0.0333 - accuracy: 0.9750\n",
            "Epoch 16/100\n",
            "32/32 [==============================] - 0s 2ms/step - loss: 0.0285 - accuracy: 0.9840\n",
            "Epoch 17/100\n",
            "32/32 [==============================] - 0s 2ms/step - loss: 0.0269 - accuracy: 0.9800\n",
            "Epoch 18/100\n",
            "32/32 [==============================] - 0s 2ms/step - loss: 0.0249 - accuracy: 0.9850\n",
            "Epoch 19/100\n",
            "32/32 [==============================] - 0s 2ms/step - loss: 0.0224 - accuracy: 0.9870\n",
            "Epoch 20/100\n",
            "32/32 [==============================] - 0s 2ms/step - loss: 0.0212 - accuracy: 0.9860\n",
            "Epoch 21/100\n",
            "32/32 [==============================] - 0s 2ms/step - loss: 0.0192 - accuracy: 0.9890\n",
            "Epoch 22/100\n",
            "32/32 [==============================] - 0s 2ms/step - loss: 0.0191 - accuracy: 0.9860\n",
            "Epoch 23/100\n",
            "32/32 [==============================] - 0s 2ms/step - loss: 0.0210 - accuracy: 0.9810\n",
            "Epoch 24/100\n",
            "32/32 [==============================] - 0s 2ms/step - loss: 0.0204 - accuracy: 0.9740\n",
            "Epoch 25/100\n",
            "32/32 [==============================] - 0s 2ms/step - loss: 0.0192 - accuracy: 0.9830\n",
            "Epoch 26/100\n",
            "32/32 [==============================] - 0s 2ms/step - loss: 0.0159 - accuracy: 0.9870\n",
            "Epoch 27/100\n",
            "32/32 [==============================] - 0s 2ms/step - loss: 0.0147 - accuracy: 0.9880\n",
            "Epoch 28/100\n",
            "32/32 [==============================] - 0s 2ms/step - loss: 0.0158 - accuracy: 0.9830\n",
            "Epoch 29/100\n",
            "32/32 [==============================] - 0s 2ms/step - loss: 0.0165 - accuracy: 0.9830\n",
            "Epoch 30/100\n",
            "32/32 [==============================] - 0s 2ms/step - loss: 0.0173 - accuracy: 0.9820\n",
            "Epoch 31/100\n",
            "32/32 [==============================] - 0s 2ms/step - loss: 0.0134 - accuracy: 0.9880\n",
            "Epoch 32/100\n",
            "32/32 [==============================] - 0s 2ms/step - loss: 0.0136 - accuracy: 0.9860\n",
            "Epoch 33/100\n",
            "32/32 [==============================] - 0s 2ms/step - loss: 0.0146 - accuracy: 0.9880\n",
            "Epoch 34/100\n",
            "32/32 [==============================] - 0s 2ms/step - loss: 0.0128 - accuracy: 0.9880\n",
            "Epoch 35/100\n",
            "32/32 [==============================] - 0s 2ms/step - loss: 0.0122 - accuracy: 0.9950\n",
            "Epoch 36/100\n",
            "32/32 [==============================] - 0s 2ms/step - loss: 0.0139 - accuracy: 0.9820\n",
            "Epoch 37/100\n",
            "32/32 [==============================] - 0s 2ms/step - loss: 0.0145 - accuracy: 0.9810\n",
            "Epoch 38/100\n",
            "32/32 [==============================] - 0s 2ms/step - loss: 0.0132 - accuracy: 0.9850\n",
            "Epoch 39/100\n",
            "32/32 [==============================] - 0s 2ms/step - loss: 0.0149 - accuracy: 0.9810\n",
            "Epoch 40/100\n",
            "32/32 [==============================] - 0s 2ms/step - loss: 0.0121 - accuracy: 0.9860\n",
            "Epoch 41/100\n",
            "32/32 [==============================] - 0s 2ms/step - loss: 0.0125 - accuracy: 0.9850\n",
            "Epoch 42/100\n",
            "32/32 [==============================] - 0s 2ms/step - loss: 0.0111 - accuracy: 0.9920\n",
            "Epoch 43/100\n",
            "32/32 [==============================] - 0s 2ms/step - loss: 0.0119 - accuracy: 0.9860\n",
            "Epoch 44/100\n",
            "32/32 [==============================] - 0s 2ms/step - loss: 0.0119 - accuracy: 0.9870\n",
            "Epoch 45/100\n",
            "32/32 [==============================] - 0s 2ms/step - loss: 0.0108 - accuracy: 0.9870\n",
            "Epoch 46/100\n",
            "32/32 [==============================] - 0s 2ms/step - loss: 0.0103 - accuracy: 0.9910\n",
            "Epoch 47/100\n",
            "32/32 [==============================] - 0s 2ms/step - loss: 0.0115 - accuracy: 0.9870\n",
            "Epoch 48/100\n",
            "32/32 [==============================] - 0s 2ms/step - loss: 0.0112 - accuracy: 0.9890\n",
            "Epoch 49/100\n",
            "32/32 [==============================] - 0s 2ms/step - loss: 0.0140 - accuracy: 0.9770\n",
            "Epoch 50/100\n",
            "32/32 [==============================] - 0s 2ms/step - loss: 0.0141 - accuracy: 0.9810\n",
            "Epoch 51/100\n",
            "32/32 [==============================] - 0s 2ms/step - loss: 0.0114 - accuracy: 0.9900\n",
            "Epoch 52/100\n",
            "32/32 [==============================] - 0s 2ms/step - loss: 0.0094 - accuracy: 0.9880\n",
            "Epoch 53/100\n",
            "32/32 [==============================] - 0s 2ms/step - loss: 0.0109 - accuracy: 0.9870\n",
            "Epoch 54/100\n",
            "32/32 [==============================] - 0s 2ms/step - loss: 0.0123 - accuracy: 0.9790\n",
            "Epoch 55/100\n",
            "32/32 [==============================] - 0s 2ms/step - loss: 0.0105 - accuracy: 0.9890\n",
            "Epoch 56/100\n",
            "32/32 [==============================] - 0s 2ms/step - loss: 0.0121 - accuracy: 0.9840\n",
            "Epoch 57/100\n",
            "32/32 [==============================] - 0s 2ms/step - loss: 0.0159 - accuracy: 0.9820\n",
            "Epoch 58/100\n",
            "32/32 [==============================] - 0s 2ms/step - loss: 0.0117 - accuracy: 0.9850\n",
            "Epoch 59/100\n",
            "32/32 [==============================] - 0s 2ms/step - loss: 0.0106 - accuracy: 0.9880\n",
            "Epoch 60/100\n",
            "32/32 [==============================] - 0s 2ms/step - loss: 0.0092 - accuracy: 0.9900\n",
            "Epoch 61/100\n",
            "32/32 [==============================] - 0s 2ms/step - loss: 0.0169 - accuracy: 0.9720\n",
            "Epoch 62/100\n",
            "32/32 [==============================] - 0s 2ms/step - loss: 0.0107 - accuracy: 0.9830\n",
            "Epoch 63/100\n",
            "32/32 [==============================] - 0s 2ms/step - loss: 0.0084 - accuracy: 0.9900\n",
            "Epoch 64/100\n",
            "32/32 [==============================] - 0s 2ms/step - loss: 0.0092 - accuracy: 0.9850\n",
            "Epoch 65/100\n",
            "32/32 [==============================] - 0s 2ms/step - loss: 0.0121 - accuracy: 0.9800\n",
            "Epoch 66/100\n",
            "32/32 [==============================] - 0s 2ms/step - loss: 0.0157 - accuracy: 0.9750\n",
            "Epoch 67/100\n",
            "32/32 [==============================] - 0s 2ms/step - loss: 0.0115 - accuracy: 0.9840\n",
            "Epoch 68/100\n",
            "32/32 [==============================] - 0s 2ms/step - loss: 0.0077 - accuracy: 0.9890\n",
            "Epoch 69/100\n",
            "32/32 [==============================] - 0s 2ms/step - loss: 0.0083 - accuracy: 0.9910\n",
            "Epoch 70/100\n",
            "32/32 [==============================] - 0s 2ms/step - loss: 0.0093 - accuracy: 0.9870\n",
            "Epoch 71/100\n",
            "32/32 [==============================] - 0s 2ms/step - loss: 0.0092 - accuracy: 0.9870\n",
            "Epoch 72/100\n",
            "32/32 [==============================] - 0s 2ms/step - loss: 0.0091 - accuracy: 0.9900\n",
            "Epoch 73/100\n",
            "32/32 [==============================] - 0s 2ms/step - loss: 0.0099 - accuracy: 0.9860\n",
            "Epoch 74/100\n",
            "32/32 [==============================] - 0s 2ms/step - loss: 0.0085 - accuracy: 0.9900\n",
            "Epoch 75/100\n",
            "32/32 [==============================] - 0s 2ms/step - loss: 0.0103 - accuracy: 0.9860\n",
            "Epoch 76/100\n",
            "32/32 [==============================] - 0s 2ms/step - loss: 0.0115 - accuracy: 0.9870\n",
            "Epoch 77/100\n",
            "32/32 [==============================] - 0s 2ms/step - loss: 0.0096 - accuracy: 0.9840\n",
            "Epoch 78/100\n",
            "32/32 [==============================] - 0s 2ms/step - loss: 0.0119 - accuracy: 0.9840\n",
            "Epoch 79/100\n",
            "32/32 [==============================] - 0s 2ms/step - loss: 0.0171 - accuracy: 0.9690\n",
            "Epoch 80/100\n",
            "32/32 [==============================] - 0s 2ms/step - loss: 0.0121 - accuracy: 0.9790\n",
            "Epoch 81/100\n",
            "32/32 [==============================] - 0s 2ms/step - loss: 0.0094 - accuracy: 0.9870\n",
            "Epoch 82/100\n",
            "32/32 [==============================] - 0s 2ms/step - loss: 0.0072 - accuracy: 0.9920\n",
            "Epoch 83/100\n",
            "32/32 [==============================] - 0s 2ms/step - loss: 0.0107 - accuracy: 0.9820\n",
            "Epoch 84/100\n",
            "32/32 [==============================] - 0s 2ms/step - loss: 0.0070 - accuracy: 0.9940\n",
            "Epoch 85/100\n",
            "32/32 [==============================] - 0s 2ms/step - loss: 0.0086 - accuracy: 0.9880\n",
            "Epoch 86/100\n",
            "32/32 [==============================] - 0s 2ms/step - loss: 0.0086 - accuracy: 0.9860\n",
            "Epoch 87/100\n",
            "32/32 [==============================] - 0s 2ms/step - loss: 0.0126 - accuracy: 0.9790\n",
            "Epoch 88/100\n",
            "32/32 [==============================] - 0s 2ms/step - loss: 0.0099 - accuracy: 0.9860\n",
            "Epoch 89/100\n",
            "32/32 [==============================] - 0s 2ms/step - loss: 0.0087 - accuracy: 0.9850\n",
            "Epoch 90/100\n",
            "32/32 [==============================] - 0s 2ms/step - loss: 0.0082 - accuracy: 0.9900\n",
            "Epoch 91/100\n",
            "32/32 [==============================] - 0s 2ms/step - loss: 0.0095 - accuracy: 0.9860\n",
            "Epoch 92/100\n",
            "32/32 [==============================] - 0s 2ms/step - loss: 0.0158 - accuracy: 0.9750\n",
            "Epoch 93/100\n",
            "32/32 [==============================] - 0s 2ms/step - loss: 0.0076 - accuracy: 0.9900\n",
            "Epoch 94/100\n",
            "32/32 [==============================] - 0s 2ms/step - loss: 0.0079 - accuracy: 0.9890\n",
            "Epoch 95/100\n",
            "32/32 [==============================] - 0s 2ms/step - loss: 0.0085 - accuracy: 0.9850\n",
            "Epoch 96/100\n",
            "32/32 [==============================] - 0s 2ms/step - loss: 0.0086 - accuracy: 0.9880\n",
            "Epoch 97/100\n",
            "32/32 [==============================] - 0s 2ms/step - loss: 0.0087 - accuracy: 0.9870\n",
            "Epoch 98/100\n",
            "32/32 [==============================] - 0s 2ms/step - loss: 0.0166 - accuracy: 0.9760\n",
            "Epoch 99/100\n",
            "32/32 [==============================] - 0s 2ms/step - loss: 0.0079 - accuracy: 0.9860\n",
            "Epoch 100/100\n",
            "32/32 [==============================] - 0s 2ms/step - loss: 0.0081 - accuracy: 0.9900\n"
          ]
        }
      ]
    },
    {
      "cell_type": "code",
      "source": [
        "# Check the predictions our model is making \n",
        "plot_decision_boundary(model=model_4,\n",
        "                       X=X,\n",
        "                       y=y)"
      ],
      "metadata": {
        "colab": {
          "base_uri": "https://localhost:8080/",
          "height": 282
        },
        "id": "XdN2JFygJneK",
        "outputId": "3ef782b0-f3c7-4a45-8b2a-827a41ace333"
      },
      "execution_count": null,
      "outputs": [
        {
          "output_type": "stream",
          "name": "stdout",
          "text": [
            "doing binary classification\n"
          ]
        },
        {
          "output_type": "display_data",
          "data": {
            "text/plain": [
              "<Figure size 432x288 with 1 Axes>"
            ],
            "image/png": "[encoded data removed]"
          },
          "metadata": {
            "needs_background": "light"
          }
        }
      ]
    },
    {
      "cell_type": "markdown",
      "source": [
        "**Note:** The combination of linear and non-linear funcitons is one o the fundamentals of neural networks. \n"
      ],
      "metadata": {
        "id": "6ei8sVhaM91j"
      }
    },
    {
      "cell_type": "code",
      "source": [
        "# Create a toy tensor (similar to the data we pass into our models)\n",
        "\n",
        "A = tf.cast(tf.range(-10,10), tf.float32)\n",
        "A"
      ],
      "metadata": {
        "colab": {
          "base_uri": "https://localhost:8080/"
        },
        "id": "_k2kfwIrOxI-",
        "outputId": "3188770f-fe3c-4221-ab50-ef35ca2e40a1"
      },
      "execution_count": null,
      "outputs": [
        {
          "output_type": "execute_result",
          "data": {
            "text/plain": [
              "<tf.Tensor: shape=(20,), dtype=float32, numpy=\n",
              "array([-10.,  -9.,  -8.,  -7.,  -6.,  -5.,  -4.,  -3.,  -2.,  -1.,   0.,\n",
              "         1.,   2.,   3.,   4.,   5.,   6.,   7.,   8.,   9.],\n",
              "      dtype=float32)>"
            ]
          },
          "metadata": {},
          "execution_count": 17
        }
      ]
    },
    {
      "cell_type": "code",
      "source": [
        "# Visualize our toy tensor \n",
        "plt.plot(A);"
      ],
      "metadata": {
        "colab": {
          "base_uri": "https://localhost:8080/",
          "height": 265
        },
        "id": "MgEzIKHSPPZO",
        "outputId": "efb2abdb-b436-4c87-be26-665e5f8937ab"
      },
      "execution_count": null,
      "outputs": [
        {
          "output_type": "display_data",
          "data": {
            "text/plain": [
              "<Figure size 432x288 with 1 Axes>"
            ],
            "image/png": "[encoded data removed]"
          },
          "metadata": {
            "needs_background": "light"
          }
        }
      ]
    },
    {
      "cell_type": "markdown",
      "source": [
        "## Evaluaing and improving our classification \n",
        "So far we've been training and testing on the same datase so we will divide the dataset into train, test and vallidate. "
      ],
      "metadata": {
        "id": "H53bb4iJQPue"
      }
    },
    {
      "cell_type": "code",
      "source": [
        "# Split the data into train and test sets \n",
        "X_train, y_train = X[:800], y[:800]\n",
        "X_test, y_test = X[800:], y[800:]\n",
        "\n",
        "X_train.shape, X_test.shape, y_train.shape, y_test.shape "
      ],
      "metadata": {
        "colab": {
          "base_uri": "https://localhost:8080/"
        },
        "id": "zV4rYi0wVMla",
        "outputId": "c5d87fbd-4590-4831-b5a7-340c62d63218"
      },
      "execution_count": null,
      "outputs": [
        {
          "output_type": "execute_result",
          "data": {
            "text/plain": [
              "((800, 2), (200, 2), (800,), (200,))"
            ]
          },
          "metadata": {},
          "execution_count": 14
        }
      ]
    },
    {
      "cell_type": "code",
      "source": [
        "# Lets recreate a model to fit on the training data and evaluate on the train test \n",
        "\n",
        "# Create the seed \n",
        "tf.random.set_seed(42)\n",
        "\n",
        "#Create the model (same as last model)\n",
        "\n",
        "#1. Create a model with a non-linear activation \n",
        "model_5 = tf.keras.Sequential([\n",
        "                                tf.keras.layers.Dense(4, activation=tf.keras.activations.relu),\n",
        "                                tf.keras.layers.Dense(4, activation=tf.keras.activations.relu),\n",
        "                                tf.keras.layers.Dense(1, activation=tf.keras.activations.sigmoid)\n",
        "])\n",
        "\n",
        "#2. Compile the model \n",
        "model_5.compile(loss=tf.keras.losses.BinaryFocalCrossentropy(),\n",
        "                optimizer=tf.keras.optimizers.Adam(lr=0.01),\n",
        "                metrics=[\"accuracy\"])\n",
        "\n",
        "#3. Fit the model \n",
        "history = model_5.fit(X_train,y_train, epochs=100)\n"
      ],
      "metadata": {
        "colab": {
          "base_uri": "https://localhost:8080/"
        },
        "id": "4y7hya-NXSos",
        "outputId": "f379809a-1eda-488d-e632-b34d06c13d34"
      },
      "execution_count": null,
      "outputs": [
        {
          "output_type": "stream",
          "name": "stdout",
          "text": [
            "Epoch 1/100\n"
          ]
        },
        {
          "output_type": "stream",
          "name": "stderr",
          "text": [
            "/usr/local/lib/python3.7/dist-packages/keras/optimizer_v2/adam.py:105: UserWarning: The `lr` argument is deprecated, use `learning_rate` instead.\n",
            "  super(Adam, self).__init__(name, **kwargs)\n"
          ]
        },
        {
          "output_type": "stream",
          "name": "stdout",
          "text": [
            "25/25 [==============================] - 1s 2ms/step - loss: 0.1709 - accuracy: 0.5838\n",
            "Epoch 2/100\n",
            "25/25 [==============================] - 0s 2ms/step - loss: 0.1682 - accuracy: 0.5763\n",
            "Epoch 3/100\n",
            "25/25 [==============================] - 0s 2ms/step - loss: 0.1664 - accuracy: 0.5863\n",
            "Epoch 4/100\n",
            "25/25 [==============================] - 0s 2ms/step - loss: 0.1649 - accuracy: 0.5875\n",
            "Epoch 5/100\n",
            "25/25 [==============================] - 0s 2ms/step - loss: 0.1624 - accuracy: 0.6500\n",
            "Epoch 6/100\n",
            "25/25 [==============================] - 0s 2ms/step - loss: 0.1594 - accuracy: 0.6263\n",
            "Epoch 7/100\n",
            "25/25 [==============================] - 0s 2ms/step - loss: 0.1543 - accuracy: 0.7200\n",
            "Epoch 8/100\n",
            "25/25 [==============================] - 0s 2ms/step - loss: 0.1492 - accuracy: 0.7425\n",
            "Epoch 9/100\n",
            "25/25 [==============================] - 0s 2ms/step - loss: 0.1399 - accuracy: 0.7400\n",
            "Epoch 10/100\n",
            "25/25 [==============================] - 0s 2ms/step - loss: 0.1286 - accuracy: 0.7525\n",
            "Epoch 11/100\n",
            "25/25 [==============================] - 0s 2ms/step - loss: 0.1172 - accuracy: 0.8087\n",
            "Epoch 12/100\n",
            "25/25 [==============================] - 0s 2ms/step - loss: 0.1017 - accuracy: 0.8612\n",
            "Epoch 13/100\n",
            "25/25 [==============================] - 0s 2ms/step - loss: 0.0826 - accuracy: 0.9325\n",
            "Epoch 14/100\n",
            "25/25 [==============================] - 0s 2ms/step - loss: 0.0714 - accuracy: 0.9425\n",
            "Epoch 15/100\n",
            "25/25 [==============================] - 0s 2ms/step - loss: 0.0624 - accuracy: 0.9525\n",
            "Epoch 16/100\n",
            "25/25 [==============================] - 0s 2ms/step - loss: 0.0538 - accuracy: 0.9650\n",
            "Epoch 17/100\n",
            "25/25 [==============================] - 0s 2ms/step - loss: 0.0461 - accuracy: 0.9688\n",
            "Epoch 18/100\n",
            "25/25 [==============================] - 0s 2ms/step - loss: 0.0417 - accuracy: 0.9663\n",
            "Epoch 19/100\n",
            "25/25 [==============================] - 0s 2ms/step - loss: 0.0386 - accuracy: 0.9688\n",
            "Epoch 20/100\n",
            "25/25 [==============================] - 0s 2ms/step - loss: 0.0356 - accuracy: 0.9762\n",
            "Epoch 21/100\n",
            "25/25 [==============================] - 0s 2ms/step - loss: 0.0312 - accuracy: 0.9812\n",
            "Epoch 22/100\n",
            "25/25 [==============================] - 0s 2ms/step - loss: 0.0313 - accuracy: 0.9775\n",
            "Epoch 23/100\n",
            "25/25 [==============================] - 0s 2ms/step - loss: 0.0274 - accuracy: 0.9825\n",
            "Epoch 24/100\n",
            "25/25 [==============================] - 0s 2ms/step - loss: 0.0286 - accuracy: 0.9712\n",
            "Epoch 25/100\n",
            "25/25 [==============================] - 0s 2ms/step - loss: 0.0276 - accuracy: 0.9750\n",
            "Epoch 26/100\n",
            "25/25 [==============================] - 0s 2ms/step - loss: 0.0241 - accuracy: 0.9800\n",
            "Epoch 27/100\n",
            "25/25 [==============================] - 0s 2ms/step - loss: 0.0220 - accuracy: 0.9812\n",
            "Epoch 28/100\n",
            "25/25 [==============================] - 0s 2ms/step - loss: 0.0220 - accuracy: 0.9825\n",
            "Epoch 29/100\n",
            "25/25 [==============================] - 0s 2ms/step - loss: 0.0211 - accuracy: 0.9812\n",
            "Epoch 30/100\n",
            "25/25 [==============================] - 0s 2ms/step - loss: 0.0211 - accuracy: 0.9837\n",
            "Epoch 31/100\n",
            "25/25 [==============================] - 0s 3ms/step - loss: 0.0220 - accuracy: 0.9737\n",
            "Epoch 32/100\n",
            "25/25 [==============================] - 0s 2ms/step - loss: 0.0216 - accuracy: 0.9725\n",
            "Epoch 33/100\n",
            "25/25 [==============================] - 0s 3ms/step - loss: 0.0235 - accuracy: 0.9737\n",
            "Epoch 34/100\n",
            "25/25 [==============================] - 0s 2ms/step - loss: 0.0195 - accuracy: 0.9762\n",
            "Epoch 35/100\n",
            "25/25 [==============================] - 0s 2ms/step - loss: 0.0180 - accuracy: 0.9825\n",
            "Epoch 36/100\n",
            "25/25 [==============================] - 0s 2ms/step - loss: 0.0185 - accuracy: 0.9837\n",
            "Epoch 37/100\n",
            "25/25 [==============================] - 0s 2ms/step - loss: 0.0163 - accuracy: 0.9900\n",
            "Epoch 38/100\n",
            "25/25 [==============================] - 0s 2ms/step - loss: 0.0165 - accuracy: 0.9850\n",
            "Epoch 39/100\n",
            "25/25 [==============================] - 0s 2ms/step - loss: 0.0181 - accuracy: 0.9775\n",
            "Epoch 40/100\n",
            "25/25 [==============================] - 0s 2ms/step - loss: 0.0166 - accuracy: 0.9837\n",
            "Epoch 41/100\n",
            "25/25 [==============================] - 0s 2ms/step - loss: 0.0173 - accuracy: 0.9800\n",
            "Epoch 42/100\n",
            "25/25 [==============================] - 0s 2ms/step - loss: 0.0178 - accuracy: 0.9775\n",
            "Epoch 43/100\n",
            "25/25 [==============================] - 0s 2ms/step - loss: 0.0144 - accuracy: 0.9887\n",
            "Epoch 44/100\n",
            "25/25 [==============================] - 0s 2ms/step - loss: 0.0185 - accuracy: 0.9787\n",
            "Epoch 45/100\n",
            "25/25 [==============================] - 0s 2ms/step - loss: 0.0153 - accuracy: 0.9850\n",
            "Epoch 46/100\n",
            "25/25 [==============================] - 0s 2ms/step - loss: 0.0138 - accuracy: 0.9825\n",
            "Epoch 47/100\n",
            "25/25 [==============================] - 0s 2ms/step - loss: 0.0147 - accuracy: 0.9837\n",
            "Epoch 48/100\n",
            "25/25 [==============================] - 0s 2ms/step - loss: 0.0139 - accuracy: 0.9875\n",
            "Epoch 49/100\n",
            "25/25 [==============================] - 0s 2ms/step - loss: 0.0138 - accuracy: 0.9812\n",
            "Epoch 50/100\n",
            "25/25 [==============================] - 0s 2ms/step - loss: 0.0120 - accuracy: 0.9887\n",
            "Epoch 51/100\n",
            "25/25 [==============================] - 0s 2ms/step - loss: 0.0119 - accuracy: 0.9912\n",
            "Epoch 52/100\n",
            "25/25 [==============================] - 0s 2ms/step - loss: 0.0123 - accuracy: 0.9875\n",
            "Epoch 53/100\n",
            "25/25 [==============================] - 0s 2ms/step - loss: 0.0114 - accuracy: 0.9887\n",
            "Epoch 54/100\n",
            "25/25 [==============================] - 0s 2ms/step - loss: 0.0117 - accuracy: 0.9925\n",
            "Epoch 55/100\n",
            "25/25 [==============================] - 0s 2ms/step - loss: 0.0132 - accuracy: 0.9887\n",
            "Epoch 56/100\n",
            "25/25 [==============================] - 0s 2ms/step - loss: 0.0137 - accuracy: 0.9812\n",
            "Epoch 57/100\n",
            "25/25 [==============================] - 0s 2ms/step - loss: 0.0108 - accuracy: 0.9900\n",
            "Epoch 58/100\n",
            "25/25 [==============================] - 0s 2ms/step - loss: 0.0102 - accuracy: 0.9900\n",
            "Epoch 59/100\n",
            "25/25 [==============================] - 0s 2ms/step - loss: 0.0126 - accuracy: 0.9862\n",
            "Epoch 60/100\n",
            "25/25 [==============================] - 0s 2ms/step - loss: 0.0139 - accuracy: 0.9775\n",
            "Epoch 61/100\n",
            "25/25 [==============================] - 0s 2ms/step - loss: 0.0123 - accuracy: 0.9825\n",
            "Epoch 62/100\n",
            "25/25 [==============================] - 0s 2ms/step - loss: 0.0115 - accuracy: 0.9887\n",
            "Epoch 63/100\n",
            "25/25 [==============================] - 0s 2ms/step - loss: 0.0123 - accuracy: 0.9850\n",
            "Epoch 64/100\n",
            "25/25 [==============================] - 0s 2ms/step - loss: 0.0133 - accuracy: 0.9837\n",
            "Epoch 65/100\n",
            "25/25 [==============================] - 0s 2ms/step - loss: 0.0138 - accuracy: 0.9825\n",
            "Epoch 66/100\n",
            "25/25 [==============================] - 0s 2ms/step - loss: 0.0124 - accuracy: 0.9825\n",
            "Epoch 67/100\n",
            "25/25 [==============================] - 0s 2ms/step - loss: 0.0136 - accuracy: 0.9825\n",
            "Epoch 68/100\n",
            "25/25 [==============================] - 0s 2ms/step - loss: 0.0137 - accuracy: 0.9787\n",
            "Epoch 69/100\n",
            "25/25 [==============================] - 0s 3ms/step - loss: 0.0114 - accuracy: 0.9862\n",
            "Epoch 70/100\n",
            "25/25 [==============================] - 0s 2ms/step - loss: 0.0157 - accuracy: 0.9762\n",
            "Epoch 71/100\n",
            "25/25 [==============================] - 0s 2ms/step - loss: 0.0122 - accuracy: 0.9850\n",
            "Epoch 72/100\n",
            "25/25 [==============================] - 0s 2ms/step - loss: 0.0115 - accuracy: 0.9837\n",
            "Epoch 73/100\n",
            "25/25 [==============================] - 0s 2ms/step - loss: 0.0104 - accuracy: 0.9875\n",
            "Epoch 74/100\n",
            "25/25 [==============================] - 0s 2ms/step - loss: 0.0182 - accuracy: 0.9700\n",
            "Epoch 75/100\n",
            "25/25 [==============================] - 0s 2ms/step - loss: 0.0166 - accuracy: 0.9762\n",
            "Epoch 76/100\n",
            "25/25 [==============================] - 0s 2ms/step - loss: 0.0107 - accuracy: 0.9887\n",
            "Epoch 77/100\n",
            "25/25 [==============================] - 0s 2ms/step - loss: 0.0100 - accuracy: 0.9887\n",
            "Epoch 78/100\n",
            "25/25 [==============================] - 0s 2ms/step - loss: 0.0090 - accuracy: 0.9912\n",
            "Epoch 79/100\n",
            "25/25 [==============================] - 0s 2ms/step - loss: 0.0094 - accuracy: 0.9912\n",
            "Epoch 80/100\n",
            "25/25 [==============================] - 0s 2ms/step - loss: 0.0094 - accuracy: 0.9887\n",
            "Epoch 81/100\n",
            "25/25 [==============================] - 0s 2ms/step - loss: 0.0094 - accuracy: 0.9912\n",
            "Epoch 82/100\n",
            "25/25 [==============================] - 0s 2ms/step - loss: 0.0092 - accuracy: 0.9900\n",
            "Epoch 83/100\n",
            "25/25 [==============================] - 0s 2ms/step - loss: 0.0104 - accuracy: 0.9862\n",
            "Epoch 84/100\n",
            "25/25 [==============================] - 0s 2ms/step - loss: 0.0105 - accuracy: 0.9887\n",
            "Epoch 85/100\n",
            "25/25 [==============================] - 0s 2ms/step - loss: 0.0104 - accuracy: 0.9812\n",
            "Epoch 86/100\n",
            "25/25 [==============================] - 0s 2ms/step - loss: 0.0088 - accuracy: 0.9925\n",
            "Epoch 87/100\n",
            "25/25 [==============================] - 0s 2ms/step - loss: 0.0092 - accuracy: 0.9912\n",
            "Epoch 88/100\n",
            "25/25 [==============================] - 0s 2ms/step - loss: 0.0095 - accuracy: 0.9850\n",
            "Epoch 89/100\n",
            "25/25 [==============================] - 0s 2ms/step - loss: 0.0118 - accuracy: 0.9912\n",
            "Epoch 90/100\n",
            "25/25 [==============================] - 0s 2ms/step - loss: 0.0100 - accuracy: 0.9887\n",
            "Epoch 91/100\n",
            "25/25 [==============================] - 0s 2ms/step - loss: 0.0110 - accuracy: 0.9850\n",
            "Epoch 92/100\n",
            "25/25 [==============================] - 0s 2ms/step - loss: 0.0097 - accuracy: 0.9887\n",
            "Epoch 93/100\n",
            "25/25 [==============================] - 0s 2ms/step - loss: 0.0091 - accuracy: 0.9900\n",
            "Epoch 94/100\n",
            "25/25 [==============================] - 0s 2ms/step - loss: 0.0092 - accuracy: 0.9912\n",
            "Epoch 95/100\n",
            "25/25 [==============================] - 0s 2ms/step - loss: 0.0084 - accuracy: 0.9887\n",
            "Epoch 96/100\n",
            "25/25 [==============================] - 0s 2ms/step - loss: 0.0098 - accuracy: 0.9862\n",
            "Epoch 97/100\n",
            "25/25 [==============================] - 0s 2ms/step - loss: 0.0101 - accuracy: 0.9862\n",
            "Epoch 98/100\n",
            "25/25 [==============================] - 0s 2ms/step - loss: 0.0094 - accuracy: 0.9912\n",
            "Epoch 99/100\n",
            "25/25 [==============================] - 0s 2ms/step - loss: 0.0091 - accuracy: 0.9950\n",
            "Epoch 100/100\n",
            "25/25 [==============================] - 0s 2ms/step - loss: 0.0079 - accuracy: 0.9900\n"
          ]
        }
      ]
    },
    {
      "cell_type": "code",
      "source": [
        "# Evaluate the model on the test dataset \n",
        "model_5.evaluate(X_test, y_test)"
      ],
      "metadata": {
        "colab": {
          "base_uri": "https://localhost:8080/"
        },
        "id": "kRFqsgODX_hz",
        "outputId": "21247775-fc8b-42cd-f4dd-4ea2d73c8875"
      },
      "execution_count": null,
      "outputs": [
        {
          "output_type": "stream",
          "name": "stdout",
          "text": [
            "7/7 [==============================] - 0s 2ms/step - loss: 0.0061 - accuracy: 0.9950\n"
          ]
        },
        {
          "output_type": "execute_result",
          "data": {
            "text/plain": [
              "[0.006081768777221441, 0.9950000047683716]"
            ]
          },
          "metadata": {},
          "execution_count": 16
        }
      ]
    },
    {
      "cell_type": "code",
      "source": [
        "# Plot the decision boundaries for the training and test sets \n",
        "plt.figure(figsize=(12, 6))\n",
        "plt.subplot(1, 2, 1)\n",
        "plt.title(\"Train\")\n",
        "plot_decision_boundary(model_5, X=X_train, y=y_train)\n",
        "plt.subplot(1, 2, 2)\n",
        "plt.title(\"Test\")\n",
        "plot_decision_boundary(model_5, X=X_test, y=y_test)"
      ],
      "metadata": {
        "colab": {
          "base_uri": "https://localhost:8080/",
          "height": 425
        },
        "id": "cr3yOF_mYcEH",
        "outputId": "407ff01f-88b9-4631-9930-87674e852652"
      },
      "execution_count": null,
      "outputs": [
        {
          "output_type": "stream",
          "name": "stdout",
          "text": [
            "doing binary classification\n",
            "doing binary classification\n"
          ]
        },
        {
          "output_type": "display_data",
          "data": {
            "text/plain": [
              "<Figure size 864x432 with 2 Axes>"
            ],
            "image/png": "[encoded data removed]"
          },
          "metadata": {
            "needs_background": "light"
          }
        }
      ]
    },
    {
      "cell_type": "markdown",
      "source": [
        "## Plot the loss (or training) curves "
      ],
      "metadata": {
        "id": "8OAX3uxyZlfz"
      }
    },
    {
      "cell_type": "code",
      "source": [
        "# Convert the history object into a dataframe \n",
        "\n",
        "pd.DataFrame(history.history)"
      ],
      "metadata": {
        "colab": {
          "base_uri": "https://localhost:8080/",
          "height": 424
        },
        "id": "Zc7H5Wz4BCQ4",
        "outputId": "a410e2fd-a680-44a5-f200-b5126e795922"
      },
      "execution_count": null,
      "outputs": [
        {
          "output_type": "execute_result",
          "data": {
            "text/plain": [
              "        loss  accuracy\n",
              "0   0.170861   0.58375\n",
              "1   0.168160   0.57625\n",
              "2   0.166422   0.58625\n",
              "3   0.164938   0.58750\n",
              "4   0.162398   0.65000\n",
              "..       ...       ...\n",
              "95  0.009824   0.98625\n",
              "96  0.010096   0.98625\n",
              "97  0.009432   0.99125\n",
              "98  0.009062   0.99500\n",
              "99  0.007872   0.99000\n",
              "\n",
              "[100 rows x 2 columns]"
            ],
            "text/html": [
              "\n",
              "  <div id=\"df-a120d212-ff21-489c-8990-b9df0cba8c01\">\n",
              "    <div class=\"colab-df-container\">\n",
              "      <div>\n",
              "<style scoped>\n",
              "    .dataframe tbody tr th:only-of-type {\n",
              "        vertical-align: middle;\n",
              "    }\n",
              "\n",
              "    .dataframe tbody tr th {\n",
              "        vertical-align: top;\n",
              "    }\n",
              "\n",
              "    .dataframe thead th {\n",
              "        text-align: right;\n",
              "    }\n",
              "</style>\n",
              "<table border=\"1\" class=\"dataframe\">\n",
              "  <thead>\n",
              "    <tr style=\"text-align: right;\">\n",
              "      <th></th>\n",
              "      <th>loss</th>\n",
              "      <th>accuracy</th>\n",
              "    </tr>\n",
              "  </thead>\n",
              "  <tbody>\n",
              "    <tr>\n",
              "      <th>0</th>\n",
              "      <td>0.170861</td>\n",
              "      <td>0.58375</td>\n",
              "    </tr>\n",
              "    <tr>\n",
              "      <th>1</th>\n",
              "      <td>0.168160</td>\n",
              "      <td>0.57625</td>\n",
              "    </tr>\n",
              "    <tr>\n",
              "      <th>2</th>\n",
              "      <td>0.166422</td>\n",
              "      <td>0.58625</td>\n",
              "    </tr>\n",
              "    <tr>\n",
              "      <th>3</th>\n",
              "      <td>0.164938</td>\n",
              "      <td>0.58750</td>\n",
              "    </tr>\n",
              "    <tr>\n",
              "      <th>4</th>\n",
              "      <td>0.162398</td>\n",
              "      <td>0.65000</td>\n",
              "    </tr>\n",
              "    <tr>\n",
              "      <th>...</th>\n",
              "      <td>...</td>\n",
              "      <td>...</td>\n",
              "    </tr>\n",
              "    <tr>\n",
              "      <th>95</th>\n",
              "      <td>0.009824</td>\n",
              "      <td>0.98625</td>\n",
              "    </tr>\n",
              "    <tr>\n",
              "      <th>96</th>\n",
              "      <td>0.010096</td>\n",
              "      <td>0.98625</td>\n",
              "    </tr>\n",
              "    <tr>\n",
              "      <th>97</th>\n",
              "      <td>0.009432</td>\n",
              "      <td>0.99125</td>\n",
              "    </tr>\n",
              "    <tr>\n",
              "      <th>98</th>\n",
              "      <td>0.009062</td>\n",
              "      <td>0.99500</td>\n",
              "    </tr>\n",
              "    <tr>\n",
              "      <th>99</th>\n",
              "      <td>0.007872</td>\n",
              "      <td>0.99000</td>\n",
              "    </tr>\n",
              "  </tbody>\n",
              "</table>\n",
              "<p>100 rows × 2 columns</p>\n",
              "</div>\n",
              "      <button class=\"colab-df-convert\" onclick=\"convertToInteractive('df-a120d212-ff21-489c-8990-b9df0cba8c01')\"\n",
              "              title=\"Convert this dataframe to an interactive table.\"\n",
              "              style=\"display:none;\">\n",
              "        \n",
              "  <svg xmlns=\"http://www.w3.org/2000/svg\" height=\"24px\"viewBox=\"0 0 24 24\"\n",
              "       width=\"24px\">\n",
              "    <path d=\"M0 0h24v24H0V0z\" fill=\"none\"/>\n",
              "    <path d=\"M18.56 5.44l.94 2.06.94-2.06 2.06-.94-2.06-.94-.94-2.06-.94 2.06-2.06.94zm-11 1L8.5 8.5l.94-2.06 2.06-.94-2.06-.94L8.5 2.5l-.94 2.06-2.06.94zm10 10l.94 2.06.94-2.06 2.06-.94-2.06-.94-.94-2.06-.94 2.06-2.06.94z\"/><path d=\"M17.41 7.96l-1.37-1.37c-.4-.4-.92-.59-1.43-.59-.52 0-1.04.2-1.43.59L10.3 9.45l-7.72 7.72c-.78.78-.78 2.05 0 2.83L4 21.41c.39.39.9.59 1.41.59.51 0 1.02-.2 1.41-.59l7.78-7.78 2.81-2.81c.8-.78.8-2.07 0-2.86zM5.41 20L4 18.59l7.72-7.72 1.47 1.35L5.41 20z\"/>\n",
              "  </svg>\n",
              "      </button>\n",
              "      \n",
              "  <style>\n",
              "    .colab-df-container {\n",
              "      display:flex;\n",
              "      flex-wrap:wrap;\n",
              "      gap: 12px;\n",
              "    }\n",
              "\n",
              "    .colab-df-convert {\n",
              "      background-color: #E8F0FE;\n",
              "      border: none;\n",
              "      border-radius: 50%;\n",
              "      cursor: pointer;\n",
              "      display: none;\n",
              "      fill: #1967D2;\n",
              "      height: 32px;\n",
              "      padding: 0 0 0 0;\n",
              "      width: 32px;\n",
              "    }\n",
              "\n",
              "    .colab-df-convert:hover {\n",
              "      background-color: #E2EBFA;\n",
              "      box-shadow: 0px 1px 2px rgba(60, 64, 67, 0.3), 0px 1px 3px 1px rgba(60, 64, 67, 0.15);\n",
              "      fill: #174EA6;\n",
              "    }\n",
              "\n",
              "    [theme=dark] .colab-df-convert {\n",
              "      background-color: #3B4455;\n",
              "      fill: #D2E3FC;\n",
              "    }\n",
              "\n",
              "    [theme=dark] .colab-df-convert:hover {\n",
              "      background-color: #434B5C;\n",
              "      box-shadow: 0px 1px 3px 1px rgba(0, 0, 0, 0.15);\n",
              "      filter: drop-shadow(0px 1px 2px rgba(0, 0, 0, 0.3));\n",
              "      fill: #FFFFFF;\n",
              "    }\n",
              "  </style>\n",
              "\n",
              "      <script>\n",
              "        const buttonEl =\n",
              "          document.querySelector('#df-a120d212-ff21-489c-8990-b9df0cba8c01 button.colab-df-convert');\n",
              "        buttonEl.style.display =\n",
              "          google.colab.kernel.accessAllowed ? 'block' : 'none';\n",
              "\n",
              "        async function convertToInteractive(key) {\n",
              "          const element = document.querySelector('#df-a120d212-ff21-489c-8990-b9df0cba8c01');\n",
              "          const dataTable =\n",
              "            await google.colab.kernel.invokeFunction('convertToInteractive',\n",
              "                                                     [key], {});\n",
              "          if (!dataTable) return;\n",
              "\n",
              "          const docLinkHtml = 'Like what you see? Visit the ' +\n",
              "            '<a target=\"_blank\" href=https://colab.research.google.com/notebooks/data_table.ipynb>data table notebook</a>'\n",
              "            + ' to learn more about interactive tables.';\n",
              "          element.innerHTML = '';\n",
              "          dataTable['output_type'] = 'display_data';\n",
              "          await google.colab.output.renderOutput(dataTable, element);\n",
              "          const docLink = document.createElement('div');\n",
              "          docLink.innerHTML = docLinkHtml;\n",
              "          element.appendChild(docLink);\n",
              "        }\n",
              "      </script>\n",
              "    </div>\n",
              "  </div>\n",
              "  "
            ]
          },
          "metadata": {},
          "execution_count": 18
        }
      ]
    },
    {
      "cell_type": "code",
      "source": [
        "# Plot the loss curves \n",
        "pd.DataFrame(history.history).plot()\n",
        "plt.title(\"Model_5\");"
      ],
      "metadata": {
        "colab": {
          "base_uri": "https://localhost:8080/",
          "height": 281
        },
        "id": "55q2l-6iEVU-",
        "outputId": "62c86584-d2cf-44c8-d86f-8995edf8c538"
      },
      "execution_count": null,
      "outputs": [
        {
          "output_type": "display_data",
          "data": {
            "text/plain": [
              "<Figure size 432x288 with 1 Axes>"
            ],
            "image/png": "[encoded data removed]"
          },
          "metadata": {
            "needs_background": "light"
          }
        }
      ]
    },
    {
      "cell_type": "markdown",
      "source": [
        "🔨 **Note:**  For many problems, the loss function going down means the model is improving (is making the predictions better) \n"
      ],
      "metadata": {
        "id": "vrlruPtbFGLx"
      }
    },
    {
      "cell_type": "markdown",
      "source": [
        "## Finding the best learning rate \n",
        "\n",
        "To find the ideal learning rate we're going to use the following steps: \n",
        "* A earning rate **calback** - you can think of a callback as an extra pice of functionality, you can add to your *while* it's training.\n",
        "* Another model \n",
        "* A modified loss curve "
      ],
      "metadata": {
        "id": "9EeOTYo-GiGD"
      }
    },
    {
      "cell_type": "code",
      "source": [
        "# Set random seed \n",
        "tf.random.set_seed(42)\n",
        "\n",
        "# Create  a mode similar to the one before \n",
        "\n",
        "model_6 = tf.keras.Sequential([\n",
        "                               tf.keras.layers.Dense(4, activation = \"relu\"),\n",
        "                               tf.keras.layers.Dense(4, activation = \"relu\"),\n",
        "                               tf.keras.layers.Dense(1, activation = \"sigmoid\")\n",
        "])\n",
        "\n",
        "# Compile the model \n",
        "model_6.compile(loss = \"binary_crossentropy\",\n",
        "                optimizer = \"Adam\",\n",
        "                metrics=[\"accuracy\"])\n",
        "\n",
        "# Create a learning rate callback \n",
        "lr_scheduler = tf.keras.callbacks.LearningRateScheduler(lambda epoch: 1e-4 * 10 **(epoch/20))\n",
        "\n",
        "# Fit the model (passing lr_scheduler callback)\n",
        "history_6 = model_6.fit(X_train,\n",
        "                        y_train,\n",
        "                        epochs=100,\n",
        "                        callbacks = [lr_scheduler]\n",
        ")"
      ],
      "metadata": {
        "id": "64v_f_U0E6gp",
        "colab": {
          "base_uri": "https://localhost:8080/"
        },
        "outputId": "b8af5e12-2349-47a8-964d-aabd46d4a65b"
      },
      "execution_count": null,
      "outputs": [
        {
          "output_type": "stream",
          "name": "stdout",
          "text": [
            "Epoch 1/100\n",
            "25/25 [==============================] - 1s 2ms/step - loss: 0.6945 - accuracy: 0.4988 - lr: 1.0000e-04\n",
            "Epoch 2/100\n",
            "25/25 [==============================] - 0s 2ms/step - loss: 0.6938 - accuracy: 0.4975 - lr: 1.1220e-04\n",
            "Epoch 3/100\n",
            "25/25 [==============================] - 0s 2ms/step - loss: 0.6930 - accuracy: 0.4963 - lr: 1.2589e-04\n",
            "Epoch 4/100\n",
            "25/25 [==============================] - 0s 3ms/step - loss: 0.6922 - accuracy: 0.4975 - lr: 1.4125e-04\n",
            "Epoch 5/100\n",
            "25/25 [==============================] - 0s 2ms/step - loss: 0.6914 - accuracy: 0.5063 - lr: 1.5849e-04\n",
            "Epoch 6/100\n",
            "25/25 [==============================] - 0s 2ms/step - loss: 0.6906 - accuracy: 0.5013 - lr: 1.7783e-04\n",
            "Epoch 7/100\n",
            "25/25 [==============================] - 0s 2ms/step - loss: 0.6898 - accuracy: 0.4950 - lr: 1.9953e-04\n",
            "Epoch 8/100\n",
            "25/25 [==============================] - 0s 2ms/step - loss: 0.6889 - accuracy: 0.5038 - lr: 2.2387e-04\n",
            "Epoch 9/100\n",
            "25/25 [==============================] - 0s 2ms/step - loss: 0.6880 - accuracy: 0.5013 - lr: 2.5119e-04\n",
            "Epoch 10/100\n",
            "25/25 [==============================] - 0s 2ms/step - loss: 0.6871 - accuracy: 0.5050 - lr: 2.8184e-04\n",
            "Epoch 11/100\n",
            "25/25 [==============================] - 0s 2ms/step - loss: 0.6863 - accuracy: 0.5200 - lr: 3.1623e-04\n",
            "Epoch 12/100\n",
            "25/25 [==============================] - 0s 2ms/step - loss: 0.6856 - accuracy: 0.5163 - lr: 3.5481e-04\n",
            "Epoch 13/100\n",
            "25/25 [==============================] - 0s 2ms/step - loss: 0.6847 - accuracy: 0.5175 - lr: 3.9811e-04\n",
            "Epoch 14/100\n",
            "25/25 [==============================] - 0s 2ms/step - loss: 0.6842 - accuracy: 0.5200 - lr: 4.4668e-04\n",
            "Epoch 15/100\n",
            "25/25 [==============================] - 0s 2ms/step - loss: 0.6835 - accuracy: 0.5213 - lr: 5.0119e-04\n",
            "Epoch 16/100\n",
            "25/25 [==============================] - 0s 2ms/step - loss: 0.6829 - accuracy: 0.5213 - lr: 5.6234e-04\n",
            "Epoch 17/100\n",
            "25/25 [==============================] - 0s 2ms/step - loss: 0.6826 - accuracy: 0.5225 - lr: 6.3096e-04\n",
            "Epoch 18/100\n",
            "25/25 [==============================] - 0s 2ms/step - loss: 0.6819 - accuracy: 0.5300 - lr: 7.0795e-04\n",
            "Epoch 19/100\n",
            "25/25 [==============================] - 0s 2ms/step - loss: 0.6816 - accuracy: 0.5312 - lr: 7.9433e-04\n",
            "Epoch 20/100\n",
            "25/25 [==============================] - 0s 2ms/step - loss: 0.6811 - accuracy: 0.5387 - lr: 8.9125e-04\n",
            "Epoch 21/100\n",
            "25/25 [==============================] - 0s 2ms/step - loss: 0.6806 - accuracy: 0.5400 - lr: 0.0010\n",
            "Epoch 22/100\n",
            "25/25 [==============================] - 0s 2ms/step - loss: 0.6801 - accuracy: 0.5412 - lr: 0.0011\n",
            "Epoch 23/100\n",
            "25/25 [==============================] - 0s 2ms/step - loss: 0.6796 - accuracy: 0.5400 - lr: 0.0013\n",
            "Epoch 24/100\n",
            "25/25 [==============================] - 0s 2ms/step - loss: 0.6790 - accuracy: 0.5425 - lr: 0.0014\n",
            "Epoch 25/100\n",
            "25/25 [==============================] - 0s 2ms/step - loss: 0.6784 - accuracy: 0.5450 - lr: 0.0016\n",
            "Epoch 26/100\n",
            "25/25 [==============================] - 0s 2ms/step - loss: 0.6778 - accuracy: 0.5387 - lr: 0.0018\n",
            "Epoch 27/100\n",
            "25/25 [==============================] - 0s 2ms/step - loss: 0.6770 - accuracy: 0.5425 - lr: 0.0020\n",
            "Epoch 28/100\n",
            "25/25 [==============================] - 0s 2ms/step - loss: 0.6760 - accuracy: 0.5537 - lr: 0.0022\n",
            "Epoch 29/100\n",
            "25/25 [==============================] - 0s 2ms/step - loss: 0.6754 - accuracy: 0.5512 - lr: 0.0025\n",
            "Epoch 30/100\n",
            "25/25 [==============================] - 0s 2ms/step - loss: 0.6739 - accuracy: 0.5575 - lr: 0.0028\n",
            "Epoch 31/100\n",
            "25/25 [==============================] - 0s 2ms/step - loss: 0.6726 - accuracy: 0.5500 - lr: 0.0032\n",
            "Epoch 32/100\n",
            "25/25 [==============================] - 0s 2ms/step - loss: 0.6711 - accuracy: 0.5512 - lr: 0.0035\n",
            "Epoch 33/100\n",
            "25/25 [==============================] - 0s 2ms/step - loss: 0.6688 - accuracy: 0.5562 - lr: 0.0040\n",
            "Epoch 34/100\n",
            "25/25 [==============================] - 0s 2ms/step - loss: 0.6672 - accuracy: 0.5612 - lr: 0.0045\n",
            "Epoch 35/100\n",
            "25/25 [==============================] - 0s 2ms/step - loss: 0.6660 - accuracy: 0.5888 - lr: 0.0050\n",
            "Epoch 36/100\n",
            "25/25 [==============================] - 0s 2ms/step - loss: 0.6625 - accuracy: 0.5625 - lr: 0.0056\n",
            "Epoch 37/100\n",
            "25/25 [==============================] - 0s 2ms/step - loss: 0.6560 - accuracy: 0.5813 - lr: 0.0063\n",
            "Epoch 38/100\n",
            "25/25 [==============================] - 0s 2ms/step - loss: 0.6521 - accuracy: 0.6025 - lr: 0.0071\n",
            "Epoch 39/100\n",
            "25/25 [==============================] - 0s 2ms/step - loss: 0.6415 - accuracy: 0.7088 - lr: 0.0079\n",
            "Epoch 40/100\n",
            "25/25 [==============================] - 0s 2ms/step - loss: 0.6210 - accuracy: 0.7113 - lr: 0.0089\n",
            "Epoch 41/100\n",
            "25/25 [==============================] - 0s 2ms/step - loss: 0.5904 - accuracy: 0.7487 - lr: 0.0100\n",
            "Epoch 42/100\n",
            "25/25 [==============================] - 0s 2ms/step - loss: 0.5688 - accuracy: 0.7312 - lr: 0.0112\n",
            "Epoch 43/100\n",
            "25/25 [==============================] - 0s 3ms/step - loss: 0.5346 - accuracy: 0.7563 - lr: 0.0126\n",
            "Epoch 44/100\n",
            "25/25 [==============================] - 0s 2ms/step - loss: 0.4533 - accuracy: 0.8150 - lr: 0.0141\n",
            "Epoch 45/100\n",
            "25/25 [==============================] - 0s 2ms/step - loss: 0.3455 - accuracy: 0.9112 - lr: 0.0158\n",
            "Epoch 46/100\n",
            "25/25 [==============================] - 0s 2ms/step - loss: 0.2570 - accuracy: 0.9463 - lr: 0.0178\n",
            "Epoch 47/100\n",
            "25/25 [==============================] - 0s 2ms/step - loss: 0.1968 - accuracy: 0.9575 - lr: 0.0200\n",
            "Epoch 48/100\n",
            "25/25 [==============================] - 0s 2ms/step - loss: 0.1336 - accuracy: 0.9700 - lr: 0.0224\n",
            "Epoch 49/100\n",
            "25/25 [==============================] - 0s 2ms/step - loss: 0.1310 - accuracy: 0.9613 - lr: 0.0251\n",
            "Epoch 50/100\n",
            "25/25 [==============================] - 0s 2ms/step - loss: 0.1002 - accuracy: 0.9700 - lr: 0.0282\n",
            "Epoch 51/100\n",
            "25/25 [==============================] - 0s 2ms/step - loss: 0.1166 - accuracy: 0.9638 - lr: 0.0316\n",
            "Epoch 52/100\n",
            "25/25 [==============================] - 0s 2ms/step - loss: 0.1368 - accuracy: 0.9513 - lr: 0.0355\n",
            "Epoch 53/100\n",
            "25/25 [==============================] - 0s 2ms/step - loss: 0.0879 - accuracy: 0.9787 - lr: 0.0398\n",
            "Epoch 54/100\n",
            "25/25 [==============================] - 0s 2ms/step - loss: 0.1187 - accuracy: 0.9588 - lr: 0.0447\n",
            "Epoch 55/100\n",
            "25/25 [==============================] - 0s 2ms/step - loss: 0.0733 - accuracy: 0.9712 - lr: 0.0501\n",
            "Epoch 56/100\n",
            "25/25 [==============================] - 0s 2ms/step - loss: 0.1132 - accuracy: 0.9550 - lr: 0.0562\n",
            "Epoch 57/100\n",
            "25/25 [==============================] - 0s 2ms/step - loss: 0.1057 - accuracy: 0.9613 - lr: 0.0631\n",
            "Epoch 58/100\n",
            "25/25 [==============================] - 0s 2ms/step - loss: 0.0664 - accuracy: 0.9750 - lr: 0.0708\n",
            "Epoch 59/100\n",
            "25/25 [==============================] - 0s 2ms/step - loss: 0.1898 - accuracy: 0.9275 - lr: 0.0794\n",
            "Epoch 60/100\n",
            "25/25 [==============================] - 0s 2ms/step - loss: 0.1895 - accuracy: 0.9312 - lr: 0.0891\n",
            "Epoch 61/100\n",
            "25/25 [==============================] - 0s 2ms/step - loss: 0.4131 - accuracy: 0.8612 - lr: 0.1000\n",
            "Epoch 62/100\n",
            "25/25 [==============================] - 0s 2ms/step - loss: 0.1707 - accuracy: 0.9725 - lr: 0.1122\n",
            "Epoch 63/100\n",
            "25/25 [==============================] - 0s 2ms/step - loss: 0.0569 - accuracy: 0.9937 - lr: 0.1259\n",
            "Epoch 64/100\n",
            "25/25 [==============================] - 0s 2ms/step - loss: 0.1007 - accuracy: 0.9638 - lr: 0.1413\n",
            "Epoch 65/100\n",
            "25/25 [==============================] - 0s 2ms/step - loss: 0.1323 - accuracy: 0.9488 - lr: 0.1585\n",
            "Epoch 66/100\n",
            "25/25 [==============================] - 0s 2ms/step - loss: 0.1819 - accuracy: 0.9375 - lr: 0.1778\n",
            "Epoch 67/100\n",
            "25/25 [==============================] - 0s 2ms/step - loss: 0.6672 - accuracy: 0.7613 - lr: 0.1995\n",
            "Epoch 68/100\n",
            "25/25 [==============================] - 0s 2ms/step - loss: 0.5301 - accuracy: 0.6687 - lr: 0.2239\n",
            "Epoch 69/100\n",
            "25/25 [==============================] - 0s 2ms/step - loss: 0.4140 - accuracy: 0.7925 - lr: 0.2512\n",
            "Epoch 70/100\n",
            "25/25 [==============================] - 0s 2ms/step - loss: 0.4574 - accuracy: 0.7412 - lr: 0.2818\n",
            "Epoch 71/100\n",
            "25/25 [==============================] - 0s 2ms/step - loss: 0.4759 - accuracy: 0.7262 - lr: 0.3162\n",
            "Epoch 72/100\n",
            "25/25 [==============================] - 0s 2ms/step - loss: 0.3748 - accuracy: 0.8112 - lr: 0.3548\n",
            "Epoch 73/100\n",
            "25/25 [==============================] - 0s 2ms/step - loss: 0.4710 - accuracy: 0.8150 - lr: 0.3981\n",
            "Epoch 74/100\n",
            "25/25 [==============================] - 0s 2ms/step - loss: 0.4143 - accuracy: 0.8087 - lr: 0.4467\n",
            "Epoch 75/100\n",
            "25/25 [==============================] - 0s 2ms/step - loss: 0.5961 - accuracy: 0.7412 - lr: 0.5012\n",
            "Epoch 76/100\n",
            "25/25 [==============================] - 0s 2ms/step - loss: 0.4787 - accuracy: 0.7713 - lr: 0.5623\n",
            "Epoch 77/100\n",
            "25/25 [==============================] - 0s 2ms/step - loss: 0.4720 - accuracy: 0.7113 - lr: 0.6310\n",
            "Epoch 78/100\n",
            "25/25 [==============================] - 0s 2ms/step - loss: 0.2565 - accuracy: 0.8675 - lr: 0.7079\n",
            "Epoch 79/100\n",
            "25/25 [==============================] - 0s 2ms/step - loss: 1.1824 - accuracy: 0.6275 - lr: 0.7943\n",
            "Epoch 80/100\n",
            "25/25 [==============================] - 0s 2ms/step - loss: 0.6873 - accuracy: 0.5425 - lr: 0.8913\n",
            "Epoch 81/100\n",
            "25/25 [==============================] - 0s 2ms/step - loss: 0.7068 - accuracy: 0.5575 - lr: 1.0000\n",
            "Epoch 82/100\n",
            "25/25 [==============================] - 0s 2ms/step - loss: 0.6879 - accuracy: 0.5838 - lr: 1.1220\n",
            "Epoch 83/100\n",
            "25/25 [==============================] - 0s 2ms/step - loss: 0.6996 - accuracy: 0.5700 - lr: 1.2589\n",
            "Epoch 84/100\n",
            "25/25 [==============================] - 0s 2ms/step - loss: 0.6471 - accuracy: 0.5863 - lr: 1.4125\n",
            "Epoch 85/100\n",
            "25/25 [==============================] - 0s 2ms/step - loss: 0.7457 - accuracy: 0.5312 - lr: 1.5849\n",
            "Epoch 86/100\n",
            "25/25 [==============================] - 0s 2ms/step - loss: 0.7546 - accuracy: 0.5038 - lr: 1.7783\n",
            "Epoch 87/100\n",
            "25/25 [==============================] - 0s 2ms/step - loss: 0.7681 - accuracy: 0.5063 - lr: 1.9953\n",
            "Epoch 88/100\n",
            "25/25 [==============================] - 0s 3ms/step - loss: 0.7596 - accuracy: 0.4963 - lr: 2.2387\n",
            "Epoch 89/100\n",
            "25/25 [==============================] - 0s 2ms/step - loss: 0.7778 - accuracy: 0.5063 - lr: 2.5119\n",
            "Epoch 90/100\n",
            "25/25 [==============================] - 0s 2ms/step - loss: 0.7741 - accuracy: 0.4787 - lr: 2.8184\n",
            "Epoch 91/100\n",
            "25/25 [==============================] - 0s 2ms/step - loss: 0.7851 - accuracy: 0.5163 - lr: 3.1623\n",
            "Epoch 92/100\n",
            "25/25 [==============================] - 0s 3ms/step - loss: 0.7441 - accuracy: 0.4888 - lr: 3.5481\n",
            "Epoch 93/100\n",
            "25/25 [==============================] - 0s 2ms/step - loss: 0.7354 - accuracy: 0.5163 - lr: 3.9811\n",
            "Epoch 94/100\n",
            "25/25 [==============================] - 0s 2ms/step - loss: 0.7548 - accuracy: 0.4938 - lr: 4.4668\n",
            "Epoch 95/100\n",
            "25/25 [==============================] - 0s 2ms/step - loss: 0.8087 - accuracy: 0.4863 - lr: 5.0119\n",
            "Epoch 96/100\n",
            "25/25 [==============================] - 0s 2ms/step - loss: 0.7714 - accuracy: 0.4638 - lr: 5.6234\n",
            "Epoch 97/100\n",
            "25/25 [==============================] - 0s 2ms/step - loss: 0.8001 - accuracy: 0.5013 - lr: 6.3096\n",
            "Epoch 98/100\n",
            "25/25 [==============================] - 0s 2ms/step - loss: 0.9554 - accuracy: 0.4963 - lr: 7.0795\n",
            "Epoch 99/100\n",
            "25/25 [==============================] - 0s 2ms/step - loss: 0.9268 - accuracy: 0.4913 - lr: 7.9433\n",
            "Epoch 100/100\n",
            "25/25 [==============================] - 0s 2ms/step - loss: 0.8563 - accuracy: 0.4663 - lr: 8.9125\n"
          ]
        }
      ]
    },
    {
      "cell_type": "code",
      "source": [
        "# Checkout the history \n",
        "pd.DataFrame(history_6.history).plot(figsize=(10,7), xlabel=\"epochs\")"
      ],
      "metadata": {
        "colab": {
          "base_uri": "https://localhost:8080/",
          "height": 459
        },
        "id": "2c0EOCcJLsEP",
        "outputId": "8833ea09-db74-4bd9-bdc2-5ffcb5f84741"
      },
      "execution_count": null,
      "outputs": [
        {
          "output_type": "execute_result",
          "data": {
            "text/plain": [
              "<matplotlib.axes._subplots.AxesSubplot at 0x7fa61a938b50>"
            ]
          },
          "metadata": {},
          "execution_count": 23
        },
        {
          "output_type": "display_data",
          "data": {
            "text/plain": [
              "<Figure size 720x504 with 1 Axes>"
            ],
            "image/png": "[encoded data removed]"
          },
          "metadata": {
            "needs_background": "light"
          }
        }
      ]
    },
    {
      "cell_type": "code",
      "source": [
        "# Plot the learning rate v.s the loss \n",
        "lrs = 1e-4 * (10 ** (tf.range(100)/20))\n",
        "plt.figure(figsize=(10,7))\n",
        "plt.semilogx(lrs, history_6.history[\"loss\"])\n",
        "plt.xlabel(\"Learning rate\")\n",
        "plt.ylabel(\"Loss\")\n",
        "plt.title(\"Learning rate vs Loss\")\n"
      ],
      "metadata": {
        "colab": {
          "base_uri": "https://localhost:8080/",
          "height": 479
        },
        "id": "vqouXXGxMQ0W",
        "outputId": "deae0a76-7602-4fa3-d96c-b026565afd40"
      },
      "execution_count": null,
      "outputs": [
        {
          "output_type": "execute_result",
          "data": {
            "text/plain": [
              "Text(0.5, 1.0, 'Learning rate vs Loss')"
            ]
          },
          "metadata": {},
          "execution_count": 31
        },
        {
          "output_type": "display_data",
          "data": {
            "text/plain": [
              "<Figure size 720x504 with 1 Axes>"
            ],
            "image/png": "[encoded data removed]"
          },
          "metadata": {
            "needs_background": "light"
          }
        }
      ]
    },
    {
      "cell_type": "code",
      "source": [
        "# Example of other typical learning rate values : \n",
        "10 ** 0, 10 ** -1, 10 **-2"
      ],
      "metadata": {
        "colab": {
          "base_uri": "https://localhost:8080/"
        },
        "id": "3SM2sIDuM3GF",
        "outputId": "b69eb5a3-b713-489a-9293-0cd52f95fbb3"
      },
      "execution_count": null,
      "outputs": [
        {
          "output_type": "execute_result",
          "data": {
            "text/plain": [
              "(1, 0.1, 0.01)"
            ]
          },
          "metadata": {},
          "execution_count": 32
        }
      ]
    },
    {
      "cell_type": "code",
      "source": [
        "# Lets recreate a model with the learning rate we've found with the previous analisis\n",
        "\n",
        "# Create the seed \n",
        "tf.random.set_seed(42)\n",
        "\n",
        "#Create the model\n",
        "\n",
        "#1. Create a model with a non-linear activation \n",
        "model_7 = tf.keras.Sequential([\n",
        "                                tf.keras.layers.Dense(4, activation=tf.keras.activations.relu),\n",
        "                                tf.keras.layers.Dense(4, activation=tf.keras.activations.relu),\n",
        "                                tf.keras.layers.Dense(1, activation=tf.keras.activations.sigmoid)\n",
        "])\n",
        "\n",
        "#2. Compile the model \n",
        "model_7.compile(loss=tf.keras.losses.BinaryFocalCrossentropy(),\n",
        "                optimizer=tf.keras.optimizers.Adam(lr=0.02),\n",
        "                metrics=[\"accuracy\"])\n",
        "\n",
        "#3. Fit the model \n",
        "history = model_7.fit(X_train,y_train, epochs=25)"
      ],
      "metadata": {
        "colab": {
          "base_uri": "https://localhost:8080/"
        },
        "id": "SYc1iZUeShuH",
        "outputId": "9770db67-7460-4641-cedd-e320608b2b89"
      },
      "execution_count": null,
      "outputs": [
        {
          "output_type": "stream",
          "name": "stdout",
          "text": [
            "Epoch 1/25\n"
          ]
        },
        {
          "output_type": "stream",
          "name": "stderr",
          "text": [
            "/usr/local/lib/python3.7/dist-packages/keras/optimizer_v2/adam.py:105: UserWarning: The `lr` argument is deprecated, use `learning_rate` instead.\n",
            "  super(Adam, self).__init__(name, **kwargs)\n"
          ]
        },
        {
          "output_type": "stream",
          "name": "stdout",
          "text": [
            "25/25 [==============================] - 1s 2ms/step - loss: 0.1706 - accuracy: 0.5587\n",
            "Epoch 2/25\n",
            "25/25 [==============================] - 0s 2ms/step - loss: 0.1652 - accuracy: 0.6087\n",
            "Epoch 3/25\n",
            "25/25 [==============================] - 0s 2ms/step - loss: 0.1595 - accuracy: 0.6625\n",
            "Epoch 4/25\n",
            "25/25 [==============================] - 0s 2ms/step - loss: 0.1423 - accuracy: 0.7713\n",
            "Epoch 5/25\n",
            "25/25 [==============================] - 0s 3ms/step - loss: 0.1228 - accuracy: 0.8350\n",
            "Epoch 6/25\n",
            "25/25 [==============================] - 0s 3ms/step - loss: 0.0971 - accuracy: 0.8675\n",
            "Epoch 7/25\n",
            "25/25 [==============================] - 0s 3ms/step - loss: 0.0782 - accuracy: 0.9112\n",
            "Epoch 8/25\n",
            "25/25 [==============================] - 0s 3ms/step - loss: 0.0625 - accuracy: 0.9438\n",
            "Epoch 9/25\n",
            "25/25 [==============================] - 0s 3ms/step - loss: 0.0531 - accuracy: 0.9513\n",
            "Epoch 10/25\n",
            "25/25 [==============================] - 0s 3ms/step - loss: 0.0481 - accuracy: 0.9575\n",
            "Epoch 11/25\n",
            "25/25 [==============================] - 0s 3ms/step - loss: 0.0419 - accuracy: 0.9613\n",
            "Epoch 12/25\n",
            "25/25 [==============================] - 0s 2ms/step - loss: 0.0348 - accuracy: 0.9688\n",
            "Epoch 13/25\n",
            "25/25 [==============================] - 0s 3ms/step - loss: 0.0299 - accuracy: 0.9800\n",
            "Epoch 14/25\n",
            "25/25 [==============================] - 0s 2ms/step - loss: 0.0257 - accuracy: 0.9875\n",
            "Epoch 15/25\n",
            "25/25 [==============================] - 0s 2ms/step - loss: 0.0252 - accuracy: 0.9800\n",
            "Epoch 16/25\n",
            "25/25 [==============================] - 0s 2ms/step - loss: 0.0240 - accuracy: 0.9775\n",
            "Epoch 17/25\n",
            "25/25 [==============================] - 0s 2ms/step - loss: 0.0208 - accuracy: 0.9825\n",
            "Epoch 18/25\n",
            "25/25 [==============================] - 0s 3ms/step - loss: 0.0229 - accuracy: 0.9787\n",
            "Epoch 19/25\n",
            "25/25 [==============================] - 0s 3ms/step - loss: 0.0223 - accuracy: 0.9737\n",
            "Epoch 20/25\n",
            "25/25 [==============================] - 0s 2ms/step - loss: 0.0249 - accuracy: 0.9712\n",
            "Epoch 21/25\n",
            "25/25 [==============================] - 0s 2ms/step - loss: 0.0191 - accuracy: 0.9787\n",
            "Epoch 22/25\n",
            "25/25 [==============================] - 0s 2ms/step - loss: 0.0246 - accuracy: 0.9600\n",
            "Epoch 23/25\n",
            "25/25 [==============================] - 0s 3ms/step - loss: 0.0175 - accuracy: 0.9850\n",
            "Epoch 24/25\n",
            "25/25 [==============================] - 0s 3ms/step - loss: 0.0197 - accuracy: 0.9737\n",
            "Epoch 25/25\n",
            "25/25 [==============================] - 0s 2ms/step - loss: 0.0189 - accuracy: 0.9775\n"
          ]
        }
      ]
    },
    {
      "cell_type": "markdown",
      "source": [
        "## More classification methods \n",
        "Alongside visualizing our models results as much as possible, thera are handful of other classification evaluation methods & metrics you should be familiar with:\n",
        "* Accuracy \n",
        "* Precision \n",
        "* Recall \n",
        "* F1-score \n",
        "* Confusion matrix \n",
        "* Classification report (from scikit-learn)  "
      ],
      "metadata": {
        "id": "4dR4lmxKOyYB"
      }
    },
    {
      "cell_type": "code",
      "source": [
        "# Check the accuracy of our model \n",
        "loss, accuracy = model_7.evaluate (X_test, y_test)\n",
        "print(f\"Model loss on the test set: {loss}\")\n",
        "print(f\"Model accuracy on the test set: {(accuracy*100):.2f}%\")\n"
      ],
      "metadata": {
        "colab": {
          "base_uri": "https://localhost:8080/"
        },
        "id": "WT2tBr6TRkj2",
        "outputId": "cfbdd2f3-d1fb-4488-f94a-fa666cbee334"
      },
      "execution_count": null,
      "outputs": [
        {
          "output_type": "stream",
          "name": "stdout",
          "text": [
            "7/7 [==============================] - 0s 3ms/step - loss: 0.0219 - accuracy: 0.9650\n",
            "Model loss on the test set: 0.021894803270697594\n",
            "Model accuracy on the test set: 96.50%\n"
          ]
        }
      ]
    },
    {
      "cell_type": "markdown",
      "source": [
        "We will make a confusion matrix that shows the correct and incorrect predictions "
      ],
      "metadata": {
        "id": "aGpFuRqLR-vs"
      }
    },
    {
      "cell_type": "code",
      "source": [
        "# Create a confusion matrix \n",
        "from sklearn.metrics import confusion_matrix\n",
        "\n",
        "# Make predictions \n",
        "y_preds = model_7.predict(X_test)\n",
        "\n",
        "# Create a confusion matrix \n",
        "confusion_matrix(y_test, y_preds.round())"
      ],
      "metadata": {
        "colab": {
          "base_uri": "https://localhost:8080/"
        },
        "id": "FPOb3PLNVDY8",
        "outputId": "22910cdb-2edd-44cb-f2ef-e17253eb8ae0"
      },
      "execution_count": null,
      "outputs": [
        {
          "output_type": "execute_result",
          "data": {
            "text/plain": [
              "array([[94,  7],\n",
              "       [ 0, 99]])"
            ]
          },
          "metadata": {},
          "execution_count": 42
        }
      ]
    },
    {
      "cell_type": "code",
      "source": [
        "# Note: the confusion matrix code we're about to write is a remix of scikit-learn's plot confusion matrix \n",
        "\n",
        "import itertools \n",
        "\n",
        "figsize = (10,10)\n",
        "\n",
        "# Create the confusion matrix \n",
        "cm = confusion_matrix(y_test, tf.round(y_preds))\n",
        "cm_norm = cm.astype(\"float\") / cm.sum(axis=1)[:, np.newaxis] #Normalize our confusion matrix \n",
        "n_classes = cm.shape[0]\n",
        "\n",
        "\n",
        "# Let's prettify it \n",
        "fig, ax = plt.subplots(figsize=figsize)\n",
        "\n",
        "# Create a matrix plot \n",
        "cax = ax.matshow(cm, cmap=plt.cm.Blues)\n",
        "fig.colorbar(cax)\n",
        "\n",
        "# Creae classes \n",
        "classes= False \n",
        "\n",
        "if classes:\n",
        "  labels = classes\n",
        "else:\n",
        "  labels=np.arange(cm.shape[0])\n",
        "\n",
        "# Label the axes \n",
        "ax.set(title=\"Confusion Matrix\",\n",
        "       xlabel=\"Predicted Label\",\n",
        "       ylabel=\"True label\",\n",
        "       xticks=np.arange(n_classes),\n",
        "       yticks=np.arange(n_classes),\n",
        "       xticklabels=labels,\n",
        "       yticklabels=labels)\n",
        "\n",
        "# Set x-axis labels to bottom \n",
        "ax.xaxis.set_label_position(\"bottom\")\n",
        "ax.xaxis.tick_bottom()\n",
        "\n",
        "#Adjust label size \n",
        "ax.yaxis.label.set_size(20)\n",
        "ax.xaxis.label.set_size(20)\n",
        "ax.title.set_size(20)\n",
        "\n",
        "#Set threshold for different colors \n",
        "threshold = (cm.max() + cm.min()) / 2.\n",
        "\n",
        "#Plot the text on each cell \n",
        "for i, j in itertools.product(range(cm.shape[0]), range(cm.shape[1])):\n",
        "  plt.text(j, i, f\"{cm[i,j]} ({cm_norm[i, j]*100:.1f})%\",\n",
        "           horizontalalignment=\"center\",\n",
        "           color=\"black\" if cm[i, j] < threshold else \"white\", \n",
        "           size=15)\n"
      ],
      "metadata": {
        "colab": {
          "base_uri": "https://localhost:8080/",
          "height": 580
        },
        "id": "RenyjkVuVmtn",
        "outputId": "0c5dbabd-92e5-4dc8-b596-6a1257982cba"
      },
      "execution_count": null,
      "outputs": [
        {
          "output_type": "display_data",
          "data": {
            "text/plain": [
              "<Figure size 720x720 with 2 Axes>"
            ],
            "image/png": "[encoded data removed]"
          },
          "metadata": {
            "needs_background": "light"
          }
        }
      ]
    },
    {
      "cell_type": "markdown",
      "source": [
        "## Working with a larger example (multiclass classification)\n",
        "When we work with more than two classes it's known as a **multi-class classification** \n",
        "* This means if you have more than 2 different classes, it's multi-class classification \n",
        "To practice multiclass classification, we're going to bui a neural network to classify images of different items for clothing.  \n"
      ],
      "metadata": {
        "id": "xfgne13uZVIZ"
      }
    },
    {
      "cell_type": "code",
      "source": [
        "import tensorflow as tf\n",
        "from tensorflow.keras.datasets import fashion_mnist \n",
        "\n",
        "# The data has already been sorted into training and test sets for us \n",
        "(train_data, train_labels), (test_data, test_labels) = fashion_mnist.load_data()"
      ],
      "metadata": {
        "colab": {
          "base_uri": "https://localhost:8080/"
        },
        "id": "R3bCw7c-bWv6",
        "outputId": "ebec729d-420a-4220-c7e2-0eaf1381890d"
      },
      "execution_count": 1,
      "outputs": [
        {
          "output_type": "stream",
          "name": "stdout",
          "text": [
            "Downloading data from https://storage.googleapis.com/tensorflow/tf-keras-datasets/train-labels-idx1-ubyte.gz\n",
            "32768/29515 [=================================] - 0s 0us/step\n",
            "40960/29515 [=========================================] - 0s 0us/step\n",
            "Downloading data from https://storage.googleapis.com/tensorflow/tf-keras-datasets/train-images-idx3-ubyte.gz\n",
            "26427392/26421880 [==============================] - 0s 0us/step\n",
            "26435584/26421880 [==============================] - 0s 0us/step\n",
            "Downloading data from https://storage.googleapis.com/tensorflow/tf-keras-datasets/t10k-labels-idx1-ubyte.gz\n",
            "16384/5148 [===============================================================================================] - 0s 0us/step\n",
            "Downloading data from https://storage.googleapis.com/tensorflow/tf-keras-datasets/t10k-images-idx3-ubyte.gz\n",
            "4423680/4422102 [==============================] - 0s 0us/step\n",
            "4431872/4422102 [==============================] - 0s 0us/step\n"
          ]
        }
      ]
    },
    {
      "cell_type": "code",
      "source": [
        "# Show the first training example \n",
        "print(f\"Training example:\\n{train_data[0]}\")\n",
        "print(f\"Training label:\\n {train_labels[0]}\")"
      ],
      "metadata": {
        "colab": {
          "base_uri": "https://localhost:8080/"
        },
        "id": "n3SgZMK0d_d8",
        "outputId": "915425f0-b231-47b4-d36a-e0a70570cb2d"
      },
      "execution_count": 2,
      "outputs": [
        {
          "output_type": "stream",
          "name": "stdout",
          "text": [
            "Training example:\n",
            "[[  0   0   0   0   0   0   0   0   0   0   0   0   0   0   0   0   0   0\n",
            "    0   0   0   0   0   0   0   0   0   0]\n",
            " [  0   0   0   0   0   0   0   0   0   0   0   0   0   0   0   0   0   0\n",
            "    0   0   0   0   0   0   0   0   0   0]\n",
            " [  0   0   0   0   0   0   0   0   0   0   0   0   0   0   0   0   0   0\n",
            "    0   0   0   0   0   0   0   0   0   0]\n",
            " [  0   0   0   0   0   0   0   0   0   0   0   0   1   0   0  13  73   0\n",
            "    0   1   4   0   0   0   0   1   1   0]\n",
            " [  0   0   0   0   0   0   0   0   0   0   0   0   3   0  36 136 127  62\n",
            "   54   0   0   0   1   3   4   0   0   3]\n",
            " [  0   0   0   0   0   0   0   0   0   0   0   0   6   0 102 204 176 134\n",
            "  144 123  23   0   0   0   0  12  10   0]\n",
            " [  0   0   0   0   0   0   0   0   0   0   0   0   0   0 155 236 207 178\n",
            "  107 156 161 109  64  23  77 130  72  15]\n",
            " [  0   0   0   0   0   0   0   0   0   0   0   1   0  69 207 223 218 216\n",
            "  216 163 127 121 122 146 141  88 172  66]\n",
            " [  0   0   0   0   0   0   0   0   0   1   1   1   0 200 232 232 233 229\n",
            "  223 223 215 213 164 127 123 196 229   0]\n",
            " [  0   0   0   0   0   0   0   0   0   0   0   0   0 183 225 216 223 228\n",
            "  235 227 224 222 224 221 223 245 173   0]\n",
            " [  0   0   0   0   0   0   0   0   0   0   0   0   0 193 228 218 213 198\n",
            "  180 212 210 211 213 223 220 243 202   0]\n",
            " [  0   0   0   0   0   0   0   0   0   1   3   0  12 219 220 212 218 192\n",
            "  169 227 208 218 224 212 226 197 209  52]\n",
            " [  0   0   0   0   0   0   0   0   0   0   6   0  99 244 222 220 218 203\n",
            "  198 221 215 213 222 220 245 119 167  56]\n",
            " [  0   0   0   0   0   0   0   0   0   4   0   0  55 236 228 230 228 240\n",
            "  232 213 218 223 234 217 217 209  92   0]\n",
            " [  0   0   1   4   6   7   2   0   0   0   0   0 237 226 217 223 222 219\n",
            "  222 221 216 223 229 215 218 255  77   0]\n",
            " [  0   3   0   0   0   0   0   0   0  62 145 204 228 207 213 221 218 208\n",
            "  211 218 224 223 219 215 224 244 159   0]\n",
            " [  0   0   0   0  18  44  82 107 189 228 220 222 217 226 200 205 211 230\n",
            "  224 234 176 188 250 248 233 238 215   0]\n",
            " [  0  57 187 208 224 221 224 208 204 214 208 209 200 159 245 193 206 223\n",
            "  255 255 221 234 221 211 220 232 246   0]\n",
            " [  3 202 228 224 221 211 211 214 205 205 205 220 240  80 150 255 229 221\n",
            "  188 154 191 210 204 209 222 228 225   0]\n",
            " [ 98 233 198 210 222 229 229 234 249 220 194 215 217 241  65  73 106 117\n",
            "  168 219 221 215 217 223 223 224 229  29]\n",
            " [ 75 204 212 204 193 205 211 225 216 185 197 206 198 213 240 195 227 245\n",
            "  239 223 218 212 209 222 220 221 230  67]\n",
            " [ 48 203 183 194 213 197 185 190 194 192 202 214 219 221 220 236 225 216\n",
            "  199 206 186 181 177 172 181 205 206 115]\n",
            " [  0 122 219 193 179 171 183 196 204 210 213 207 211 210 200 196 194 191\n",
            "  195 191 198 192 176 156 167 177 210  92]\n",
            " [  0   0  74 189 212 191 175 172 175 181 185 188 189 188 193 198 204 209\n",
            "  210 210 211 188 188 194 192 216 170   0]\n",
            " [  2   0   0   0  66 200 222 237 239 242 246 243 244 221 220 193 191 179\n",
            "  182 182 181 176 166 168  99  58   0   0]\n",
            " [  0   0   0   0   0   0   0  40  61  44  72  41  35   0   0   0   0   0\n",
            "    0   0   0   0   0   0   0   0   0   0]\n",
            " [  0   0   0   0   0   0   0   0   0   0   0   0   0   0   0   0   0   0\n",
            "    0   0   0   0   0   0   0   0   0   0]\n",
            " [  0   0   0   0   0   0   0   0   0   0   0   0   0   0   0   0   0   0\n",
            "    0   0   0   0   0   0   0   0   0   0]]\n",
            "Training label:\n",
            " 9\n"
          ]
        }
      ]
    },
    {
      "cell_type": "code",
      "source": [
        "# Check the shape of a single example \n",
        "train_data[0].shape, train_labels[0].shape"
      ],
      "metadata": {
        "colab": {
          "base_uri": "https://localhost:8080/"
        },
        "id": "5D93Yf_DeVfY",
        "outputId": "a85974c4-b895-41ae-d824-d6b1ef6970b3"
      },
      "execution_count": 3,
      "outputs": [
        {
          "output_type": "execute_result",
          "data": {
            "text/plain": [
              "((28, 28), ())"
            ]
          },
          "metadata": {},
          "execution_count": 3
        }
      ]
    },
    {
      "cell_type": "code",
      "source": [
        "# Plot a single sample \n",
        "import matplotlib.pyplot as plt \n",
        "plt.imshow(train_data[7])\n"
      ],
      "metadata": {
        "colab": {
          "base_uri": "https://localhost:8080/",
          "height": 282
        },
        "id": "v84ulzqGpOOZ",
        "outputId": "c7ba8003-88df-4c6f-a889-e3ae6c22c5da"
      },
      "execution_count": 4,
      "outputs": [
        {
          "output_type": "execute_result",
          "data": {
            "text/plain": [
              "<matplotlib.image.AxesImage at 0x7f6f3bd820d0>"
            ]
          },
          "metadata": {},
          "execution_count": 4
        },
        {
          "output_type": "display_data",
          "data": {
            "text/plain": [
              "<Figure size 432x288 with 1 Axes>"
            ],
            "image/png": "[encoded data removed]"
          },
          "metadata": {
            "needs_background": "light"
          }
        }
      ]
    },
    {
      "cell_type": "code",
      "source": [
        "# Create a small list so we can index onto our training labels so the're easy to understand\n",
        "class_names = [\"T-shirt/top\", \"Trouser\", \"Pullover\", \"Dress\", \"Coat\",\t\"Sandal\", \"Shirt\", \"Sneaker\", \"Bag\", \"Ankle boot\"]\t"
      ],
      "metadata": {
        "id": "IEUGgPzNpdYp"
      },
      "execution_count": 5,
      "outputs": []
    },
    {
      "cell_type": "code",
      "source": [
        "len(class_names)"
      ],
      "metadata": {
        "colab": {
          "base_uri": "https://localhost:8080/"
        },
        "id": "LfxrcL70qjYR",
        "outputId": "b6c15346-53c5-4045-ca53-413204f7ab68"
      },
      "execution_count": 6,
      "outputs": [
        {
          "output_type": "execute_result",
          "data": {
            "text/plain": [
              "10"
            ]
          },
          "metadata": {},
          "execution_count": 6
        }
      ]
    },
    {
      "cell_type": "code",
      "source": [
        "# Plot an example image and it's label \n",
        "index_of_choice = 10\n",
        "plt.imshow(train_data[index_of_choice], cmap=plt.cm.binary)\n",
        "plt.title(class_names[train_labels[index_of_choice]])"
      ],
      "metadata": {
        "colab": {
          "base_uri": "https://localhost:8080/",
          "height": 298
        },
        "id": "1Z5GRjbyqo7_",
        "outputId": "6381b23d-6396-4064-9ae0-4e866cc95112"
      },
      "execution_count": 7,
      "outputs": [
        {
          "output_type": "execute_result",
          "data": {
            "text/plain": [
              "Text(0.5, 1.0, 'T-shirt/top')"
            ]
          },
          "metadata": {},
          "execution_count": 7
        },
        {
          "output_type": "display_data",
          "data": {
            "text/plain": [
              "<Figure size 432x288 with 1 Axes>"
            ],
            "image/png": "[encoded data removed]"
          },
          "metadata": {
            "needs_background": "light"
          }
        }
      ]
    },
    {
      "cell_type": "code",
      "source": [
        "# Plot multiple randon images of fashin MNIST \n",
        "import random \n",
        "plt.figure(figsize=(7, 7))\n",
        "for i in range(9):\n",
        "  ax = plt.subplot(3, 3, i+1)\n",
        "  rand_index =  random.choice(range(len(train_data)))\n",
        "  plt.imshow(train_data[rand_index], cmap= plt.cm.binary)\n",
        "  plt.title(class_names[train_labels[rand_index]])\n",
        "  plt.axis(False)"
      ],
      "metadata": {
        "colab": {
          "base_uri": "https://localhost:8080/",
          "height": 427
        },
        "id": "VhHkgKkoq7ay",
        "outputId": "3fbdd4e9-f6b9-42e6-a54b-2c3db840d5d1"
      },
      "execution_count": 8,
      "outputs": [
        {
          "output_type": "display_data",
          "data": {
            "text/plain": [
              "<Figure size 504x504 with 9 Axes>"
            ],
            "image/png": "[encoded data removed]"
          },
          "metadata": {
            "needs_background": "light"
          }
        }
      ]
    },
    {
      "cell_type": "markdown",
      "source": [
        "## Building a multi-class classification model \n",
        "For our multi-class classification model, we can use a similar architecture to our binary clasifiers, however, we're going to have to tweak a few things: \n",
        "* Input shape = 28 x 28 (the shape of one image)\n",
        "* Output shape = 10 (one per class of clothing)\n",
        "* Loss function =tf.keras.losses.CategoricalCrossentropy () this is if your labels are one-hot encoded\n",
        "* Loss function=tf.keras.losses.SparseCategoricalCrossentropy if the labels are numbers \n",
        "* Outpot layer actiation = Softmax (not simgoid) \n"
      ],
      "metadata": {
        "id": "oe5QmitVssxw"
      }
    },
    {
      "cell_type": "code",
      "source": [
        "# Set random seed \n",
        "tf.random.set_seed(42)\n",
        "\n",
        "# Create the model \n",
        "model_8 = tf.keras.Sequential ([\n",
        "                                tf.keras.layers.Flatten(input_shape= (28,28)),\n",
        "                                tf.keras.layers.Dense(4, activation=\"relu\"),\n",
        "                                tf.keras.layers.Dense(4, activation=\"relu\"),\n",
        "                                tf.keras.layers.Dense(10, activation=\"softmax\")                                \n",
        "])\n",
        "\n",
        "# Compile the model \n",
        "model_8.compile(loss=tf.keras.losses.SparseCategoricalCrossentropy(),\n",
        "                optimizer = tf.keras.optimizers.Adam(),\n",
        "                metrics = [\"accuracy\"])\n",
        "\n",
        "# Fit the model \n",
        "non_norm_history= model_8.fit(train_data,\n",
        "                              train_labels,\n",
        "                              epochs=10,\n",
        "                              validation_data=(test_data, test_labels))\n",
        "\n"
      ],
      "metadata": {
        "colab": {
          "base_uri": "https://localhost:8080/"
        },
        "id": "MOFceafNtR0y",
        "outputId": "1c2cffb1-e86f-442e-8fe2-003cc14ede3a"
      },
      "execution_count": 16,
      "outputs": [
        {
          "output_type": "stream",
          "name": "stdout",
          "text": [
            "Epoch 1/10\n",
            "1875/1875 [==============================] - 4s 2ms/step - loss: 2.1671 - accuracy: 0.1606 - val_loss: 1.7959 - val_accuracy: 0.2046\n",
            "Epoch 2/10\n",
            "1875/1875 [==============================] - 4s 2ms/step - loss: 1.7066 - accuracy: 0.2509 - val_loss: 1.6567 - val_accuracy: 0.2805\n",
            "Epoch 3/10\n",
            "1875/1875 [==============================] - 4s 2ms/step - loss: 1.6321 - accuracy: 0.2806 - val_loss: 1.6094 - val_accuracy: 0.2857\n",
            "Epoch 4/10\n",
            "1875/1875 [==============================] - 4s 2ms/step - loss: 1.6052 - accuracy: 0.2833 - val_loss: 1.6041 - val_accuracy: 0.2859\n",
            "Epoch 5/10\n",
            "1875/1875 [==============================] - 4s 2ms/step - loss: 1.5975 - accuracy: 0.2862 - val_loss: 1.6064 - val_accuracy: 0.2756\n",
            "Epoch 6/10\n",
            "1875/1875 [==============================] - 3s 2ms/step - loss: 1.5950 - accuracy: 0.2920 - val_loss: 1.5747 - val_accuracy: 0.2994\n",
            "Epoch 7/10\n",
            "1875/1875 [==============================] - 4s 2ms/step - loss: 1.5775 - accuracy: 0.3040 - val_loss: 1.6030 - val_accuracy: 0.3000\n",
            "Epoch 8/10\n",
            "1875/1875 [==============================] - 4s 2ms/step - loss: 1.5708 - accuracy: 0.3175 - val_loss: 1.5635 - val_accuracy: 0.3315\n",
            "Epoch 9/10\n",
            "1875/1875 [==============================] - 4s 2ms/step - loss: 1.5638 - accuracy: 0.3280 - val_loss: 1.5534 - val_accuracy: 0.3334\n",
            "Epoch 10/10\n",
            "1875/1875 [==============================] - 4s 2ms/step - loss: 1.5432 - accuracy: 0.3346 - val_loss: 1.5390 - val_accuracy: 0.3549\n"
          ]
        }
      ]
    },
    {
      "cell_type": "code",
      "source": [
        "# Check the model summary \n",
        "model_8.summary()\n",
        "\n"
      ],
      "metadata": {
        "colab": {
          "base_uri": "https://localhost:8080/"
        },
        "id": "rGe6vTNTt5pi",
        "outputId": "b86bd26f-cbce-4d98-f52e-dbf82d539ae9"
      },
      "execution_count": 10,
      "outputs": [
        {
          "output_type": "stream",
          "name": "stdout",
          "text": [
            "Model: \"sequential\"\n",
            "_________________________________________________________________\n",
            " Layer (type)                Output Shape              Param #   \n",
            "=================================================================\n",
            " flatten (Flatten)           (None, 784)               0         \n",
            "                                                                 \n",
            " dense (Dense)               (None, 4)                 3140      \n",
            "                                                                 \n",
            " dense_1 (Dense)             (None, 4)                 20        \n",
            "                                                                 \n",
            " dense_2 (Dense)             (None, 10)                50        \n",
            "                                                                 \n",
            "=================================================================\n",
            "Total params: 3,210\n",
            "Trainable params: 3,210\n",
            "Non-trainable params: 0\n",
            "_________________________________________________________________\n"
          ]
        }
      ]
    },
    {
      "cell_type": "code",
      "source": [
        "# Check the min and max values of the training data \n",
        "train_data.min(), train_data.max()"
      ],
      "metadata": {
        "colab": {
          "base_uri": "https://localhost:8080/"
        },
        "id": "6s8TcyB7yVNj",
        "outputId": "44c5916b-ddb4-4156-b3eb-e5f57391ef74"
      },
      "execution_count": 11,
      "outputs": [
        {
          "output_type": "execute_result",
          "data": {
            "text/plain": [
              "(0, 255)"
            ]
          },
          "metadata": {},
          "execution_count": 11
        }
      ]
    },
    {
      "cell_type": "markdown",
      "source": [
        "Neuraal networks prefer to work with scaled (or normalized) data, this means work with numbers between 0 and 1 "
      ],
      "metadata": {
        "id": "jt7QgG9NyuKr"
      }
    },
    {
      "cell_type": "code",
      "source": [
        "# We can get our training and testing data between 0 and 1 by dividing by the maximum \n",
        "train_data_norm = train_data /255.0 \n",
        "test_data_norm = test_data /255.0\n",
        "\n",
        "# Check the min and max values of the scaled training data \n",
        "train_data_norm.min(), train_data_norm.max()"
      ],
      "metadata": {
        "colab": {
          "base_uri": "https://localhost:8080/"
        },
        "id": "DrRGD5ezy7hk",
        "outputId": "a8fe753c-c3e5-4c3f-a965-96ed5d6fba4b"
      },
      "execution_count": 12,
      "outputs": [
        {
          "output_type": "execute_result",
          "data": {
            "text/plain": [
              "(0.0, 1.0)"
            ]
          },
          "metadata": {},
          "execution_count": 12
        }
      ]
    },
    {
      "cell_type": "code",
      "source": [
        "# Now we will work with a model that is normalized to find patterns in it \n",
        "\n",
        "# Set random seed \n",
        "tf.random.set_seed(42)\n",
        "\n",
        "# Create the model \n",
        "model_9 = tf.keras.Sequential ([\n",
        "                                tf.keras.layers.Flatten(input_shape= (28,28)),\n",
        "                                tf.keras.layers.Dense(4, activation=\"relu\"),\n",
        "                                tf.keras.layers.Dense(4, activation=\"relu\"),\n",
        "                                tf.keras.layers.Dense(10, activation=\"softmax\")                                \n",
        "])\n",
        "\n",
        "# Compile the model \n",
        "model_9.compile(loss=tf.keras.losses.SparseCategoricalCrossentropy(),\n",
        "                optimizer = tf.keras.optimizers.Adam(),\n",
        "                metrics = [\"accuracy\"])\n",
        "\n",
        "# Fit the model \n",
        "norm_history= model_9.fit(train_data_norm,\n",
        "                              train_labels,\n",
        "                              epochs=15,\n",
        "                              validation_data=(test_data_norm, test_labels))"
      ],
      "metadata": {
        "colab": {
          "base_uri": "https://localhost:8080/"
        },
        "id": "tFSYS7kEzU-k",
        "outputId": "6da9a494-7501-46b1-d75b-198eec885f2a"
      },
      "execution_count": 14,
      "outputs": [
        {
          "output_type": "stream",
          "name": "stdout",
          "text": [
            "Epoch 1/15\n",
            "1875/1875 [==============================] - 4s 2ms/step - loss: 1.0348 - accuracy: 0.6474 - val_loss: 0.6937 - val_accuracy: 0.7617\n",
            "Epoch 2/15\n",
            "1875/1875 [==============================] - 4s 2ms/step - loss: 0.6376 - accuracy: 0.7757 - val_loss: 0.6400 - val_accuracy: 0.7820\n",
            "Epoch 3/15\n",
            "1875/1875 [==============================] - 4s 2ms/step - loss: 0.5942 - accuracy: 0.7914 - val_loss: 0.6247 - val_accuracy: 0.7783\n",
            "Epoch 4/15\n",
            "1875/1875 [==============================] - 4s 2ms/step - loss: 0.5750 - accuracy: 0.7979 - val_loss: 0.6078 - val_accuracy: 0.7881\n",
            "Epoch 5/15\n",
            "1875/1875 [==============================] - 4s 2ms/step - loss: 0.5641 - accuracy: 0.8006 - val_loss: 0.6169 - val_accuracy: 0.7881\n",
            "Epoch 6/15\n",
            "1875/1875 [==============================] - 4s 2ms/step - loss: 0.5544 - accuracy: 0.8043 - val_loss: 0.5855 - val_accuracy: 0.7951\n",
            "Epoch 7/15\n",
            "1875/1875 [==============================] - 3s 2ms/step - loss: 0.5488 - accuracy: 0.8063 - val_loss: 0.6097 - val_accuracy: 0.7836\n",
            "Epoch 8/15\n",
            "1875/1875 [==============================] - 3s 2ms/step - loss: 0.5428 - accuracy: 0.8077 - val_loss: 0.5787 - val_accuracy: 0.7971\n",
            "Epoch 9/15\n",
            "1875/1875 [==============================] - 4s 2ms/step - loss: 0.5373 - accuracy: 0.8097 - val_loss: 0.5698 - val_accuracy: 0.7977\n",
            "Epoch 10/15\n",
            "1875/1875 [==============================] - 4s 2ms/step - loss: 0.5360 - accuracy: 0.8124 - val_loss: 0.5658 - val_accuracy: 0.8014\n",
            "Epoch 11/15\n",
            "1875/1875 [==============================] - 4s 2ms/step - loss: 0.5311 - accuracy: 0.8130 - val_loss: 0.5714 - val_accuracy: 0.8002\n",
            "Epoch 12/15\n",
            "1875/1875 [==============================] - 4s 2ms/step - loss: 0.5284 - accuracy: 0.8132 - val_loss: 0.5626 - val_accuracy: 0.8027\n",
            "Epoch 13/15\n",
            "1875/1875 [==============================] - 4s 2ms/step - loss: 0.5271 - accuracy: 0.8138 - val_loss: 0.5619 - val_accuracy: 0.8041\n",
            "Epoch 14/15\n",
            "1875/1875 [==============================] - 4s 2ms/step - loss: 0.5249 - accuracy: 0.8143 - val_loss: 0.5718 - val_accuracy: 0.7991\n",
            "Epoch 15/15\n",
            "1875/1875 [==============================] - 3s 2ms/step - loss: 0.5231 - accuracy: 0.8148 - val_loss: 0.5706 - val_accuracy: 0.8024\n"
          ]
        }
      ]
    },
    {
      "cell_type": "markdown",
      "source": [
        "⚡**Note:** The neural networks algorithm works better with normalized data "
      ],
      "metadata": {
        "id": "7vxD-rjC0K4q"
      }
    },
    {
      "cell_type": "code",
      "source": [
        "import pandas as pd \n",
        "# Plot non-normalized data loss curves \n",
        "pd.DataFrame(non_norm_history.history).plot(title=\"Non-normalized data\")\n",
        "#Plotnormalized data loss curves \n",
        "pd.DataFrame(norm_history.history).plot(title=\"Normalized data\")"
      ],
      "metadata": {
        "id": "f4SGopOUz2ON",
        "colab": {
          "base_uri": "https://localhost:8080/",
          "height": 562
        },
        "outputId": "b7ad2feb-7bee-42ac-cfce-6a68b00adafa"
      },
      "execution_count": 17,
      "outputs": [
        {
          "output_type": "execute_result",
          "data": {
            "text/plain": [
              "<matplotlib.axes._subplots.AxesSubplot at 0x7f6f32f5ef10>"
            ]
          },
          "metadata": {},
          "execution_count": 17
        },
        {
          "output_type": "display_data",
          "data": {
            "text/plain": [
              "<Figure size 432x288 with 1 Axes>"
            ],
            "image/png": "[encoded data removed]"
          },
          "metadata": {
            "needs_background": "light"
          }
        },
        {
          "output_type": "display_data",
          "data": {
            "text/plain": [
              "<Figure size 432x288 with 1 Axes>"
            ],
            "image/png": "[encoded data removed]"
          },
          "metadata": {
            "needs_background": "light"
          }
        }
      ]
    },
    {
      "cell_type": "markdown",
      "source": [
        "⚡**Note:** The same model with sligthly different data can produce different results. So when comparing models it's important to compare in the same architecture and different data or same data but different architecture"
      ],
      "metadata": {
        "id": "BLzWTNEPYPph"
      }
    },
    {
      "cell_type": "markdown",
      "source": [
        "## Findind the ideal learning rate "
      ],
      "metadata": {
        "id": "ZPp4SxM2YOxj"
      }
    },
    {
      "cell_type": "code",
      "source": [
        "# Set random seed \n",
        "tf.random.set_seed(42)\n",
        "\n",
        "# Create the model \n",
        "model_10 = tf.keras.Sequential ([\n",
        "                                tf.keras.layers.Flatten(input_shape= (28,28)),\n",
        "                                tf.keras.layers.Dense(4, activation=\"relu\"),\n",
        "                                tf.keras.layers.Dense(4, activation=\"relu\"),\n",
        "                                tf.keras.layers.Dense(10, activation=\"softmax\")                                \n",
        "])\n",
        "\n",
        "# Compile the model \n",
        "model_10.compile(loss=tf.keras.losses.SparseCategoricalCrossentropy(),\n",
        "                optimizer = tf.keras.optimizers.Adam(),\n",
        "                metrics = [\"accuracy\"])\n",
        "\n",
        "# Create the learninr rate callback \n",
        "lr_scheduler = tf.keras.callbacks.LearningRateScheduler(lambda epoch:  1e-3 * 10 ** (epoch/20) )\n",
        "\n",
        "# Fit the model \n",
        "find_lr_history = model_10.fit(train_data_norm,\n",
        "                              train_labels,\n",
        "                              epochs=40,\n",
        "                              validation_data=(test_data_norm, test_labels),\n",
        "                              callbacks = [lr_scheduler])"
      ],
      "metadata": {
        "colab": {
          "base_uri": "https://localhost:8080/"
        },
        "id": "zmxigbsnXnv1",
        "outputId": "61f6f390-d940-42d9-b310-58429abdb4d7"
      },
      "execution_count": 22,
      "outputs": [
        {
          "output_type": "stream",
          "name": "stdout",
          "text": [
            "Epoch 1/40\n",
            "1875/1875 [==============================] - 4s 2ms/step - loss: 1.0348 - accuracy: 0.6474 - val_loss: 0.6937 - val_accuracy: 0.7617 - lr: 0.0010\n",
            "Epoch 2/40\n",
            "1875/1875 [==============================] - 3s 2ms/step - loss: 0.6366 - accuracy: 0.7759 - val_loss: 0.6400 - val_accuracy: 0.7808 - lr: 0.0011\n",
            "Epoch 3/40\n",
            "1875/1875 [==============================] - 3s 2ms/step - loss: 0.5934 - accuracy: 0.7911 - val_loss: 0.6278 - val_accuracy: 0.7770 - lr: 0.0013\n",
            "Epoch 4/40\n",
            "1875/1875 [==============================] - 3s 2ms/step - loss: 0.5749 - accuracy: 0.7969 - val_loss: 0.6122 - val_accuracy: 0.7871 - lr: 0.0014\n",
            "Epoch 5/40\n",
            "1875/1875 [==============================] - 3s 2ms/step - loss: 0.5655 - accuracy: 0.7987 - val_loss: 0.6061 - val_accuracy: 0.7913 - lr: 0.0016\n",
            "Epoch 6/40\n",
            "1875/1875 [==============================] - 4s 2ms/step - loss: 0.5569 - accuracy: 0.8022 - val_loss: 0.5917 - val_accuracy: 0.7940 - lr: 0.0018\n",
            "Epoch 7/40\n",
            "1875/1875 [==============================] - 4s 2ms/step - loss: 0.5542 - accuracy: 0.8036 - val_loss: 0.5898 - val_accuracy: 0.7896 - lr: 0.0020\n",
            "Epoch 8/40\n",
            "1875/1875 [==============================] - 4s 2ms/step - loss: 0.5509 - accuracy: 0.8039 - val_loss: 0.5829 - val_accuracy: 0.7949 - lr: 0.0022\n",
            "Epoch 9/40\n",
            "1875/1875 [==============================] - 3s 2ms/step - loss: 0.5468 - accuracy: 0.8047 - val_loss: 0.6036 - val_accuracy: 0.7833 - lr: 0.0025\n",
            "Epoch 10/40\n",
            "1875/1875 [==============================] - 4s 2ms/step - loss: 0.5478 - accuracy: 0.8058 - val_loss: 0.5736 - val_accuracy: 0.7974 - lr: 0.0028\n",
            "Epoch 11/40\n",
            "1875/1875 [==============================] - 3s 2ms/step - loss: 0.5446 - accuracy: 0.8059 - val_loss: 0.5672 - val_accuracy: 0.8016 - lr: 0.0032\n",
            "Epoch 12/40\n",
            "1875/1875 [==============================] - 3s 2ms/step - loss: 0.5432 - accuracy: 0.8067 - val_loss: 0.5773 - val_accuracy: 0.7950 - lr: 0.0035\n",
            "Epoch 13/40\n",
            "1875/1875 [==============================] - 3s 2ms/step - loss: 0.5425 - accuracy: 0.8056 - val_loss: 0.5775 - val_accuracy: 0.7992 - lr: 0.0040\n",
            "Epoch 14/40\n",
            "1875/1875 [==============================] - 4s 2ms/step - loss: 0.5407 - accuracy: 0.8078 - val_loss: 0.5616 - val_accuracy: 0.8075 - lr: 0.0045\n",
            "Epoch 15/40\n",
            "1875/1875 [==============================] - 3s 2ms/step - loss: 0.5408 - accuracy: 0.8052 - val_loss: 0.5773 - val_accuracy: 0.8039 - lr: 0.0050\n",
            "Epoch 16/40\n",
            "1875/1875 [==============================] - 4s 2ms/step - loss: 0.5437 - accuracy: 0.8058 - val_loss: 0.5682 - val_accuracy: 0.8015 - lr: 0.0056\n",
            "Epoch 17/40\n",
            "1875/1875 [==============================] - 4s 2ms/step - loss: 0.5419 - accuracy: 0.8075 - val_loss: 0.5995 - val_accuracy: 0.7964 - lr: 0.0063\n",
            "Epoch 18/40\n",
            "1875/1875 [==============================] - 3s 2ms/step - loss: 0.5488 - accuracy: 0.8058 - val_loss: 0.5544 - val_accuracy: 0.8087 - lr: 0.0071\n",
            "Epoch 19/40\n",
            "1875/1875 [==============================] - 4s 2ms/step - loss: 0.5506 - accuracy: 0.8042 - val_loss: 0.6068 - val_accuracy: 0.7864 - lr: 0.0079\n",
            "Epoch 20/40\n",
            "1875/1875 [==============================] - 3s 2ms/step - loss: 0.5537 - accuracy: 0.8030 - val_loss: 0.5597 - val_accuracy: 0.8076 - lr: 0.0089\n",
            "Epoch 21/40\n",
            "1875/1875 [==============================] - 3s 2ms/step - loss: 0.5572 - accuracy: 0.8036 - val_loss: 0.5998 - val_accuracy: 0.7934 - lr: 0.0100\n",
            "Epoch 22/40\n",
            "1875/1875 [==============================] - 4s 2ms/step - loss: 0.5615 - accuracy: 0.8013 - val_loss: 0.5756 - val_accuracy: 0.8034 - lr: 0.0112\n",
            "Epoch 23/40\n",
            "1875/1875 [==============================] - 4s 2ms/step - loss: 0.5655 - accuracy: 0.8017 - val_loss: 0.6386 - val_accuracy: 0.7668 - lr: 0.0126\n",
            "Epoch 24/40\n",
            "1875/1875 [==============================] - 3s 2ms/step - loss: 0.5819 - accuracy: 0.7963 - val_loss: 0.6356 - val_accuracy: 0.7869 - lr: 0.0141\n",
            "Epoch 25/40\n",
            "1875/1875 [==============================] - 3s 2ms/step - loss: 0.5810 - accuracy: 0.7977 - val_loss: 0.6481 - val_accuracy: 0.7865 - lr: 0.0158\n",
            "Epoch 26/40\n",
            "1875/1875 [==============================] - 3s 2ms/step - loss: 0.5960 - accuracy: 0.7901 - val_loss: 0.6997 - val_accuracy: 0.7802 - lr: 0.0178\n",
            "Epoch 27/40\n",
            "1875/1875 [==============================] - 4s 2ms/step - loss: 0.6101 - accuracy: 0.7870 - val_loss: 0.6124 - val_accuracy: 0.7917 - lr: 0.0200\n",
            "Epoch 28/40\n",
            "1875/1875 [==============================] - 3s 2ms/step - loss: 0.6178 - accuracy: 0.7846 - val_loss: 0.6137 - val_accuracy: 0.7962 - lr: 0.0224\n",
            "Epoch 29/40\n",
            "1875/1875 [==============================] - 4s 2ms/step - loss: 0.6357 - accuracy: 0.7771 - val_loss: 0.6655 - val_accuracy: 0.7621 - lr: 0.0251\n",
            "Epoch 30/40\n",
            "1875/1875 [==============================] - 4s 2ms/step - loss: 0.6671 - accuracy: 0.7678 - val_loss: 0.7597 - val_accuracy: 0.7194 - lr: 0.0282\n",
            "Epoch 31/40\n",
            "1875/1875 [==============================] - 4s 2ms/step - loss: 0.6836 - accuracy: 0.7585 - val_loss: 0.6958 - val_accuracy: 0.7342 - lr: 0.0316\n",
            "Epoch 32/40\n",
            "1875/1875 [==============================] - 4s 2ms/step - loss: 0.7062 - accuracy: 0.7553 - val_loss: 0.7015 - val_accuracy: 0.7732 - lr: 0.0355\n",
            "Epoch 33/40\n",
            "1875/1875 [==============================] - 3s 2ms/step - loss: 0.7383 - accuracy: 0.7500 - val_loss: 0.7146 - val_accuracy: 0.7706 - lr: 0.0398\n",
            "Epoch 34/40\n",
            "1875/1875 [==============================] - 4s 2ms/step - loss: 0.8033 - accuracy: 0.7300 - val_loss: 0.8987 - val_accuracy: 0.6848 - lr: 0.0447\n",
            "Epoch 35/40\n",
            "1875/1875 [==============================] - 3s 2ms/step - loss: 0.8429 - accuracy: 0.7110 - val_loss: 0.8750 - val_accuracy: 0.7053 - lr: 0.0501\n",
            "Epoch 36/40\n",
            "1875/1875 [==============================] - 3s 2ms/step - loss: 0.8651 - accuracy: 0.7033 - val_loss: 0.8176 - val_accuracy: 0.6989 - lr: 0.0562\n",
            "Epoch 37/40\n",
            "1875/1875 [==============================] - 4s 2ms/step - loss: 0.9203 - accuracy: 0.6837 - val_loss: 0.7876 - val_accuracy: 0.7333 - lr: 0.0631\n",
            "Epoch 38/40\n",
            "1875/1875 [==============================] - 3s 2ms/step - loss: 1.2374 - accuracy: 0.5191 - val_loss: 1.3699 - val_accuracy: 0.4902 - lr: 0.0708\n",
            "Epoch 39/40\n",
            "1875/1875 [==============================] - 4s 2ms/step - loss: 1.1828 - accuracy: 0.5311 - val_loss: 1.1010 - val_accuracy: 0.5819 - lr: 0.0794\n",
            "Epoch 40/40\n",
            "1875/1875 [==============================] - 4s 2ms/step - loss: 1.6640 - accuracy: 0.3303 - val_loss: 1.8528 - val_accuracy: 0.2779 - lr: 0.0891\n"
          ]
        }
      ]
    },
    {
      "cell_type": "code",
      "source": [
        "# Plot the learning rate decay curve \n",
        "\n",
        "import numpy as np \n",
        "import matplotlib.pyplot as plt \n",
        "\n",
        "lrs = 1e-3 * (10**(tf.range(40)/20))\n",
        "plt.semilogx (lrs, find_lr_history.history[\"loss\"])\n",
        "plt.xlabel(\"Learning rate\")\n",
        "plt.ylabel(\"Loss\")\n",
        "plt.title(\"Finding the ideal learning rate\")"
      ],
      "metadata": {
        "colab": {
          "base_uri": "https://localhost:8080/",
          "height": 316
        },
        "id": "qN0B_-7RZmgw",
        "outputId": "db984610-90d0-49bb-b149-e5a63fdbf978"
      },
      "execution_count": 24,
      "outputs": [
        {
          "output_type": "execute_result",
          "data": {
            "text/plain": [
              "Text(0.5, 1.0, 'Finding the ideal learning rate')"
            ]
          },
          "metadata": {},
          "execution_count": 24
        },
        {
          "output_type": "display_data",
          "data": {
            "text/plain": [
              "<Figure size 432x288 with 1 Axes>"
            ],
            "image/png": "[encoded data removed]"
          },
          "metadata": {
            "needs_background": "light"
          }
        }
      ]
    },
    {
      "cell_type": "code",
      "source": [
        "# We've foun the apperantly best learning rate that shows the graph is 10**-3"
      ],
      "metadata": {
        "id": "thyItfcnajT9"
      },
      "execution_count": null,
      "outputs": []
    },
    {
      "cell_type": "code",
      "source": [
        "# Let's refit a model with the ideal learning rate of 0.001\n",
        "\n",
        "# Set random seed \n",
        "tf.random.set_seed(42)\n",
        "\n",
        "# Create the model \n",
        "model_11 = tf.keras.Sequential ([\n",
        "                                tf.keras.layers.Flatten(input_shape= (28,28)),\n",
        "                                tf.keras.layers.Dense(4, activation=\"relu\"),\n",
        "                                tf.keras.layers.Dense(4, activation=\"relu\"),\n",
        "                                tf.keras.layers.Dense(10, activation=\"softmax\")                                \n",
        "])\n",
        "\n",
        "# Compile the model \n",
        "model_11.compile(loss=tf.keras.losses.SparseCategoricalCrossentropy(),\n",
        "                optimizer = tf.keras.optimizers.Adam(),\n",
        "                metrics = [\"accuracy\"])\n",
        "\n",
        "# Fit the model \n",
        "model_11_history = model_11.fit(train_data_norm,\n",
        "                              train_labels,\n",
        "                              epochs=40,\n",
        "                              validation_data=(test_data_norm, test_labels)\n",
        "                              )"
      ],
      "metadata": {
        "colab": {
          "base_uri": "https://localhost:8080/"
        },
        "id": "lxfwFGlFcaNw",
        "outputId": "45e352bf-900b-433b-f94b-d920051d261f"
      },
      "execution_count": 25,
      "outputs": [
        {
          "output_type": "stream",
          "name": "stdout",
          "text": [
            "Epoch 1/40\n",
            "1875/1875 [==============================] - 4s 2ms/step - loss: 1.0348 - accuracy: 0.6474 - val_loss: 0.6937 - val_accuracy: 0.7617\n",
            "Epoch 2/40\n",
            "1875/1875 [==============================] - 4s 2ms/step - loss: 0.6376 - accuracy: 0.7757 - val_loss: 0.6400 - val_accuracy: 0.7820\n",
            "Epoch 3/40\n",
            "1875/1875 [==============================] - 4s 2ms/step - loss: 0.5942 - accuracy: 0.7914 - val_loss: 0.6247 - val_accuracy: 0.7783\n",
            "Epoch 4/40\n",
            "1875/1875 [==============================] - 4s 2ms/step - loss: 0.5750 - accuracy: 0.7979 - val_loss: 0.6078 - val_accuracy: 0.7881\n",
            "Epoch 5/40\n",
            "1875/1875 [==============================] - 4s 2ms/step - loss: 0.5641 - accuracy: 0.8006 - val_loss: 0.6169 - val_accuracy: 0.7881\n",
            "Epoch 6/40\n",
            "1875/1875 [==============================] - 4s 2ms/step - loss: 0.5544 - accuracy: 0.8043 - val_loss: 0.5855 - val_accuracy: 0.7951\n",
            "Epoch 7/40\n",
            "1875/1875 [==============================] - 4s 2ms/step - loss: 0.5488 - accuracy: 0.8063 - val_loss: 0.6097 - val_accuracy: 0.7836\n",
            "Epoch 8/40\n",
            "1875/1875 [==============================] - 4s 2ms/step - loss: 0.5428 - accuracy: 0.8077 - val_loss: 0.5787 - val_accuracy: 0.7971\n",
            "Epoch 9/40\n",
            "1875/1875 [==============================] - 3s 2ms/step - loss: 0.5373 - accuracy: 0.8097 - val_loss: 0.5698 - val_accuracy: 0.7977\n",
            "Epoch 10/40\n",
            "1875/1875 [==============================] - 4s 2ms/step - loss: 0.5360 - accuracy: 0.8124 - val_loss: 0.5658 - val_accuracy: 0.8014\n",
            "Epoch 11/40\n",
            "1875/1875 [==============================] - 3s 2ms/step - loss: 0.5311 - accuracy: 0.8130 - val_loss: 0.5714 - val_accuracy: 0.8002\n",
            "Epoch 12/40\n",
            "1875/1875 [==============================] - 3s 2ms/step - loss: 0.5284 - accuracy: 0.8132 - val_loss: 0.5626 - val_accuracy: 0.8027\n",
            "Epoch 13/40\n",
            "1875/1875 [==============================] - 4s 2ms/step - loss: 0.5271 - accuracy: 0.8138 - val_loss: 0.5619 - val_accuracy: 0.8041\n",
            "Epoch 14/40\n",
            "1875/1875 [==============================] - 3s 2ms/step - loss: 0.5249 - accuracy: 0.8143 - val_loss: 0.5718 - val_accuracy: 0.7991\n",
            "Epoch 15/40\n",
            "1875/1875 [==============================] - 4s 2ms/step - loss: 0.5231 - accuracy: 0.8148 - val_loss: 0.5706 - val_accuracy: 0.8024\n",
            "Epoch 16/40\n",
            "1875/1875 [==============================] - 3s 2ms/step - loss: 0.5203 - accuracy: 0.8162 - val_loss: 0.5731 - val_accuracy: 0.8023\n",
            "Epoch 17/40\n",
            "1875/1875 [==============================] - 4s 2ms/step - loss: 0.5191 - accuracy: 0.8176 - val_loss: 0.5594 - val_accuracy: 0.8030\n",
            "Epoch 18/40\n",
            "1875/1875 [==============================] - 4s 2ms/step - loss: 0.5176 - accuracy: 0.8157 - val_loss: 0.5582 - val_accuracy: 0.8053\n",
            "Epoch 19/40\n",
            "1875/1875 [==============================] - 4s 2ms/step - loss: 0.5156 - accuracy: 0.8169 - val_loss: 0.5644 - val_accuracy: 0.8007\n",
            "Epoch 20/40\n",
            "1875/1875 [==============================] - 3s 2ms/step - loss: 0.5146 - accuracy: 0.8177 - val_loss: 0.5660 - val_accuracy: 0.8075\n",
            "Epoch 21/40\n",
            "1875/1875 [==============================] - 3s 2ms/step - loss: 0.5125 - accuracy: 0.8197 - val_loss: 0.5684 - val_accuracy: 0.8004\n",
            "Epoch 22/40\n",
            "1875/1875 [==============================] - 4s 2ms/step - loss: 0.5112 - accuracy: 0.8180 - val_loss: 0.5666 - val_accuracy: 0.8029\n",
            "Epoch 23/40\n",
            "1875/1875 [==============================] - 4s 2ms/step - loss: 0.5105 - accuracy: 0.8195 - val_loss: 0.5570 - val_accuracy: 0.8068\n",
            "Epoch 24/40\n",
            "1875/1875 [==============================] - 4s 2ms/step - loss: 0.5101 - accuracy: 0.8177 - val_loss: 0.5565 - val_accuracy: 0.8076\n",
            "Epoch 25/40\n",
            "1875/1875 [==============================] - 4s 2ms/step - loss: 0.5075 - accuracy: 0.8196 - val_loss: 0.5572 - val_accuracy: 0.8048\n",
            "Epoch 26/40\n",
            "1875/1875 [==============================] - 3s 2ms/step - loss: 0.5081 - accuracy: 0.8192 - val_loss: 0.5659 - val_accuracy: 0.8065\n",
            "Epoch 27/40\n",
            "1875/1875 [==============================] - 3s 2ms/step - loss: 0.5058 - accuracy: 0.8206 - val_loss: 0.5587 - val_accuracy: 0.8045\n",
            "Epoch 28/40\n",
            "1875/1875 [==============================] - 3s 2ms/step - loss: 0.5052 - accuracy: 0.8206 - val_loss: 0.5561 - val_accuracy: 0.8077\n",
            "Epoch 29/40\n",
            "1875/1875 [==============================] - 3s 2ms/step - loss: 0.5050 - accuracy: 0.8205 - val_loss: 0.5664 - val_accuracy: 0.8054\n",
            "Epoch 30/40\n",
            "1875/1875 [==============================] - 4s 2ms/step - loss: 0.5024 - accuracy: 0.8213 - val_loss: 0.5575 - val_accuracy: 0.8051\n",
            "Epoch 31/40\n",
            "1875/1875 [==============================] - 3s 2ms/step - loss: 0.5029 - accuracy: 0.8215 - val_loss: 0.5627 - val_accuracy: 0.8033\n",
            "Epoch 32/40\n",
            "1875/1875 [==============================] - 4s 2ms/step - loss: 0.5012 - accuracy: 0.8204 - val_loss: 0.5574 - val_accuracy: 0.8097\n",
            "Epoch 33/40\n",
            "1875/1875 [==============================] - 3s 2ms/step - loss: 0.4998 - accuracy: 0.8219 - val_loss: 0.5774 - val_accuracy: 0.8007\n",
            "Epoch 34/40\n",
            "1875/1875 [==============================] - 4s 2ms/step - loss: 0.4996 - accuracy: 0.8222 - val_loss: 0.5596 - val_accuracy: 0.8073\n",
            "Epoch 35/40\n",
            "1875/1875 [==============================] - 4s 2ms/step - loss: 0.4980 - accuracy: 0.8237 - val_loss: 0.5507 - val_accuracy: 0.8095\n",
            "Epoch 36/40\n",
            "1875/1875 [==============================] - 4s 2ms/step - loss: 0.4959 - accuracy: 0.8245 - val_loss: 0.5515 - val_accuracy: 0.8066\n",
            "Epoch 37/40\n",
            "1875/1875 [==============================] - 4s 2ms/step - loss: 0.4961 - accuracy: 0.8236 - val_loss: 0.5614 - val_accuracy: 0.8000\n",
            "Epoch 38/40\n",
            "1875/1875 [==============================] - 4s 2ms/step - loss: 0.4948 - accuracy: 0.8248 - val_loss: 0.5453 - val_accuracy: 0.8111\n",
            "Epoch 39/40\n",
            "1875/1875 [==============================] - 4s 2ms/step - loss: 0.4942 - accuracy: 0.8242 - val_loss: 0.5580 - val_accuracy: 0.8044\n",
            "Epoch 40/40\n",
            "1875/1875 [==============================] - 4s 2ms/step - loss: 0.4926 - accuracy: 0.8248 - val_loss: 0.5527 - val_accuracy: 0.8057\n"
          ]
        }
      ]
    },
    {
      "cell_type": "markdown",
      "source": [
        "## Evaluation our multi-class classification model \n",
        "To evaluate our multi-class classification model we could: \n",
        "* Evaluate it's preformance using other classification metrics (Such as a confusion matrix).\n",
        "* Asses some of it's predictions (trhough visualizations)\n",
        "* Improve it's results (by training it for longer or changing the architecture)\n",
        "* Save and export it for use in application \n",
        "\n",
        "Let's go through the first two: \n"
      ],
      "metadata": {
        "id": "FpOXQGt-dTgN"
      }
    },
    {
      "cell_type": "code",
      "source": [
        "# Note: the confusion matrix code we're about to write is a remix of scikit-learn's plot confusion matrix \n",
        "\n",
        "import itertools \n",
        "from sklearn.metrics import confusion_matrix\n",
        "\n",
        "\n",
        "\n",
        "def make_confusion_matrix(y_true, y_pred, classes=None, figsize=(10,10), text_size =15):\n",
        "  \n",
        "  # Create the confusion matrix \n",
        "  cm = confusion_matrix(y_true,y_pred)\n",
        "  cm_norm = cm.astype(\"float\") / cm.sum(axis=1)[:, np.newaxis] #Normalize our confusion matrix \n",
        "  n_classes = cm.shape[0]\n",
        "\n",
        "\n",
        "  # Let's prettify it \n",
        "  fig, ax = plt.subplots(figsize=figsize)\n",
        "\n",
        "  # Create a matrix plot \n",
        "  cax = ax.matshow(cm, cmap=plt.cm.Blues)\n",
        "  fig.colorbar(cax)\n",
        "\n",
        "  # Set labels to be classes\n",
        "  if classes:\n",
        "    labels = classes\n",
        "  else:\n",
        "    labels=np.arange(cm.shape[0])\n",
        "\n",
        "  # Label the axes \n",
        "  ax.set(title=\"Confusion Matrix\",\n",
        "        xlabel=\"Predicted Label\",\n",
        "        ylabel=\"True label\",\n",
        "        xticks=np.arange(n_classes),\n",
        "        yticks=np.arange(n_classes),\n",
        "        xticklabels=labels,\n",
        "        yticklabels=labels)\n",
        "\n",
        "  # Set x-axis labels to bottom \n",
        "  ax.xaxis.set_label_position(\"bottom\")\n",
        "  ax.xaxis.tick_bottom()\n",
        "\n",
        "  #Adjust label size \n",
        "  ax.yaxis.label.set_size(text_size)\n",
        "  ax.xaxis.label.set_size(text_size)\n",
        "  ax.title.set_size(text_size)\n",
        "\n",
        "  #Set threshold for different colors \n",
        "  threshold = (cm.max() + cm.min()) / 2.\n",
        "\n",
        "  #Plot the text on each cell \n",
        "  for i, j in itertools.product(range(cm.shape[0]), range(cm.shape[1])):\n",
        "    plt.text(j, i, f\"{cm[i,j]} ({cm_norm[i, j]*100:.1f})%\",\n",
        "            horizontalalignment=\"center\",\n",
        "            color=\"black\" if cm[i, j] < threshold else \"white\", \n",
        "            size=text_size)"
      ],
      "metadata": {
        "id": "xa2YvJDPd9yz"
      },
      "execution_count": 38,
      "outputs": []
    },
    {
      "cell_type": "code",
      "source": [
        "# Make some predictions with our model \n",
        "y_probs = model_11.predict(test_data) # Provs is a short for prediction probabilities \n"
      ],
      "metadata": {
        "id": "JUPdyqK8fPmm"
      },
      "execution_count": 27,
      "outputs": []
    },
    {
      "cell_type": "code",
      "source": [
        "# View the first 5 predictions \n",
        "y_probs[:5]"
      ],
      "metadata": {
        "colab": {
          "base_uri": "https://localhost:8080/"
        },
        "id": "FnG124z0fiWq",
        "outputId": "2fa8ddff-ac95-4d49-f41d-2d4b8a0086af"
      },
      "execution_count": 28,
      "outputs": [
        {
          "output_type": "execute_result",
          "data": {
            "text/plain": [
              "array([[0., 0., 0., 0., 0., 0., 0., 0., 0., 1.],\n",
              "       [0., 0., 1., 0., 0., 0., 0., 0., 0., 0.],\n",
              "       [0., 1., 0., 0., 0., 0., 0., 0., 0., 0.],\n",
              "       [0., 1., 0., 0., 0., 0., 0., 0., 0., 0.],\n",
              "       [0., 0., 0., 0., 0., 0., 1., 0., 0., 0.]], dtype=float32)"
            ]
          },
          "metadata": {},
          "execution_count": 28
        }
      ]
    },
    {
      "cell_type": "markdown",
      "source": [
        "**Note:** Remember to make predictions on the same kind of data your model was trained on (e.g. if your model was trained on normalized data, you'll want to make predictions on normalized data)"
      ],
      "metadata": {
        "id": "y3ggN4DxgJSt"
      }
    },
    {
      "cell_type": "code",
      "source": [
        "y_probs = model_11.predict(test_data_norm) # Provs is a short for prediction probabilities \n"
      ],
      "metadata": {
        "id": "g6tD0ZwOgnMu"
      },
      "execution_count": 30,
      "outputs": []
    },
    {
      "cell_type": "code",
      "source": [
        "# View the first prediction \n",
        "y_probs[0]"
      ],
      "metadata": {
        "colab": {
          "base_uri": "https://localhost:8080/"
        },
        "id": "E2ZtzK_bhAE3",
        "outputId": "38fae40f-6a54-4e4f-8f34-71894e730071"
      },
      "execution_count": 31,
      "outputs": [
        {
          "output_type": "execute_result",
          "data": {
            "text/plain": [
              "array([1.7880183e-10, 8.5933510e-11, 1.4691766e-05, 5.1316181e-07,\n",
              "       1.8115234e-05, 2.9706034e-01, 4.2002629e-08, 4.3864589e-02,\n",
              "       4.0301597e-03, 6.5501159e-01], dtype=float32)"
            ]
          },
          "metadata": {},
          "execution_count": 31
        }
      ]
    },
    {
      "cell_type": "code",
      "source": [
        "# Convert prediction probabilities into integers \n",
        "y_preds = y_probs.argmax(axis=1)\n",
        "\n",
        "# View the first 10 prediction labels \n",
        "y_preds[:10]"
      ],
      "metadata": {
        "colab": {
          "base_uri": "https://localhost:8080/"
        },
        "id": "PpXx8CfqfI32",
        "outputId": "f61a57a7-94fb-474a-9c07-648d8da4bddc"
      },
      "execution_count": 32,
      "outputs": [
        {
          "output_type": "execute_result",
          "data": {
            "text/plain": [
              "array([9, 2, 1, 1, 6, 1, 4, 6, 5, 7])"
            ]
          },
          "metadata": {},
          "execution_count": 32
        }
      ]
    },
    {
      "cell_type": "code",
      "source": [
        "from sklearn.metrics import confusion_matrix\n",
        "confusion_matrix(y_true=test_labels, \n",
        "                 y_pred=y_preds)"
      ],
      "metadata": {
        "colab": {
          "base_uri": "https://localhost:8080/"
        },
        "id": "frUavQGGhVvF",
        "outputId": "f57306a5-f120-450f-d384-e921214a100d"
      },
      "execution_count": 33,
      "outputs": [
        {
          "output_type": "execute_result",
          "data": {
            "text/plain": [
              "array([[833,  13,  11,  54,   3,   2,  73,   0,  11,   0],\n",
              "       [  6, 950,   1,  26,   5,   1,  11,   0,   0,   0],\n",
              "       [ 42,   1, 593,   8, 164,   1, 178,   0,  13,   0],\n",
              "       [ 74,  27,  10, 787,  35,   1,  56,   2,   8,   0],\n",
              "       [  2,   1,  83,  29, 728,   0, 150,   0,   7,   0],\n",
              "       [  0,   1,   0,   0,   0, 941,   0,  34,   3,  21],\n",
              "       [217,   9, 117,  34,  98,   3, 505,   0,  17,   0],\n",
              "       [  0,   0,   0,   0,   0,  70,   0, 905,   0,  25],\n",
              "       [ 16,   1,  32,  19,   5,   9,   8,   5, 905,   0],\n",
              "       [  0,   0,   0,   0,   1,  36,   0,  48,   5, 910]])"
            ]
          },
          "metadata": {},
          "execution_count": 33
        }
      ]
    },
    {
      "cell_type": "code",
      "source": [
        "# Make a prettier confusion matrix \n",
        "make_confusion_matrix(y_true=test_labels,\n",
        "                      y_pred=y_preds,\n",
        "                      classes=class_names,\n",
        "                      figsize=(15,15),\n",
        "                      text_size=10)"
      ],
      "metadata": {
        "colab": {
          "base_uri": "https://localhost:8080/",
          "height": 624
        },
        "id": "rqV2TouKqR4z",
        "outputId": "61531916-76a8-4ba0-a63f-898a7ad1628d"
      },
      "execution_count": 40,
      "outputs": [
        {
          "output_type": "display_data",
          "data": {
            "text/plain": [
              "<Figure size 1080x1080 with 2 Axes>"
            ],
            "image/png": "[encoded data removed]"
          },
          "metadata": {
            "needs_background": "light"
          }
        }
      ]
    },
    {
      "cell_type": "markdown",
      "source": [
        "⚡ **Note:** Often when working with images and other forms of visual data, it's good idea to visualize as much as possible to develop a further understanding of the data and the inputs and outputs of the model \n"
      ],
      "metadata": {
        "id": "C0C9RZTBqokO"
      }
    },
    {
      "cell_type": "code",
      "source": [
        "# Create a function that do the following:\n",
        "# *Plot random image \n",
        "# *Make a prediction on said image \n",
        "# *Label the plot with the truth label & the predicted label \n",
        "\n",
        "import random \n",
        "\n",
        "def plot_random_image(model, images, true_labels, classes):\n",
        "  \"\"\"\n",
        "  Picks a random image, plots it and labels it with a prediction and truth label.\n",
        "  \"\"\"\n",
        "  # Set up random integer \n",
        "  i=random.randint(0, len(images))\n",
        "\n",
        "  # Create predictions and targets \n",
        "  target_image = images[i]\n",
        "  pred_probs = model.predict(target_image.reshape(1, 28, 28))\n",
        "  pred_label = classes[pred_probs.argmax()]\n",
        "  true_label = classes[true_labels[i]]\n",
        "\n",
        "  # Plot the image \n",
        "  plt.imshow(target_image, cmap=plt.cm.binary)\n",
        "\n",
        "  # Changethe color of the titles depending if the prediction is right or wrong \n",
        "  if pred_label == true_label:\n",
        "    color=\"green\"\n",
        "  else:\n",
        "    color=\"red\"\n",
        "\n",
        "  #Add xlabel informati2on (prediction/true label)\n",
        "  plt.xlabel(\"Pred: {} (True: {}) \".format(pred_label,true_label), color=color)"
      ],
      "metadata": {
        "id": "4IQOvnVhrisu"
      },
      "execution_count": 103,
      "outputs": []
    },
    {
      "cell_type": "code",
      "source": [
        "# Check out a random image as well as it's prediction \n",
        "plot_random_image(model=model_11,\n",
        "                  images=test_data_norm,\n",
        "                  true_labels=test_labels,\n",
        "                  classes = class_names)\n"
      ],
      "metadata": {
        "colab": {
          "base_uri": "https://localhost:8080/",
          "height": 279
        },
        "id": "GlqiDX7rsQgy",
        "outputId": "f2f16b6d-1000-4a01-cf4c-e35d0b87c0c6"
      },
      "execution_count": 112,
      "outputs": [
        {
          "output_type": "display_data",
          "data": {
            "text/plain": [
              "<Figure size 432x288 with 1 Axes>"
            ],
            "image/png": "[encoded data removed]"
          },
          "metadata": {
            "needs_background": "light"
          }
        }
      ]
    },
    {
      "cell_type": "markdown",
      "source": [
        "## What patterns is our model learning \n"
      ],
      "metadata": {
        "id": "U0vhF577uPoE"
      }
    },
    {
      "cell_type": "code",
      "source": [
        "# Find the layers of our most recent model \n",
        "model_11.layers"
      ],
      "metadata": {
        "colab": {
          "base_uri": "https://localhost:8080/"
        },
        "id": "vka4CZqM3Xj5",
        "outputId": "514702bf-04b7-44cf-af55-74b75ea499ad"
      },
      "execution_count": 113,
      "outputs": [
        {
          "output_type": "execute_result",
          "data": {
            "text/plain": [
              "[<keras.layers.core.flatten.Flatten at 0x7f6f3480a050>,\n",
              " <keras.layers.core.dense.Dense at 0x7f6f34abd310>,\n",
              " <keras.layers.core.dense.Dense at 0x7f6f3465fad0>,\n",
              " <keras.layers.core.dense.Dense at 0x7f6f3465fe90>]"
            ]
          },
          "metadata": {},
          "execution_count": 113
        }
      ]
    },
    {
      "cell_type": "code",
      "source": [
        "model_11.layers[1]"
      ],
      "metadata": {
        "colab": {
          "base_uri": "https://localhost:8080/"
        },
        "id": "aFf3eA4I3m2b",
        "outputId": "cb348a88-9aa3-4691-d3d3-1ad46320a1de"
      },
      "execution_count": 114,
      "outputs": [
        {
          "output_type": "execute_result",
          "data": {
            "text/plain": [
              "<keras.layers.core.dense.Dense at 0x7f6f34abd310>"
            ]
          },
          "metadata": {},
          "execution_count": 114
        }
      ]
    },
    {
      "cell_type": "code",
      "source": [
        "# Get the patterns of a layer in our network \n",
        "weights, biases = model_11.layers[1].get_weights()\n",
        "\n",
        "# Shapes \n",
        "weights, weights.shape"
      ],
      "metadata": {
        "colab": {
          "base_uri": "https://localhost:8080/"
        },
        "id": "KyL-go2G3sBp",
        "outputId": "80c3a5fa-06ac-4c37-a7f5-bb8646ab3ad6"
      },
      "execution_count": 115,
      "outputs": [
        {
          "output_type": "execute_result",
          "data": {
            "text/plain": [
              "(array([[ 1.5936174 , -0.76976854, -1.5807068 , -1.9991511 ],\n",
              "        [ 0.45609504, -1.2976133 , -0.7302893 , -0.16224061],\n",
              "        [ 1.348038  , -0.19881976, -1.9888442 , -1.2137522 ],\n",
              "        ...,\n",
              "        [-0.22335076,  0.59402996, -0.272626  ,  0.4604269 ],\n",
              "        [-0.21883878,  1.1971763 ,  0.5428994 , -0.5791032 ],\n",
              "        [ 0.37653425, -0.19791599,  0.02285609,  0.24255323]],\n",
              "       dtype=float32), (784, 4))"
            ]
          },
          "metadata": {},
          "execution_count": 115
        }
      ]
    },
    {
      "cell_type": "code",
      "source": [
        "model_11.summary()"
      ],
      "metadata": {
        "colab": {
          "base_uri": "https://localhost:8080/"
        },
        "id": "V-_phP8i361X",
        "outputId": "64ecfac8-7b59-4457-8e99-4768bf83d5b6"
      },
      "execution_count": 117,
      "outputs": [
        {
          "output_type": "stream",
          "name": "stdout",
          "text": [
            "Model: \"sequential_7\"\n",
            "_________________________________________________________________\n",
            " Layer (type)                Output Shape              Param #   \n",
            "=================================================================\n",
            " flatten_7 (Flatten)         (None, 784)               0         \n",
            "                                                                 \n",
            " dense_21 (Dense)            (None, 4)                 3140      \n",
            "                                                                 \n",
            " dense_22 (Dense)            (None, 4)                 20        \n",
            "                                                                 \n",
            " dense_23 (Dense)            (None, 10)                50        \n",
            "                                                                 \n",
            "=================================================================\n",
            "Total params: 3,210\n",
            "Trainable params: 3,210\n",
            "Non-trainable params: 0\n",
            "_________________________________________________________________\n"
          ]
        }
      ]
    },
    {
      "cell_type": "markdown",
      "source": [
        "Now let's check the bias vector \n"
      ],
      "metadata": {
        "id": "-Vn0kRJF5hH2"
      }
    },
    {
      "cell_type": "code",
      "source": [
        "# Bias and biases shapes\n",
        "biases, biases.shape"
      ],
      "metadata": {
        "colab": {
          "base_uri": "https://localhost:8080/"
        },
        "id": "1Zottfq75um8",
        "outputId": "854b3b03-6654-4053-bd66-dbbc4e0300ab"
      },
      "execution_count": 118,
      "outputs": [
        {
          "output_type": "execute_result",
          "data": {
            "text/plain": [
              "(array([ 0.3281791 , -0.01041772, -0.1584291 ,  1.2009073 ], dtype=float32),\n",
              " (4,))"
            ]
          },
          "metadata": {},
          "execution_count": 118
        }
      ]
    },
    {
      "cell_type": "markdown",
      "source": [
        "Every neuron has a biasvector. Each of these is paired with a weight matrix. \n",
        "The bias vector get initialized as zeros (at leas in the case of a TensorFlow Dense layer) \n",
        "The bias vector dictates how much the patterns within the corresponding weights matrix should influence the next layer. "
      ],
      "metadata": {
        "id": "S1Y6BUjx5yGw"
      }
    },
    {
      "cell_type": "code",
      "source": [
        "# Let's check out another way of viewing the deep learning models \n",
        "from tensorflow.keras.utils import plot_model\n",
        "# See the inputs and outputs of each layer \n",
        "plot_model(model_11, show_shapes=True)"
      ],
      "metadata": {
        "colab": {
          "base_uri": "https://localhost:8080/",
          "height": 533
        },
        "id": "FwbEYFX06aAr",
        "outputId": "6310253e-5cab-4950-8c43-b0ce90d2438d"
      },
      "execution_count": 119,
      "outputs": [
        {
          "output_type": "execute_result",
          "data": {
            "text/plain": [
              "<IPython.core.display.Image object>"
            ],
            "image/png": "[encoded data removed]"
          },
          "metadata": {},
          "execution_count": 119
        }
      ]
    },
    {
      "cell_type": "code",
      "source": [
        ""
      ],
      "metadata": {
        "id": "QbRWd_TK7M3F"
      },
      "execution_count": null,
      "outputs": []
    }
  ]
}